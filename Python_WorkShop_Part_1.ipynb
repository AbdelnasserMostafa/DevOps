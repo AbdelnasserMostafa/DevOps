{
 "cells": [
  {
   "cell_type": "markdown",
   "metadata": {},
   "source": [
    "# 1. Vital Python - Math, Strings, Condtionals, and Loops"
   ]
  },
  {
   "cell_type": "markdown",
   "metadata": {},
   "source": [
    "### 1.1 Getting to Know the Order or Operations"
   ]
  },
  {
   "cell_type": "code",
   "execution_count": null,
   "metadata": {},
   "outputs": [],
   "source": [
    "print((100 - 5 ** 3) / 5)\n",
    "print()\n",
    "print(6 + 15 % 4)\n",
    "print()\n",
    "print(2 ** 2 + 24 // 4)"
   ]
  },
  {
   "cell_type": "markdown",
   "metadata": {},
   "source": [
    "### 1.2 Integer and Float Types"
   ]
  },
  {
   "cell_type": "code",
   "execution_count": null,
   "metadata": {},
   "outputs": [],
   "source": [
    "print(type(6))\n",
    "print()\n",
    "print(type(6.0))\n",
    "print()\n",
    "print(5 + 3.14)\n",
    "print()\n",
    "print(int(7.99999999999))\n",
    "print()\n",
    "print(float(6))"
   ]
  },
  {
   "cell_type": "markdown",
   "metadata": {},
   "source": [
    "#### Complex Number Types\n",
    "Python includes complex numbers as an official type. Complex numbers arise when taking the square roots of negative numbers. There is no real number whose square root is -9, so we say that it equals 3i. Another example of a complex number is 2i + 3. Python uses j instead of i."
   ]
  },
  {
   "cell_type": "code",
   "execution_count": null,
   "metadata": {},
   "outputs": [],
   "source": [
    "# Divide 2 + 3j by 1 - 5j, enclosing both operations within parentheses:\n",
    "(2 + 3j) / (1 - 5j)"
   ]
  },
  {
   "cell_type": "markdown",
   "metadata": {},
   "source": [
    "### 1.3 Assigning Variables"
   ]
  },
  {
   "cell_type": "code",
   "execution_count": null,
   "metadata": {},
   "outputs": [],
   "source": [
    "x = 2            # Assign integer 2 to variable x\n",
    "print((x + 1))   # Add 1 to variable x.  x become 3\n",
    "\n",
    "x = 3.0          # Change x to 3.0 and add 1 to x to becom 4.0\n",
    "print(x + 1)\n",
    "\n",
    "y = 10\n",
    "y = y - 10.0     # Change int type to float type\n",
    "type(y)\n",
    "\n",
    "x +=             # short hand for x = x + 1"
   ]
  },
  {
   "cell_type": "markdown",
   "metadata": {},
   "source": [
    "## Activity 1"
   ]
  },
  {
   "cell_type": "code",
   "execution_count": null,
   "metadata": {},
   "outputs": [],
   "source": [
    "x = 14\n",
    "x += 1\n",
    "(x / 5) ** 2"
   ]
  },
  {
   "cell_type": "markdown",
   "metadata": {},
   "source": [
    "### Variable Names"
   ]
  },
  {
   "cell_type": "code",
   "execution_count": null,
   "metadata": {},
   "outputs": [],
   "source": [
    "import keyword\n",
    "print(keyword.kwlist)"
   ]
  },
  {
   "cell_type": "markdown",
   "metadata": {},
   "source": [
    "### 1.4 Variable Names"
   ]
  },
  {
   "cell_type": "code",
   "execution_count": null,
   "metadata": {},
   "outputs": [],
   "source": [
    "# 1st_number             This will give you an error because you cannot begin the variable name by a number\n",
    "first_number = 1         # Note 1st_number = 1 or 1_number = 1\n",
    "\n",
    "# my_$ = 1000.00          This will give you an error because you cannot begin a variable with a special character\n",
    "my_money = 1000.00"
   ]
  },
  {
   "cell_type": "markdown",
   "metadata": {},
   "source": [
    "### 1.5 Multiple Variables in Python"
   ]
  },
  {
   "cell_type": "code",
   "execution_count": null,
   "metadata": {},
   "outputs": [],
   "source": [
    "# Assign 5 to x and 2 to y\n",
    "x = 5\n",
    "y = 2\n",
    "\n",
    "# Add x to x and subtract y to the second power:\n",
    "x + x - y ** 2"
   ]
  },
  {
   "cell_type": "code",
   "execution_count": null,
   "metadata": {},
   "outputs": [],
   "source": [
    "# Assign 8 to x and 5 to y\n",
    "x, y = 8, 5\n",
    "\n",
    "# Find the integer division of x an y\n",
    "x // y"
   ]
  },
  {
   "cell_type": "markdown",
   "metadata": {},
   "source": [
    "### 1.6 Comments in Python"
   ]
  },
  {
   "cell_type": "code",
   "execution_count": null,
   "metadata": {},
   "outputs": [],
   "source": [
    "# This is a comment\n",
    "\n",
    "# Set the variable pi equal to 3.14\n",
    "pi = 3.14\n",
    "\n",
    "pi = 3.14    # Set the variable pi equal to 3.14\n",
    "\n",
    "# Docstrings\n",
    "\"\"\"\n",
    "This document will explore why comments are particularly useful\n",
    "when writing and reading code.\n",
    "\"\"\""
   ]
  },
  {
   "cell_type": "markdown",
   "metadata": {},
   "source": [
    "## Activity 2\n",
    "### Finding a Solution Using the Pythagorean Theorem in Python"
   ]
  },
  {
   "cell_type": "code",
   "execution_count": null,
   "metadata": {},
   "outputs": [],
   "source": [
    "# Docstrings\n",
    "\"\"\"\n",
    "Finding a Solution Using the Pythagorean Theorem in Python\n",
    "In this activity, you will determine the Pythagorean distance between three points. You will utilize a docstring and comments to clarify the process.\n",
    "In this activity, you need to assign numbers to the x, y, and z variables, square the variables, and take the square root to obtain the distance, \n",
    "while providing comments along the way and a docstring to introduce the sequence of steps. To complete this activity, you'll utilize multiple variables, \n",
    "comments, and docstrings to determine the Pythagorean distance between three points.\n",
    "\"\"\"\n",
    "# Set x, y, and z as eaual to 2, 3, and 4\n",
    "x, y, z = 2, 3, 4\n",
    "\n",
    "# Pythagorean Theorem in 3 dimensions\n",
    "w_squared = x ** 2 + y ** 2 + z ** 2\n",
    "\n",
    "# Take the square root of the sum (29) which will give you the distance\n",
    "w = w_squared ** 0.5\n",
    "w"
   ]
  },
  {
   "cell_type": "markdown",
   "metadata": {},
   "source": [
    "## Strings: Concatenation, Methods, and input()"
   ]
  },
  {
   "cell_type": "markdown",
   "metadata": {},
   "source": [
    "### 1.7 String Error Syntax"
   ]
  },
  {
   "cell_type": "code",
   "execution_count": null,
   "metadata": {},
   "outputs": [],
   "source": [
    "bookstore = 'City Lights'\n",
    "# bookstore = 'City Lights\"   This will give an error\n",
    "\n",
    "bookstore1 = \"Moe's\"\n",
    "#bookstore1 = 'Moe's'.         This will give an error\n",
    "\n",
    "# Escape Sequences with Qoutes\n",
    "bookstore2 = 'Moe\\'s'"
   ]
  },
  {
   "cell_type": "markdown",
   "metadata": {},
   "source": [
    "Python uses the backslash character, \\, called an escape sequence in strings, to allow for the insertion of any type of quote inside of strings. The character that follows the backslash in an escape sequence may be interpreted as mentioned in Python's official documentation, which follows. Of particular note is \\n, which is used to create a new line:\n",
    "\n",
    "\n",
    "Escape sequences and their meaning\n",
    "\n",
    "    Escope                 Meaniong\n",
    "    \\new line              Ignore\n",
    "    \\\\                     Backslash (\\)\n",
    "    \\'                     Single quote (')\n",
    "    \\\"                     Double quote (\")\n",
    "    \\a                     ASCII Bell (BEL)\n",
    "    \\b                     ASCII Backspace (BS)\n",
    "    \\f                     ASCII Bell (FF)\n",
    "    \\n                     ASCII Linefeed (LF)\n",
    "    \\r                     ASCII Carriage Return (CR)\n",
    "    \\t                     ASCII Horizontal Tab (Tab)\n",
    "    \\v                     ASCII Vertical Tab (VT)\n",
    "    \\ooo                   ASCII character with octal value ooo\n",
    "    \\xhh...                ASCII character with hex value hh...\n",
    "    "
   ]
  },
  {
   "cell_type": "markdown",
   "metadata": {},
   "source": [
    "### 1.8 Multi-Line Strings"
   ]
  },
  {
   "cell_type": "code",
   "execution_count": null,
   "metadata": {},
   "outputs": [],
   "source": [
    "vacation_note = '''\n",
    "During our vacation to San Francisco, we waited in a long line by\n",
    "Powell St. Station to take the cable car.  Tap dancers performed on\n",
    "wooden boards.  By the time our cable car arrived, we started looking\n",
    "online for a good place to eat.  We' re heading to North Beach.\n",
    "'''\n",
    "vacation_note"
   ]
  },
  {
   "cell_type": "markdown",
   "metadata": {},
   "source": [
    "### The print() Function"
   ]
  },
  {
   "cell_type": "code",
   "execution_count": null,
   "metadata": {},
   "outputs": [],
   "source": [
    "greeting = 'Hello'\n",
    "print(greeting)\n",
    "print()\n",
    "\n",
    "spanish_greeting = 'Hola.'\n",
    "print(spanish_greeting)\n",
    "print()\n",
    "\n",
    "arabic_greeting = 'Ahlan wa sahlan.'\n",
    "print(arabic_greeting)"
   ]
  },
  {
   "cell_type": "markdown",
   "metadata": {},
   "source": [
    "### 1.9 String Concatenation"
   ]
  },
  {
   "cell_type": "code",
   "execution_count": null,
   "metadata": {},
   "outputs": [],
   "source": [
    "spanish_greeting = 'Hola '\n",
    "print(spanish_greeting + 'Senor.')\n",
    "print()\n",
    "\n",
    "print(greeting * 5)\n",
    "print()"
   ]
  },
  {
   "cell_type": "markdown",
   "metadata": {},
   "source": [
    "### String Interpolation: Comma Separators"
   ]
  },
  {
   "cell_type": "code",
   "execution_count": null,
   "metadata": {},
   "outputs": [],
   "source": [
    "italian_greeting = 'Ciao'\n",
    "print('Should we greet people with', italian_greeting, 'in North Beach?')"
   ]
  },
  {
   "cell_type": "markdown",
   "metadata": {},
   "source": [
    "### String Interpolation: Format"
   ]
  },
  {
   "cell_type": "code",
   "execution_count": null,
   "metadata": {},
   "outputs": [],
   "source": [
    "owner = 'Lawrence Ferlinghetti'\n",
    "age = 100\n",
    "print('The founder of City Lights Bookstore, {}, is now {} years old.'.format(owner, age))"
   ]
  },
  {
   "cell_type": "markdown",
   "metadata": {},
   "source": [
    "### The len() Function"
   ]
  },
  {
   "cell_type": "code",
   "execution_count": null,
   "metadata": {},
   "outputs": [],
   "source": [
    "len(arabic_greeting)"
   ]
  },
  {
   "cell_type": "markdown",
   "metadata": {},
   "source": [
    "### 1.10 String Methods"
   ]
  },
  {
   "cell_type": "code",
   "execution_count": null,
   "metadata": {},
   "outputs": [],
   "source": [
    "name = 'Abdelnasser M Abdelghani'\n",
    "print(name.lower())\n",
    "print(name.capitalize())\n",
    "print(name.upper())\n",
    "print(name.count('a'))"
   ]
  },
  {
   "cell_type": "markdown",
   "metadata": {},
   "source": [
    "### 1.11 Types and Casting"
   ]
  },
  {
   "cell_type": "code",
   "execution_count": null,
   "metadata": {},
   "outputs": [],
   "source": [
    "print(type('5'))\n",
    "print('5' + '7')                  # concatenates str of 5 and str of 7 to become str 57\n",
    "print()\n",
    "\n",
    "print(int('5'))                   # This is int 5\n",
    "print()\n",
    "\n",
    "print(int('5') + int('7'))        # change str to int and add ints together to become int 12"
   ]
  },
  {
   "cell_type": "markdown",
   "metadata": {},
   "source": [
    "### 1.12 The input() Function"
   ]
  },
  {
   "cell_type": "code",
   "execution_count": null,
   "metadata": {},
   "outputs": [],
   "source": [
    "# Choose a question to ask\n",
    "print('What is your name? ')\n",
    "name = input()\n",
    "print('Hello, ' + name + '.')"
   ]
  },
  {
   "cell_type": "markdown",
   "metadata": {},
   "source": [
    "## Activity 3"
   ]
  },
  {
   "cell_type": "code",
   "execution_count": null,
   "metadata": {},
   "outputs": [],
   "source": [
    "rate = input('Please, rate your date?\\n ')\n",
    "print('You rated your date as {} out of 10, I hope it will get much better!'.format(rate))"
   ]
  },
  {
   "cell_type": "markdown",
   "metadata": {},
   "source": [
    "## String Indexing and Slicing: Indexing"
   ]
  },
  {
   "cell_type": "code",
   "execution_count": null,
   "metadata": {},
   "outputs": [],
   "source": [
    "destination = 'San Francisco'\n",
    "print(destination[0])\n",
    "print()\n",
    "\n",
    "print(destination[1])\n",
    "print()\n",
    "\n",
    "print(destination[2])\n",
    "print()\n",
    "\n",
    "print(destination[-1])\n",
    "print()\n",
    "\n",
    "print(destination[-2])\n",
    "print()\n",
    "\n",
    "bridge = 'Golden Gate'\n",
    "bridge[6]   # empty ' ' indicate the space at index 6 between Golden and Gate"
   ]
  },
  {
   "cell_type": "markdown",
   "metadata": {},
   "source": [
    "## String Indexing and Slicing: Slicing"
   ]
  },
  {
   "cell_type": "code",
   "execution_count": null,
   "metadata": {},
   "outputs": [],
   "source": [
    "# Retrieve the fifth through eleventh letters of San Francisco, which we used above\n",
    "print(destination[4:11])\n",
    "print()\n",
    "\n",
    "# Retrieve the first three letters of destination\n",
    "print(destination[0:3])\n",
    "print()\n",
    "\n",
    "# Retrieve the first 8 letters in destination (note: the 8th letter is not included)\n",
    "print(destination[:8])\n",
    "print()\n",
    "\n",
    "# Retrive the last three letters of destination (start at third-to-last letter and the : means to the end)\n",
    "print(destination[-3:])"
   ]
  },
  {
   "cell_type": "markdown",
   "metadata": {},
   "source": [
    "## Booleans and Conditionals: Booleans"
   ]
  },
  {
   "cell_type": "markdown",
   "metadata": {},
   "source": [
    "### 1.13 Boolean Variables"
   ]
  },
  {
   "cell_type": "code",
   "execution_count": null,
   "metadata": {},
   "outputs": [],
   "source": [
    "over_18 = True\n",
    "print(type(over_18))\n",
    "print()\n",
    "\n",
    "over_21 = False\n",
    "type(over_21)"
   ]
  },
  {
   "cell_type": "markdown",
   "metadata": {},
   "source": [
    "### Logical Operators"
   ]
  },
  {
   "cell_type": "code",
   "execution_count": null,
   "metadata": {},
   "outputs": [],
   "source": [
    "over_18, over_21 = True, False\n",
    "\n",
    "# Then you can assume if individual ove over 18 and over 21\n",
    "over_18 and over_21"
   ]
  },
  {
   "cell_type": "code",
   "execution_count": null,
   "metadata": {},
   "outputs": [],
   "source": [
    "over_18 or over_21"
   ]
  },
  {
   "cell_type": "code",
   "execution_count": null,
   "metadata": {},
   "outputs": [],
   "source": [
    "not over_18"
   ]
  },
  {
   "cell_type": "code",
   "execution_count": null,
   "metadata": {},
   "outputs": [],
   "source": [
    "not over_21 or (over_21 or over_18)"
   ]
  },
  {
   "cell_type": "markdown",
   "metadata": {},
   "source": [
    "### Comparison Operators\n",
    "Python objects may be compared using a variety of symbols that evaluate to Booleans.\n",
    "\n",
    "Comparison table with their corresponding operators:\n",
    "    \n",
    "    <    Less than\n",
    "    <=   Less than or equal to\n",
    "    >    Greater than\n",
    "    >=   Greater than or equal to\n",
    "    ==   Equivalent to\n",
    "    !=   not equal to\n",
    "\n",
    "Note: The = and == symbols are often confused. The = symbol is an assignment symbol.  So x = 3 assigns the integer 3 to the x variable\n",
    "\n",
    "The == symbol makes a comparison. This x == 3 checks to see whether x is equivalent to 3. The result of x == 3 will be True or False."
   ]
  },
  {
   "cell_type": "code",
   "execution_count": null,
   "metadata": {},
   "outputs": [],
   "source": [
    "age = 20\n",
    "age < 13"
   ]
  },
  {
   "cell_type": "code",
   "execution_count": null,
   "metadata": {},
   "outputs": [],
   "source": [
    "age >= 20 and age <= 21"
   ]
  },
  {
   "cell_type": "code",
   "execution_count": null,
   "metadata": {},
   "outputs": [],
   "source": [
    "age != 21"
   ]
  },
  {
   "cell_type": "code",
   "execution_count": null,
   "metadata": {},
   "outputs": [],
   "source": [
    "age == 19"
   ]
  },
  {
   "cell_type": "code",
   "execution_count": null,
   "metadata": {},
   "outputs": [],
   "source": [
    "6 == 6.0"
   ]
  },
  {
   "cell_type": "code",
   "execution_count": null,
   "metadata": {},
   "outputs": [],
   "source": [
    "6 == '6'"
   ]
  },
  {
   "cell_type": "code",
   "execution_count": null,
   "metadata": {},
   "outputs": [],
   "source": [
    "(age >= 20 and age < 30) or (age >= 30 and age < 40)"
   ]
  },
  {
   "cell_type": "markdown",
   "metadata": {},
   "source": [
    "### Comparing Strings"
   ]
  },
  {
   "cell_type": "code",
   "execution_count": null,
   "metadata": {},
   "outputs": [],
   "source": [
    "'a' < 'c'"
   ]
  },
  {
   "cell_type": "code",
   "execution_count": null,
   "metadata": {},
   "outputs": [],
   "source": [
    "'New York' > 'San Francisco'"
   ]
  },
  {
   "cell_type": "markdown",
   "metadata": {},
   "source": [
    "### Conditionals\n",
    "#### 1.16 Using the if Syntax"
   ]
  },
  {
   "cell_type": "code",
   "execution_count": null,
   "metadata": {},
   "outputs": [],
   "source": [
    "age = 20\n",
    "\n",
    "if age >= 18 and age < 21:\n",
    "    print('At least you can vote.')\n",
    "    print('Poker will have to wait.')"
   ]
  },
  {
   "cell_type": "markdown",
   "metadata": {},
   "source": [
    "#### Netest conditionals"
   ]
  },
  {
   "cell_type": "code",
   "execution_count": null,
   "metadata": {},
   "outputs": [],
   "source": [
    "if age >= 18:\n",
    "    print('You can vote.')\n",
    "    if age >= 21:\n",
    "        print('You can play poler')"
   ]
  },
  {
   "cell_type": "markdown",
   "metadata": {},
   "source": [
    "### Using the  if else Syntax"
   ]
  },
  {
   "cell_type": "code",
   "execution_count": null,
   "metadata": {},
   "outputs": [],
   "source": [
    "age = 20\n",
    "if age < 18:\n",
    "    print('You aren\\'t old enough to vote.')\n",
    "else:\n",
    "    print('Welcome to our voting program.')"
   ]
  },
  {
   "cell_type": "code",
   "execution_count": null,
   "metadata": {},
   "outputs": [],
   "source": [
    "if age >= 18:\n",
    "    print('Welcome to our voting program.')\n",
    "else:\n",
    "    print('You aren\\'t old enough to vote.')"
   ]
  },
  {
   "cell_type": "markdown",
   "metadata": {},
   "source": [
    "### The elif statement"
   ]
  },
  {
   "cell_type": "code",
   "execution_count": null,
   "metadata": {},
   "outputs": [],
   "source": [
    "if age <= 10:\n",
    "    print('Listen, Learn, and have fun.')\n",
    "elif age <= 19:\n",
    "    print('Go fearlessly forward.')\n",
    "elif age <= 29:\n",
    "    print('Seize the day.')\n",
    "elif age <= 39:\n",
    "    print('Go for what you want.')\n",
    "elif age <= 59:\n",
    "    print('Stay physically fit and healthy.')\n",
    "else:\n",
    "    print('Each day is magical.')"
   ]
  },
  {
   "cell_type": "markdown",
   "metadata": {},
   "source": [
    "## Loops"
   ]
  },
  {
   "cell_type": "markdown",
   "metadata": {},
   "source": [
    "### While loop"
   ]
  },
  {
   "cell_type": "code",
   "execution_count": null,
   "metadata": {},
   "outputs": [],
   "source": [
    "i = 1\n",
    "while i <= 10:\n",
    "    print(i)\n",
    "    i += 1"
   ]
  },
  {
   "cell_type": "code",
   "execution_count": null,
   "metadata": {},
   "outputs": [],
   "source": [
    "x = 5\n",
    "while x <= 20:\n",
    "    print(x)\n",
    "    x += 5"
   ]
  },
  {
   "cell_type": "markdown",
   "metadata": {},
   "source": [
    "### break"
   ]
  },
  {
   "cell_type": "code",
   "execution_count": null,
   "metadata": {},
   "outputs": [],
   "source": [
    "# Find first number greater than 100 and divisible by 17.\n",
    "x = 100\n",
    "while x <= 1000:\n",
    "    x += 1\n",
    "    if x % 17 == 0:\n",
    "        print('', x, 'is the first number greater than 100 that is divisible by 17.')\n",
    "        break"
   ]
  },
  {
   "cell_type": "markdown",
   "metadata": {},
   "source": [
    "## Activity 4\n",
    "### Finding the Least Common Multiple (LCM)"
   ]
  },
  {
   "cell_type": "code",
   "execution_count": null,
   "metadata": {},
   "outputs": [],
   "source": [
    "# Find the Least Common Multiple of Two Divisors\n",
    "first_divisor = 24\n",
    "second_divisor = 36\n",
    "\n",
    "counting = True\n",
    "i = 1\n",
    "while counting:\n",
    "    if i % first_divisor == 0 and i % second_divisor == 0:\n",
    "        break\n",
    "    i += 1\n",
    "print('The Least Common Multiple of ', first_divisor, 'and ', second_divisor, 'is ', i, '.')\n",
    "    "
   ]
  },
  {
   "cell_type": "markdown",
   "metadata": {},
   "source": [
    "### 1.18 Calculating Perfect Squares"
   ]
  },
  {
   "cell_type": "code",
   "execution_count": null,
   "metadata": {},
   "outputs": [],
   "source": [
    "# Prompt the user to enter a number to see if it's a perfect square and save the input to a variable called number\n",
    "print('Enter a number to see if it\\'s a perfect square')\n",
    "number = input()\n",
    "\n",
    "# Ensure the user input is a positive integer:\n",
    "number = abs(int(number))\n",
    "\n",
    "# Choose an iterator variable:\n",
    "i = -1\n",
    "\n",
    "# Initialize a Boolean to check for a perfect square:\n",
    "square = False\n",
    "\n",
    "# Initialize while loop from -1 to the square root of the number:\n",
    "while i <=  number ** (0.5):\n",
    "    # increment i by 1\n",
    "    i += 1\n",
    "    # Check the square root of the number:\n",
    "    if i * i == number:\n",
    "        # Indicate that we have a perfect square:\n",
    "        square = True\n",
    "        # break out of the loop:\n",
    "        break\n",
    "        \n",
    "# If the number is square, print out the result:\n",
    "if square:\n",
    "    print('The square root of', number, 'is', i, '.')\n",
    "# If the number is not a square, print out this result:\n",
    "else:\n",
    "    print('', number, 'is not a perfect square.')\n"
   ]
  },
  {
   "cell_type": "markdown",
   "metadata": {},
   "source": [
    "### 1.19 Real Estate Offer"
   ]
  },
  {
   "cell_type": "code",
   "execution_count": null,
   "metadata": {},
   "outputs": [],
   "source": [
    "# Begin by stating a market price:\n",
    "print('A one bedroom in the Bay Area is listed at $599,000')\n",
    "\n",
    "# Prompt the user to make an offer on the house:\n",
    "print('Enter your first offer on the house.')\n",
    "\n",
    "# Set offer as equal to input():\n",
    "offer = abs(int(input()))\n",
    "\n",
    "# Prompt the user to enter their best offer for the house:\n",
    "print('Enter your best offer on the house.')\n",
    "\n",
    "# Set best as equal to input():\n",
    "best = abs(int(input()))\n",
    "\n",
    "# Prompt the user to choose increments:\n",
    "print('How much more do you want to offer each time?')\n",
    "\n",
    "# Set increment as equal to input()\n",
    "increment = abs(int(input()))\n",
    "\n",
    "# Set offer_accepted as equal to False:\n",
    "offer_accepted = False\n",
    "\n",
    "# Initialize the for loop from offer to best:\n",
    "while offer <= best:\n",
    "    # If the offer is greater than 650000, they get the house:\n",
    "    if offer >= 650000:\n",
    "        offer_accepted = True\n",
    "        print('Your offer of', offer, 'has been accepted!')\n",
    "        break\n",
    "    # If the offer does not exceed 650000, they don't get the hourse:\n",
    "    print('We\\'re sorry, you\\'re offer of', offer, 'has not been accepted.')\n",
    "    offer += increment"
   ]
  },
  {
   "cell_type": "markdown",
   "metadata": {},
   "source": [
    "### The for Loop\n",
    "#### 1.20 Using for Loops"
   ]
  },
  {
   "cell_type": "code",
   "execution_count": null,
   "metadata": {},
   "outputs": [],
   "source": [
    "for i in 'Portland':\n",
    "    print(i)"
   ]
  },
  {
   "cell_type": "code",
   "execution_count": null,
   "metadata": {},
   "outputs": [],
   "source": [
    "for i in range(1,10):\n",
    "    print(i)"
   ]
  },
  {
   "cell_type": "code",
   "execution_count": null,
   "metadata": {},
   "outputs": [],
   "source": [
    "for i in range(10):\n",
    "    print(i)"
   ]
  },
  {
   "cell_type": "code",
   "execution_count": null,
   "metadata": {},
   "outputs": [],
   "source": [
    "for i in range(1, 11, 2):\n",
    "    print(i)"
   ]
  },
  {
   "cell_type": "code",
   "execution_count": null,
   "metadata": {},
   "outputs": [],
   "source": [
    "for i in range(3, 0, -1):\n",
    "    print(i)"
   ]
  },
  {
   "cell_type": "code",
   "execution_count": null,
   "metadata": {},
   "outputs": [],
   "source": [
    "name = 'Corey'\n",
    "for i in range(3):\n",
    "    for i in name:\n",
    "        print(i)"
   ]
  },
  {
   "cell_type": "markdown",
   "metadata": {},
   "source": [
    "#### The continue keyword"
   ]
  },
  {
   "cell_type": "code",
   "execution_count": null,
   "metadata": {},
   "outputs": [],
   "source": [
    "for num in range(10, 100):\n",
    "    if num % 2 == 0:\n",
    "        continue\n",
    "    if num % 3 == 0:\n",
    "        continue\n",
    "    if num % 5 == 0:\n",
    "        continue\n",
    "    if num % 7 == 0:\n",
    "        continue\n",
    "    print(num)"
   ]
  },
  {
   "cell_type": "markdown",
   "metadata": {},
   "source": [
    "### Activity 5: Building Conversational Bots Using Python"
   ]
  },
  {
   "cell_type": "code",
   "execution_count": null,
   "metadata": {},
   "outputs": [],
   "source": [
    "# First bot\n",
    "\n",
    "# Ask the user abouth his name as a first question:\n",
    "print('What is your name?')\n",
    "\n",
    "# Response with the answer\n",
    "name = input()\n",
    "print('Fascinating.', name, 'is my name too.')\n",
    "\n",
    "# As the second question:\n",
    "print('Have you thought about black holes today?')\n",
    "\n",
    "# Response to question 2:\n",
    "yes_no = input()\n",
    "print('I am so glad you said', yes_no, '. I was thinking the same thing.')\n",
    "\n",
    "# Print the response with the answer and close:\n",
    "print('We\\'re kindred spirits, ', name, '. talk later.')\n",
    "\n",
    "\n",
    "# Second bot\n",
    "\n",
    "# Create an input() function for a smart variable and change the type to int:\n",
    "print('How intelligent are you? 0 is very dumb. And 10 is a genius')\n",
    "smarts = input()\n",
    "smarts = int(smarts)\n",
    "\n",
    "# Create an if loop so that if the user enters a value equal to or less than 3\n",
    "# we print 'I don't believe you'. If not, the print the next statement:\n",
    "if smarts <= 3:\n",
    "    print('I don\\'t believe you.')\n",
    "    print('How bad of a day are you having? 0 is the worst, and 10 is the best.')\n",
    "    # Create an input() function for the day variable and change the type to int:\n",
    "    day = input()\n",
    "    day = int(day)\n",
    "    \n",
    "    # Now, we create an if else loop where if the user entred a value less than or equal to 5, we print\n",
    "    # the output statement. if not, then we print the output else statement\n",
    "    if day <= 5:\n",
    "        print('If I was human, I would give you a hug.')\n",
    "    else:\n",
    "        print('Maybe I should try your approach.')\n",
    "        \n",
    "# Continue the loop using elif, also called else-if, where if the user enters\n",
    "# a value less than or equal to 6, we print the corresponding statement.\n",
    "elif smarts <= 6:\n",
    "    print('I think you\\'re actually smarter.')\n",
    "    print('How much time do you spend online? 0 is none and 10 is 24 hours a day.')\n",
    "    \n",
    "    # Now, build another input() function for the hours variable and change the type to int.\n",
    "    # Use the if-else loop so that if the user enters a value less than or equal to 4,\n",
    "    # we print the corresponding statement. if not, print the other statement\n",
    "    hours = input()\n",
    "    hours = int(hours)\n",
    "    if hours <= 4:\n",
    "        print('That\\'s the problem.')\n",
    "    else:\n",
    "        print('And I thought it was only me.')\n",
    "        \n",
    "# Using the elif loop, we check the smart variable and output the corresponding print statement.\n",
    "# We also use if-else to find out whether the user has entered a value less than or equal to 5:\n",
    "elif smarts <= 8:\n",
    "    print('Are you human by chance? Wait. Don\\'t answer that.')\n",
    "    print('How human are you? 0 is not at all and 10 is human all the way.')\n",
    "    human = input()\n",
    "    human = int(human)\n",
    "    if human <= 5:\n",
    "        print('I knew it.')\n",
    "    else:\n",
    "        print('I think this courtship is over.')\n",
    "\n",
    "# We continue with the else loop from the if-else from step 7 and set the appropriate conditions and print statements:\n",
    "else:\n",
    "    print('I see... How many operating systems do you run?')\n",
    "    # Set the input() functions once again to the os variable and change the type to int,\n",
    "    # after which we output the corresponding print statement depending on the user;s input values:\n",
    "    os = input()\n",
    "    os = int(os)\n",
    "    if os <= 2:\n",
    "        print('Good thing you\\'re taking this course.')\n",
    "    else:\n",
    "        print('What is this? A competition?')\n",
    "        "
   ]
  },
  {
   "cell_type": "markdown",
   "metadata": {},
   "source": [
    "# 2. Python Structures"
   ]
  },
  {
   "cell_type": "markdown",
   "metadata": {},
   "source": [
    "### The Power of Lists"
   ]
  },
  {
   "cell_type": "code",
   "execution_count": null,
   "metadata": {},
   "outputs": [],
   "source": [
    "# Lists\n",
    "todo = [\"pick up laundary\", \"buy Groceries\", \"pay electric bills\"]\n",
    "\n",
    "# Dictionary\n",
    "User = {\n",
    "    \"first_name\": \"Jack\",\n",
    "    \"last_name\": \"WHite\",\n",
    "    \"age\": 41,\n",
    "    \"email\": \"jack.white@gmail.com\"\n",
    "}"
   ]
  },
  {
   "cell_type": "markdown",
   "metadata": {},
   "source": [
    "#### 2.1 Working with Python Lists"
   ]
  },
  {
   "cell_type": "code",
   "execution_count": null,
   "metadata": {},
   "outputs": [],
   "source": [
    "shopping = [\"bread\", \"milk\", \"eggs\"]\n",
    "print(shopping)\n",
    "print()\n",
    "\n",
    "for item in shopping:\n",
    "    print(item)\n",
    "\n",
    "print()\n",
    "mixed = [365, \"days\", True]\n",
    "print(mixed)"
   ]
  },
  {
   "cell_type": "markdown",
   "metadata": {},
   "source": [
    "### 2.2 Using a Nested List to Store Data from a Matrix"
   ]
  },
  {
   "cell_type": "code",
   "execution_count": null,
   "metadata": {},
   "outputs": [],
   "source": [
    "m = [[1, 2, 3], [4, 5, 6]]\n",
    "print(m)\n",
    "print()\n",
    "\n",
    "print(m[1][1])\n",
    "print()\n",
    "\n",
    "for i in range(len(m)):\n",
    "    for j in range(len(m[i])):\n",
    "        print(m[i][j])\n",
    "print()\n",
    "\n",
    "for row in m:\n",
    "    for col in row:\n",
    "        print(col)"
   ]
  },
  {
   "cell_type": "markdown",
   "metadata": {},
   "source": [
    "## Activity 6: Using a Nested List to Store Employee Data"
   ]
  },
  {
   "cell_type": "code",
   "execution_count": null,
   "metadata": {},
   "outputs": [],
   "source": [
    "employees = [['John Mckee', 38, 'Sales'], ['Lisa Crawford', 29, 'Marketing'], ['Sujan Patel', 33, 'HR']]\n",
    "print(employees)\n",
    "print()\n",
    "\n",
    "for employee in employees:\n",
    "    print(employee)\n",
    "print()\n",
    "\n",
    "for employee in employees:\n",
    "    print(\"Name      : \", employee[0])\n",
    "    print(\"Age       : \", employee[1])\n",
    "    print(\"Department:\", employee[2])\n",
    "    print('-' * 26)\n",
    "print()\n",
    "\n",
    "employee = employees[1]\n",
    "print(employee)\n",
    "print(\"Name      :\", employee[0])\n",
    "print(\"Age       :\", employee[1])\n",
    "print(\"Department:\", employee[2])\n",
    "print('-' * 26)"
   ]
  },
  {
   "cell_type": "markdown",
   "metadata": {},
   "source": [
    "## 2.2 Matrix Operations"
   ]
  },
  {
   "cell_type": "markdown",
   "metadata": {},
   "source": [
    "### 2.3 Implementing Matrix Operations (Addition and Subtraction)"
   ]
  },
  {
   "cell_type": "code",
   "execution_count": null,
   "metadata": {},
   "outputs": [],
   "source": [
    "# Addition\n",
    "\n",
    "# Create two nested lists, X and Y, to store the values:\n",
    "X = [[1, 2, 3], [4, 5, 6], [7, 8, 9]]\n",
    "Y = [[10, 11, 12], [13, 14, 15], [16, 17, 18]]\n",
    "print(X, Y)\n",
    "print()\n",
    "\n",
    "# Initialize a 3x3 zero matrix called result as a placeholder:\n",
    "result = [[0, 0, 0],\n",
    "         [0, 0, 0],\n",
    "         [0, 0, 0]]\n",
    "print(result)\n",
    "print()\n",
    "\n",
    "# Implement the algorithm by iterating through the cells and columns of the matrix:\n",
    "# iterate through rows:\n",
    "for i in range(len(X)):\n",
    "    # iterate through columns:\n",
    "    for j in range(len(X[0])):\n",
    "        result[i][j] = X[i][j] + Y[i][j]\n",
    "print(result)"
   ]
  },
  {
   "cell_type": "code",
   "execution_count": null,
   "metadata": {},
   "outputs": [],
   "source": [
    "# Subtraction\n",
    "\n",
    "X = [[10, 11, 12], [13, 14, 15], [16, 17, 18]]\n",
    "Y = [[1, 2, 3], [4, 5, 6], [7, 8, 9]]\n",
    "print(X, Y)\n",
    "print()\n",
    "\n",
    "# Intialize a 3x3 zero matrix called result as a place holder\n",
    "result = [[0, 0, 0],\n",
    "         [0, 0, 0],\n",
    "         [0, 0, 0]]\n",
    "print(result)\n",
    "print()\n",
    "\n",
    "# Iterate through rows:\n",
    "for i in range(len(X)):\n",
    "    # Iterate through columns:\n",
    "    for j in range(len(X[0])):\n",
    "        result[i][j] = X[i][j] - Y[i][j]\n",
    "print(result)"
   ]
  },
  {
   "cell_type": "markdown",
   "metadata": {},
   "source": [
    "### Matrix Multiplication Operations"
   ]
  },
  {
   "cell_type": "markdown",
   "metadata": {},
   "source": [
    "#### 2.4 Implementing Matrix Operations (Multiplication)\n",
    "Note: For matrix multiplication operation, the number of columns in the fist matrix X must be equal to the number of rows in the second matrix Y.  The result will have the same number of rows as the first matrix and the same number of columns as the second matrix"
   ]
  },
  {
   "cell_type": "code",
   "execution_count": null,
   "metadata": {},
   "outputs": [],
   "source": [
    "# Create two nested lists, X and Y, to store the value of matrices X and Y:\n",
    "X = [[1, 2], [4, 5], [3, 6]]\n",
    "Y = [[1, 2, 3, 4], [5, 6, 7, 8]]\n",
    "\n",
    "# Create a Zero-matrix placeholder to store the result:\n",
    "result = [[0, 0, 0, 0], [0, 0, 0, 0], [0, 0, 0, 0]]\n",
    "\n",
    "# Implement the matrix the matrix multiplication algorithm to compute the result:\n",
    "# iterating by row of x\n",
    "for i in range(len(X)):\n",
    "    # iterating by column by Y\n",
    "    for j in range(len(Y[0])):\n",
    "        # iterating by rows of Y\n",
    "        for k in range(len(Y)):\n",
    "            result[i][j] += X[i][k] * Y[k][j]\n",
    "    \n",
    "# Now pring the final result:\n",
    "for r in result:\n",
    "    print(r)"
   ]
  },
  {
   "cell_type": "markdown",
   "metadata": {},
   "source": [
    "### List Methods"
   ]
  },
  {
   "cell_type": "markdown",
   "metadata": {},
   "source": [
    "### 2.5 Basic List Operations"
   ]
  },
  {
   "cell_type": "code",
   "execution_count": null,
   "metadata": {},
   "outputs": [],
   "source": [
    "# len() function returns the number of items in an object. \n",
    "# When the object is a string, it returns the number of characters in the string\n",
    "shopping = [\"bread\", \"milk\", \"eggs\"]\n",
    "print(len(shopping))\n",
    "print()\n",
    "\n",
    "# concatenate two list using the + operator\n",
    "list1 = [1, 2, 3]\n",
    "list2 = [4, 5, 6]\n",
    "final_list = list1 + list2\n",
    "print(final_list)\n",
    "print()\n",
    "\n",
    "# Use the + operator for repetition in a list to duplicate elements:\n",
    "list3 = ['oi']\n",
    "print(list3 * 3)\n",
    "print()"
   ]
  },
  {
   "cell_type": "markdown",
   "metadata": {},
   "source": [
    "### Accessing an Item from a List\n",
    "#### 2.6 Accessing an Item from Shopping List Data"
   ]
  },
  {
   "cell_type": "code",
   "execution_count": null,
   "metadata": {},
   "outputs": [],
   "source": [
    "shopping = [\"bread\", \"milk\", \"eggs\"]\n",
    "print(shopping[1])\n",
    "print()\n",
    "\n",
    "# Access the milk element and replace it with banana\n",
    "shopping[1] = \"banana\"\n",
    "print(shopping)\n",
    "print()\n",
    "\n",
    "print(shopping[-1])\n",
    "print()\n",
    "\n",
    "# Note:  In Python, a positive index counts forward, and a negative index counts backward. You use a negative index to access an element from the back.\n",
    "print(shopping[0:2]) # prints elements in index 0 'bread' and element in index 2 'banana'\n",
    "print()\n",
    "\n",
    "print(shopping[:3])  # prints all the element from the beginning of the leis (:) to the third element 'eggs'\n",
    "print()\n",
    "\n",
    "print(shopping[1:])  # prints from the second element of the list until the end (:)\n",
    "print()"
   ]
  },
  {
   "cell_type": "markdown",
   "metadata": {},
   "source": [
    "### Adding an Item to a List\n",
    "#### 2.7 Adding Items to Our Shopping List"
   ]
  },
  {
   "cell_type": "code",
   "execution_count": null,
   "metadata": {},
   "outputs": [],
   "source": [
    "shopping = ['bread', 'milk', 'eggs']\n",
    "shopping.append('apple')\n",
    "print(shopping)\n",
    "\n",
    "# Create an empty list, shopping, and keep adding items one by one tho this empty list:\n",
    "shopping = []\n",
    "shopping.append('bread')\n",
    "shopping.append('milk')\n",
    "shopping.append('eggs')\n",
    "shopping.append('apple')\n",
    "print(shopping)\n",
    "print()\n",
    "\n",
    "# insert method to add elements to the shopping list:\n",
    "shopping.insert(2, 'ham')  # insert element 'ham in index 2'\n",
    "print(shopping)\n",
    "print()"
   ]
  },
  {
   "cell_type": "markdown",
   "metadata": {},
   "source": [
    "## Dictionary Keys and values"
   ]
  },
  {
   "cell_type": "markdown",
   "metadata": {},
   "source": [
    "#### 2.8 Using a Dictionary to Store a Movie Record"
   ]
  },
  {
   "cell_type": "code",
   "execution_count": null,
   "metadata": {},
   "outputs": [],
   "source": [
    "movie = {\n",
    "    \"title\": \"The Godfather\",\n",
    "    \"director\": \"Francis Ford Coppola\",\n",
    "    \"year\": 1972,\n",
    "    \"rating\": 9.2\n",
    "}\n",
    "print(movie['year'])\n",
    "print()\n",
    "\n",
    "movie['rating'] = (movie['rating'] + 9.3)/2  # 9.2 + 9.3 / 2 = 9.25\n",
    "print(movie['rating'])\n",
    "print()\n",
    "\n",
    "movie = {}\n",
    "movie['title'] = \"The Godfather\"\n",
    "movie['director'] = \"Francis Ford Coppola\"\n",
    "movie['year'] = 1972\n",
    "movie['rating'] = 9.2\n",
    "print(movie)\n",
    "print()\n",
    "\n",
    "# You can also stor a list inside a dictionary and store a dictionary within that dictionary\n",
    "movie['actors'] = ['Marlon Brando', 'Al Pacino', 'James Caan']\n",
    "movie['other_details'] = {\n",
    "    'runtime': 175,\n",
    "    'language': 'English'\n",
    "}\n",
    "print(movie)"
   ]
  },
  {
   "cell_type": "markdown",
   "metadata": {},
   "source": [
    "## Activity 7\n",
    "### Storing Company Employee Table Data Using a List and a Dictionary"
   ]
  },
  {
   "cell_type": "code",
   "execution_count": null,
   "metadata": {},
   "outputs": [],
   "source": [
    "employees = [\n",
    "    {\"name\": \"John Mckee\",    \"age\": 38, \"department\": \"Sales\"},\n",
    "    {'name': 'Lisa Crawford', \"age\": 29, \"department\": 'Marketing'},\n",
    "    {'name': 'Sujan Patel',   \"age\": 33, \"department\": 'HR'}\n",
    "]\n",
    "print(employees)\n",
    "print()\n",
    "\n",
    "for employee in employees:\n",
    "    print(employee)\n",
    "print()\n",
    "\n",
    "for employee in employees:\n",
    "    print(\"Name      : \", employee['name'])\n",
    "    print(\"Age       : \", employee['age'])\n",
    "    print(\"Department:\",  employee['department'])\n",
    "    print('-' * 26)\n",
    "print()\n",
    "\n",
    "for employee in employees:\n",
    "    if employee['name'] == 'Sujan Patel':\n",
    "        print(\"Name:\",       employee['name'])\n",
    "        print(\"Age:\",        employee['age'])\n",
    "        print(\"Department:\", employee['department'])\n",
    "        print('-' * 26)"
   ]
  },
  {
   "cell_type": "markdown",
   "metadata": {},
   "source": [
    "### Zipping and Unzipping Dictionaries Using zip()\n",
    "#### 2.9 Using the zip() Method to Manipulate Dictionaries"
   ]
  },
  {
   "cell_type": "code",
   "execution_count": null,
   "metadata": {},
   "outputs": [],
   "source": [
    "items = ['apple', 'orange', 'banana']\n",
    "quantity = [5, 3, 2]\n",
    "\n",
    "# Use the zip() function to combine the two lists into a list of tuples:\n",
    "orders = zip(items, quantity)\n",
    "print(orders)   # print the object place in memory\n",
    "print()\n",
    "print(list(orders))  # Turn that object into a list\n",
    "print()\n",
    "\n",
    "orders = zip(items, quantity)\n",
    "print(tuple(orders)) # You can also turn a zip object int a tuple\n",
    "print()"
   ]
  },
  {
   "cell_type": "markdown",
   "metadata": {},
   "source": [
    "## Dictionary Methods\n",
    "### 3.0 Accessing a Dictionary Using Dictionary Methods"
   ]
  },
  {
   "cell_type": "code",
   "execution_count": null,
   "metadata": {},
   "outputs": [],
   "source": [
    "orders = {'apple': 5, 'orange':3, 'banana': 2}\n",
    "print(orders.values())\n",
    "print()\n",
    "print(list(orders.values())) # In order to use the values straight away, you can wrap them in a list directly\n",
    "print()\n",
    "\n",
    "# obtain a list of keys in a dictionary by using the keys() method.\n",
    "print(list(orders.keys()))\n",
    "print()\n",
    "\n",
    "# To directely iterate a dictionary, you first convert it to a list of tuples usint the items() method.\n",
    "# then iterate the resulting list and access it as follows:\n",
    "for tuple in list(orders.items()):\n",
    "    print(tuple)"
   ]
  },
  {
   "cell_type": "markdown",
   "metadata": {},
   "source": [
    "## Tuples\n",
    "A tuple object is similar to a list, but it cannot be changed. Tuples are immutable sequences, which means their values cannot be changed after initialization. You use a tuple to represent fixed collections of items:"
   ]
  },
  {
   "cell_type": "code",
   "execution_count": null,
   "metadata": {},
   "outputs": [],
   "source": [
    "# define the weekdays using a list:\n",
    "weekdays_list = ['Monday', 'Tuesday', 'Wednesday', 'Thursday', 'Friday', 'Saturday', 'Sunday']\n",
    "print(type(weekdays_list))\n",
    "print(weekdays_list)\n",
    "print()\n",
    "\n",
    "# However, this does not guarantee that the values will remain unchanged throughout its lifetime because a list is mutable. What we can do is to define it using a tuple,\n",
    "weekdays_list = ('Monday', 'Tuesday', 'Wednesday', 'Thursday', 'Friday', 'Saturday', 'Sunday')\n",
    "print(type(weekdays_list))\n",
    "print(weekdays_list)\n",
    "print()"
   ]
  },
  {
   "cell_type": "markdown",
   "metadata": {},
   "source": [
    "### 3.1 Exploring Tuple Properties in Our Shopping List"
   ]
  },
  {
   "cell_type": "code",
   "execution_count": null,
   "metadata": {},
   "outputs": [],
   "source": [
    "t = ('bread', 'milk', 'eggs')\n",
    "print(len(t))\n",
    "print()\n",
    "\n",
    "# Please note that you can not add or delete an item from a tuple because it is immutable\n",
    "# The following code will give you an error:  (error: tupple object has no attribute append)\n",
    "#t.appent('apple')\n",
    "#t[2] = 'apple'\n",
    "\n",
    "# The only way to get arround this is to create a new tuple by concatenating the existing tuple with other new items.\n",
    "print(t + ('apple', 'orange'))\n",
    "print(t)\n",
    "print()\n"
   ]
  },
  {
   "cell_type": "code",
   "execution_count": null,
   "metadata": {},
   "outputs": [],
   "source": [
    "t_mixed = 'apple', True, 3\n",
    "print(t_mixed)\n",
    "print()\n",
    "\n",
    "t_shopping = ('apple', 3), ('orange', 2), ('banana', 5)\n",
    "print(t_shopping)\n",
    "print()"
   ]
  },
  {
   "cell_type": "markdown",
   "metadata": {},
   "source": [
    "## A Survey of Sets\n",
    "So far, in this chapter, you have covered lists, dictionaries, and tuples. You can now have a look at sets, which are another type of Python data structure.\n",
    "\n",
    "Sets are a relatively new addition to the Python collection type. They are unordered collections of unique and immutable objects that support operations mimicking mathematical set theory. As sets do not allow multiple occurrences of the same element, they can be used to effectively prevent duplicate values.\n",
    "\n",
    "A set is a collection of objects (called members or elements). For instance, you can define set A as even numbers between 1 to 10, and it will contain {2,4,6,8,10}, and set B can be odd numbers between 1 to 10, and it will contain {1,3,5,7,9}. In the following exercise, you will get our hands on sets in Python:\n",
    "\n",
    "### 3.2 using Sets in Python"
   ]
  },
  {
   "cell_type": "code",
   "execution_count": null,
   "metadata": {},
   "outputs": [],
   "source": [
    "# Initialize a set, You can pass in a list to initialize a set:\n",
    "s1 = set([1, 2, 3, 4, 5, 6,])\n",
    "print(s1)\n",
    "print()\n",
    "\n",
    "s2 = set([1, 2, 2, 3, 4, 4, 5, 6, 6])\n",
    "print(s2)\n",
    "print()\n",
    "\n",
    "s3 = set([3, 4, 5, 6, 6, 1, 1, 2])\n",
    "print(s3)\n",
    "print()"
   ]
  },
  {
   "cell_type": "code",
   "execution_count": null,
   "metadata": {},
   "outputs": [],
   "source": [
    "# You can see that the set is unique and unordered, so duplicate items and the original order are not preserved.\n",
    "s4 = {\"apple\", \"orange\", \"banana\"}  # Note: you can also initialize a set using curly brackets directly.\n",
    "print(type(s4))\n",
    "print(s4)\n",
    "print()\n",
    "\n",
    "# Sets are mutable. you can add or remove elements:\n",
    "s4.add('pineapple')\n",
    "print(s4)\n",
    "print()"
   ]
  },
  {
   "cell_type": "markdown",
   "metadata": {},
   "source": [
    "### Set Operations\n",
    "Sets support common operations such as unions and intersections. A union operation returns a single set that contains all the unique elements in both set A and B; an intersect operation returns a single set that contains unique elements that belong to set A and also belongs to set B at the same time:\n",
    "\n",
    "#### 3.3 Implementing Set Operations"
   ]
  },
  {
   "cell_type": "code",
   "execution_count": null,
   "metadata": {},
   "outputs": [],
   "source": [
    "s5 = {1, 2, 3, 4}\n",
    "s6 = {3, 4, 5, 6}\n",
    "\n",
    "# Use the (|) or the union method for a union operation:\n",
    "print(s5 | s6)\n",
    "print(s5.union(s6))\n",
    "print()\n",
    "\n",
    "# Use the (&) operator or the intersection method for an intersection operation:\n",
    "print(s5 & s6)\n",
    "print(s5.intersection(s6))\n",
    "print()\n",
    "\n",
    "# Use the (-) operator or the difference method to find the difference between two sets:\n",
    "print(s5 - s6)\n",
    "print(s5.difference(s6))\n",
    "print()\n",
    "\n",
    "# Use the (<=) operator or the issubset method to check if one set is a subset of another:\n",
    "print(s5 <= s6)\n",
    "print(s5.issubset(s6))\n",
    "print()\n",
    "\n",
    "s7 = {1, 2, 3}\n",
    "s8 = {1, 2, 3, 4, 5}\n",
    "print(s7 <= s8)\n",
    "print(s7.issubset(s8))\n",
    "print()"
   ]
  },
  {
   "cell_type": "code",
   "execution_count": null,
   "metadata": {},
   "outputs": [],
   "source": [
    "# Check whether s7 is a formal subset of s8, and check whether a set can be a proper subset of itself by entering the following:\n",
    "print(s7 < s8)\n",
    "print()\n",
    "\n",
    "s9 = {1, 2, 3}\n",
    "s10 = {1, 2, 3}\n",
    "print(s9 < s10)\n",
    "print()\n",
    "print(s9 < s9)"
   ]
  },
  {
   "cell_type": "code",
   "execution_count": null,
   "metadata": {},
   "outputs": [],
   "source": [
    "# We can see that s7 is a proper subset of s8 because there are other elements in s8 apart from all the elements of s7. But s9 is not a subset of s10 because they are identical. Therefore, a set is not a subset of itself.\n",
    "\n",
    "# Use the (>=) operator or the issuperset method to check whether one set is the superset of another.\n",
    "print(s8 >= s7)\n",
    "print(s8.issuperset(s7))\n",
    "print()\n",
    "\n",
    "print(s8 > s7)\n",
    "print(s8 > s8)\n",
    "print()"
   ]
  },
  {
   "cell_type": "markdown",
   "metadata": {},
   "source": [
    "The first three statements will return True because s8 is the superset of s7 and is also a proper superset of s7. The last statement will return false because no set can be a proper superset of itself.\n",
    "\n",
    "Having completed this exercise, you now know that Python sets are useful for efficiently preventing duplicate values and are suitable for common math operations such as unions and intersections.\n",
    "\n",
    "Note: After all the topics covered so far, you may think that sets are similar to lists or dictionaries. However, sets are unordered and do not map keys to values, so they are neither a sequence or a mapping type; they are a type by themselves."
   ]
  },
  {
   "cell_type": "markdown",
   "metadata": {},
   "source": [
    "# 3. Executing Python - Programs, Algorithms, and Functions"
   ]
  },
  {
   "cell_type": "markdown",
   "metadata": {},
   "source": [
    "## Python Scripts and Modules"
   ]
  },
  {
   "cell_type": "code",
   "execution_count": null,
   "metadata": {},
   "outputs": [],
   "source": [
    "# Factorial\n",
    "import math\n",
    "\n",
    "numbers = [5, 7, 11]\n",
    "result = sum([math.factorial(n) for n in numbers])\n",
    "print(result)\n",
    "print()\n",
    "\n",
    "def compute(numbers):\n",
    "    return([math.factorial(n) for n in numbers])\n",
    "\n",
    "compute([5, 7, 11])"
   ]
  },
  {
   "cell_type": "code",
   "execution_count": null,
   "metadata": {},
   "outputs": [],
   "source": [
    "import math\n",
    "math.exp(2)"
   ]
  },
  {
   "cell_type": "code",
   "execution_count": null,
   "metadata": {},
   "outputs": [],
   "source": [
    "from math import exp\n",
    "exp(2)"
   ]
  },
  {
   "cell_type": "code",
   "execution_count": null,
   "metadata": {},
   "outputs": [],
   "source": [
    "from math import exp as exponential\n",
    "exponential(2)"
   ]
  },
  {
   "cell_type": "code",
   "execution_count": null,
   "metadata": {},
   "outputs": [],
   "source": [
    "import datetime\n",
    "print(datetime.date.today())"
   ]
  },
  {
   "cell_type": "markdown",
   "metadata": {},
   "source": [
    "### The if __name__ == \"__main__\" Statement\n",
    "You will often see this cryptic statement in Python scripts. You won't cover this concept in-depth, but it's worth understanding. It is used when you want to be able to execute the script by itself, but also be able to import objects from the script as though it were a regular module.\n",
    "\n",
    "For example, suppose you wanted to get the sum of the numbers from 1 to 10. If you execute the function from the command line, you want the result printed to the console. However, you also want to be able to import the value to use it elsewhere in our code.\n",
    "\n",
    "You may be tempted to write something like this:\n",
    "\n"
   ]
  },
  {
   "cell_type": "code",
   "execution_count": null,
   "metadata": {},
   "outputs": [],
   "source": [
    "result = 0\n",
    "for n in range(1, 11):    # Recall that this loops through 1 to 10 not including 11\n",
    "    result += n\n",
    "print(result)"
   ]
  },
  {
   "cell_type": "code",
   "execution_count": null,
   "metadata": {},
   "outputs": [],
   "source": [
    "result = 0\n",
    "for n in range(1, 11):\n",
    "    result += n\n",
    "    \n",
    "if __name__ == '__main__':\n",
    "    print(result)"
   ]
  },
  {
   "cell_type": "markdown",
   "metadata": {},
   "source": [
    "## Python Algorithms\n",
    "### 3.8 The Maximum Number"
   ]
  },
  {
   "cell_type": "code",
   "execution_count": null,
   "metadata": {},
   "outputs": [],
   "source": [
    "# Create a list of numbers:\n",
    "l = [4, 2, 7, 3]\n",
    "\n",
    "# set the maximum variable equal to 0:\n",
    "maximum = 0\n",
    "\n",
    "# Look through each number, and compare it to maximum:\n",
    "for number in l:\n",
    "    if number > maximum:\n",
    "        maximum = number\n",
    "        \n",
    "# Check the result:\n",
    "print(maximum)"
   ]
  },
  {
   "cell_type": "markdown",
   "metadata": {},
   "source": [
    "### Time Complexity\n",
    "So far, in this book, we have become accustomed to our programs being executed at near-instantaneous speed. Computers are very fast, and the difference between performing 10 iterations in a loop and 1,000 iterations may seem immaterial to us. However, algorithms can quickly become inefficient as the problem grows. In measuring complexity, you are interested in knowing the time it takes to execute the algorithm changes as the size of the problem changes. If the problem is 10 times as large, does the algorithm take 10 times as long to execute, 100 times as long, or 1010 times as long? This relationship between the size of the problem and the steps taken is called the time complexity of an algorithm."
   ]
  },
  {
   "cell_type": "markdown",
   "metadata": {},
   "source": [
    "### 3.9 Using Bubble Sort in Python"
   ]
  },
  {
   "cell_type": "code",
   "execution_count": null,
   "metadata": {},
   "outputs": [],
   "source": [
    "# Start with a list of numbers\n",
    "l = [5, 8, 1, 3, 2]\n",
    "\n",
    "# Create an indicator that will tell us when you can stop looping through the array:\n",
    "still_swapping = True\n",
    "\n",
    "# Look through each number and compare it to the maximum:\n",
    "while still_swapping:\n",
    "    still_swapping = False\n",
    "    for i in range(len(l) - 1):\n",
    "        if l[i] > l[i+1]:\n",
    "            l[i], l[i+1] = l[i+1], l[i]\n",
    "            still_swapping = True\n",
    "            \n",
    "l"
   ]
  },
  {
   "cell_type": "markdown",
   "metadata": {},
   "source": [
    "### 4.0 Linear Search in Python"
   ]
  },
  {
   "cell_type": "code",
   "execution_count": null,
   "metadata": {},
   "outputs": [],
   "source": [
    "# Start with a list of numbers\n",
    "l = [5, 8, 1, 3, 2]\n",
    "\n",
    "# Specify the value to search_for:\n",
    "search_for = 8\n",
    "\n",
    "# Create a result variable that has a default value of -1. If the search is unsuccessful, this value will remain -1 after the algorithm is executed:\n",
    "result = -1\n",
    "\n",
    "# Loop through the list. If the value equals the search value, set the result, and exit the loop:\n",
    "for i in range(len(l)):\n",
    "    if search_for == l[i]:\n",
    "        result = i\n",
    "        break\n",
    "        \n",
    "# Check the result:\n",
    "print(result)        # prints 1, which means the search found the required value at position 1 in the list (which is the second item in the list, as indicated start from 0 in Python)."
   ]
  },
  {
   "cell_type": "markdown",
   "metadata": {},
   "source": [
    "### 4.1 Binaery Search in Python"
   ]
  },
  {
   "cell_type": "code",
   "execution_count": null,
   "metadata": {},
   "outputs": [],
   "source": [
    "# Start with a list of numbers:\n",
    "l = [2, 3, 5, 8, 11, 12, 18]   # In Binary search the list has to be sorted first\n",
    "\n",
    "# Specify the value to search_for:\n",
    "search_for = 11\n",
    "\n",
    "# Create two variables that will represent the start and end locations of the sublist you are interested in. Initially, it will represent the start and end indices for the entire list:\n",
    "slice_start = 0\n",
    "slice_end = len(l) - 1\n",
    "\n",
    "# Add a variable to indicate whether the search was successful:\n",
    "found = False\n",
    "\n",
    "# Find the midpoint of the list, and check whether the value is greater or less than the search term. Depending on the outcome of the comparison, either finish the search or update the locations for the start/end of the sublist:\n",
    "while slice_start <= slice_end and not found:\n",
    "    location = (slice_start + slice_end) // 2\n",
    "    if l[location] == search_for:\n",
    "        found = True\n",
    "    else:\n",
    "        if search_for < l[location]:\n",
    "            slice_end = location - 1\n",
    "        else:\n",
    "            slice_start = location + 1\n",
    "            \n",
    "# Check the results:\n",
    "print(found)\n",
    "print(location)"
   ]
  },
  {
   "cell_type": "markdown",
   "metadata": {},
   "source": [
    "## Basic Functions\n",
    "A function is a reusable piece of code that is only run when it is called. Functions can have inputs, and they usually return an output. For example, using a Python shell, you can define the following function that takes two inputs and returns the sum:"
   ]
  },
  {
   "cell_type": "code",
   "execution_count": null,
   "metadata": {},
   "outputs": [],
   "source": [
    "def add_up(x, y):\n",
    "    return x + y\n",
    "add_up(1, 3)"
   ]
  },
  {
   "cell_type": "markdown",
   "metadata": {},
   "source": [
    "### 4.2 Defining and calling the Function in Shell"
   ]
  },
  {
   "cell_type": "code",
   "execution_count": null,
   "metadata": {},
   "outputs": [],
   "source": [
    "# Create a function that will return the second element of a list if it exists:\n",
    "# Enter the function definition, Note that the tab spacing needs to match the following output:\n",
    "def get_second_element(mylist):\n",
    "    if len(mylist) > 1:\n",
    "        return mylist[1]\n",
    "    else:\n",
    "        return 'List was too small'\n",
    "    \n",
    "# Try running the function on a small list of integers:\n",
    "get_second_element([1, 2, 3])   "
   ]
  },
  {
   "cell_type": "code",
   "execution_count": null,
   "metadata": {},
   "outputs": [],
   "source": [
    "# Try running the finction on a list with only one element:\n",
    "get_second_element([1])"
   ]
  },
  {
   "cell_type": "markdown",
   "metadata": {},
   "source": [
    "### 4.3 Defining and Calling the Function in Python Script"
   ]
  },
  {
   "cell_type": "code",
   "execution_count": null,
   "metadata": {},
   "outputs": [],
   "source": [
    "def list_product(my_list):\n",
    "    result = 1\n",
    "    for number in my_list:\n",
    "        result = result * number\n",
    "    return result\n",
    "\n",
    "print(list_product([2, 3]))\n",
    "print()\n",
    "print(list_product([2, 10, 15])) # (10 * 15) * 2 = 300 * 1 = 300"
   ]
  },
  {
   "cell_type": "markdown",
   "metadata": {},
   "source": [
    "### Positional Arguments\n",
    "The preceding examples have all included positional arguments. In the following example, there are two positional arguments, x and y, respectively. When you call this function, the first value you pass in will be assigned to x, and the second value will be assigned to y:"
   ]
  },
  {
   "cell_type": "code",
   "execution_count": null,
   "metadata": {},
   "outputs": [],
   "source": [
    "def add_up(x, y):\n",
    "    return x + y\n",
    "\n",
    "# You can specify function without any arguments:\n",
    "from datetime import datetime\n",
    "def get_the_time():\n",
    "    return datetime.now()\n",
    "print(get_the_time())"
   ]
  },
  {
   "cell_type": "markdown",
   "metadata": {},
   "source": [
    "### Keyword Arguments\n",
    "Keyword arguments, also known as named arguments, are optional inputs to functions. These arguments have a default value that is taken when the function is called without the keyword argument specified.\n",
    "\n",
    "### 4.5 Defining the Function with Keyword Arguments"
   ]
  },
  {
   "cell_type": "code",
   "execution_count": null,
   "metadata": {},
   "outputs": [],
   "source": [
    "# Define the add_suffix function:\n",
    "def add_suffix(suffix='.com'):\n",
    "    return 'google' + suffix\n",
    "\n",
    "# Call the add_suffix function without specifying the suffix arguments:\n",
    "print(add_suffix())\n",
    "print()\n",
    "\n",
    "# Call the function with a specific suffix argument\n",
    "add_suffix('.co.uk')"
   ]
  },
  {
   "cell_type": "markdown",
   "metadata": {},
   "source": [
    "### 4.6 Defining the Function with Positional and keyword Arguments"
   ]
  },
  {
   "cell_type": "code",
   "execution_count": null,
   "metadata": {},
   "outputs": [],
   "source": [
    "# Define the convert_usd_to_aud function:\n",
    "def convert_usd_to_aud(amount, rate=0.75):\n",
    "    return amount / rate\n",
    "\n",
    "# Call the convert_usd_to_aud function without specifying the exchange rate\n",
    "print(convert_usd_to_aud(100))\n",
    "print()\n",
    "\n",
    "# Call the convert_usd_to_aud function with specific exchange rate argument\n",
    "print(convert_usd_to_aud(100, rate=.78))"
   ]
  },
  {
   "cell_type": "markdown",
   "metadata": {},
   "source": [
    "The rule of thumb is to simply use positional arguments for required inputs that must be provided each time the function is called, and keyword arguments for optional inputs.\n",
    "\n",
    "You will sometimes see functions that accept a mysterious-looking argument: **kwargs. This allows the function to accept any keyword arguments when it's called, and these can be accessed in a dictionary called \"kwargs\". Typically, this is used when you want to pass arguments through to another function.\n",
    "\n",
    "### 4.7 Using **kwargs\n",
    "In this exercise, you will write a Python script to pass named arguments through a convert_usd_to_aud function:"
   ]
  },
  {
   "cell_type": "code",
   "execution_count": null,
   "metadata": {},
   "outputs": [],
   "source": [
    "# Enter the convert_usd_to_aud function defined in teh previous exercise:\n",
    "def convert_usd_to_aud(amount, rate=0.75):\n",
    "    return amount / rate\n",
    "\n",
    "# Create a new convert_and_sum_list function that will take a list of amounts, convert them to AUD, and return the sum:\n",
    "def convert_and_sum_list(usd_list, rate=0.75):\n",
    "    total = 0\n",
    "    for amount in usd_list:\n",
    "        total += convert_usd_to_aud(amount, rate=rate)\n",
    "    return total\n",
    "\n",
    "print(convert_and_sum_list([1, 3]))\n",
    "print()\n",
    "\n",
    "def convert_and_sum_list_kwargs(usd_list, **kwargs):\n",
    "    total = 0\n",
    "    for amount in usd_list:\n",
    "        total += convert_usd_to_aud(amount, **kwargs)\n",
    "    return total\n",
    "\n",
    "print(convert_and_sum_list_kwargs([1, 3], rate=0.8))"
   ]
  },
  {
   "cell_type": "markdown",
   "metadata": {},
   "source": [
    "### Activity 9: Formatting Customer Names"
   ]
  },
  {
   "cell_type": "code",
   "execution_count": null,
   "metadata": {},
   "outputs": [],
   "source": [
    "from customer import format_customer\n",
    "\n",
    "def format_customer(first, last, location=None):\n",
    "    # Use the (%) string formatting notation to create a full_name variable:\n",
    "    full_name = '%s %s' %(first, last)\n",
    "    # check whether a location has been specified and, if so, appends the location details to the full name.\n",
    "    # If no location was specified, just the full name is returned:\n",
    "    if location:\n",
    "        return '%s (%s)' %(full_name, location)\n",
    "    else:\n",
    "        return full_name\n",
    "\n",
    "print(format_customer('john', 'Smith', location='California'))\n",
    "print()\n",
    "print(format_customer('Mareike', 'Schmidt'))"
   ]
  },
  {
   "cell_type": "markdown",
   "metadata": {},
   "source": [
    "## Iterative Functions"
   ]
  },
  {
   "cell_type": "code",
   "execution_count": null,
   "metadata": {},
   "outputs": [],
   "source": [
    "# Perform firve iterations and print the i variable each loop:\n",
    "for i in range(5):\n",
    "    print(i)"
   ]
  },
  {
   "cell_type": "markdown",
   "metadata": {},
   "source": [
    "### 4.8 A Simple Function with a for Loop\n",
    "Create a sum_first_n function that sums up the first n integers. i.e, if you pass the n=3 function, it should return 1 + 2 + 3 = 6"
   ]
  },
  {
   "cell_type": "code",
   "execution_count": null,
   "metadata": {},
   "outputs": [],
   "source": [
    "# Enter the function definition. \n",
    "def sum_first_n(n):\n",
    "    result = 0\n",
    "    for i in range(n):\n",
    "        result += i + 1\n",
    "    return result\n",
    "\n",
    "# Test the sum_first_n function on an example:\n",
    "sum_first_n(100)"
   ]
  },
  {
   "cell_type": "markdown",
   "metadata": {},
   "source": [
    "### Exiting Early\n",
    "### 4.9 Exiting the Function During the for Loop\n",
    "In this exercise, you will create a function that (inefficiently) checks whether a certain number x is a prime. The function does this by looping through all the numbers from 2 to x and checks whether x is divisible by it. If it finds a number that x is divisible by, the iteration will stop and return False, as it has ascertained that x is not prime:"
   ]
  },
  {
   "cell_type": "code",
   "execution_count": null,
   "metadata": {},
   "outputs": [],
   "source": [
    "# Enter the function definition\n",
    "def is_prime(x):\n",
    "    for i in range(2, x):\n",
    "        if(x % i) == 0:\n",
    "            return False\n",
    "    return True\n",
    "\n",
    "# Test the function on a copuple of example\n",
    "print(is_prime(7))\n",
    "print()\n",
    "\n",
    "print(is_prime(1000))"
   ]
  },
  {
   "cell_type": "code",
   "execution_count": null,
   "metadata": {},
   "outputs": [],
   "source": [
    "!cp Chapter03/Activity10/fibonacci.py ."
   ]
  },
  {
   "cell_type": "code",
   "execution_count": null,
   "metadata": {},
   "outputs": [],
   "source": [
    "def fibonacci_iterative(n):\n",
    "    previous = 0\n",
    "    current = 1\n",
    "    for i in range(n - 1):\n",
    "        current_old = previous + current\n",
    "        previous = current_old"
   ]
  },
  {
   "cell_type": "code",
   "execution_count": null,
   "metadata": {},
   "outputs": [],
   "source": [
    "from fibonacci import fibonacci_iterative\n",
    "print(fibonacci_iterative(3))\n",
    "print()\n",
    "\n",
    "print(fibonacci_iterative(10))"
   ]
  },
  {
   "cell_type": "markdown",
   "metadata": {},
   "source": [
    "## Recursive Functions \n",
    "When a function calls itself, it is known as a Recursive Function. This is like for loops. However, sometimes it allows you to write more elegant and terse functions than can be achieved with a loop.\n",
    "\n",
    "You can imagine that a function that calls itself might end up in an infinite loop; it is true that you can write a recursive function that will keep running indefinitely:"
   ]
  },
  {
   "cell_type": "code",
   "execution_count": null,
   "metadata": {},
   "outputs": [],
   "source": [
    "# Do not run the following code (infinite loop)\n",
    "def print_the_next_number(start):\n",
    "    print(start + 1)\n",
    "    return print_the_next_number(start + 1)\n",
    "\n",
    "print_the_next_number(5)"
   ]
  },
  {
   "cell_type": "markdown",
   "metadata": {},
   "source": [
    "### A Terminating Case\n",
    "To avoid being stuck in an infinite loop, a recursive function will typically have a Terminating Case, such as a point where the chain of recursion is broken. In our previous example, you could make it stop once the start parameter is greater than or equal to 7:"
   ]
  },
  {
   "cell_type": "code",
   "execution_count": null,
   "metadata": {},
   "outputs": [],
   "source": [
    "def print_the_next_number(start):\n",
    "    print(start + 1)\n",
    "    if start >= 7:\n",
    "        return \"I'm bored. May max number is more than or equal to 7, so I am stopping here\"\n",
    "    return print_the_next_number(start + 1)\n",
    "\n",
    "print_the_next_number(5)"
   ]
  },
  {
   "cell_type": "markdown",
   "metadata": {},
   "source": [
    "### 5.0 Recursive Countdown\n",
    "create a countdown function that recursively counts down from integer n until we hit 0:"
   ]
  },
  {
   "cell_type": "code",
   "execution_count": null,
   "metadata": {},
   "outputs": [],
   "source": [
    "def countdown(n):\n",
    "    if n == 0:\n",
    "        print('liftoff!')\n",
    "    else:\n",
    "        print(n)\n",
    "        return countdown(n - 1)\n",
    "    \n",
    "countdown(3)"
   ]
  },
  {
   "cell_type": "markdown",
   "metadata": {},
   "source": [
    "### 5.1 Factorials with Iteration and Recursion\n",
    "In this exercise, you create a factorial_iterative function that takes an integer and returns the factorial using both an iterative and a recursive approach. Recall that a factorial is the product of all integers up to and equal to the number.\n",
    "\n",
    "For instance, the factorial of 5 is calculated as 5! = 5 * 4 * 3 * 2 * 1 = 120."
   ]
  },
  {
   "cell_type": "code",
   "execution_count": null,
   "metadata": {},
   "outputs": [],
   "source": [
    "def factorial_iterative(n):\n",
    "    result = 1\n",
    "    for i in range(n):\n",
    "        result *= i + 1\n",
    "    return result\n",
    "\n",
    "print(factorial_iterative(5))\n",
    "print()\n",
    "\n",
    "# Note that you can express n!=n*(n-1)!; fo instance, 5!=5*4!.\n",
    "# This means we can write the function with recursion as follows:\n",
    "def factorial_iterative(n):\n",
    "    if n == 1:\n",
    "        return 1\n",
    "    else:\n",
    "        return n * factorial_iterative(n - 1)\n",
    "\n",
    "print(factorial_iterative(5))"
   ]
  },
  {
   "cell_type": "code",
   "execution_count": null,
   "metadata": {},
   "outputs": [],
   "source": [
    "!cp Chapter03/Activity11/fibonacci.py ."
   ]
  },
  {
   "cell_type": "code",
   "execution_count": null,
   "metadata": {},
   "outputs": [],
   "source": [
    "# fibonacci.py\n",
    "\n",
    "def fibonacci_iterative(n):\n",
    "    previous = 0\n",
    "    current = 1\n",
    "    for i in range(n - 1):\n",
    "        current_old = current\n",
    "        current = previous + current\n",
    "        previous = current_old\n",
    "    return current\n",
    "def fibonacci_recursive(n):\n",
    "    if n == 0 or n == 1:\n",
    "        return n\n",
    "    else:\n",
    "        return fibonacci_recursive(n - 2) + fibonacci_recursive(n - 1)\n"
   ]
  },
  {
   "cell_type": "code",
   "execution_count": null,
   "metadata": {},
   "outputs": [],
   "source": [
    "from fibonacci import fibonacci_recursive\n",
    "print(fibonacci_recursive(3))\n",
    "print()\n",
    "\n",
    "print(fibonacci_recursive(10))"
   ]
  },
  {
   "cell_type": "markdown",
   "metadata": {},
   "source": [
    "## Dynamic Programming"
   ]
  },
  {
   "cell_type": "markdown",
   "metadata": {},
   "source": [
    "### 5.2 Summing Integers"
   ]
  },
  {
   "cell_type": "code",
   "execution_count": null,
   "metadata": {},
   "outputs": [],
   "source": [
    "# Write a sum_to_n function that starts with result = 0, and an empty dictionary for saving results\n",
    "stored_results = {}\n",
    "def sum_to_n(n):\n",
    "    result = 0"
   ]
  },
  {
   "cell_type": "code",
   "execution_count": null,
   "metadata": {},
   "outputs": [],
   "source": [
    "stored_results = {}\n",
    "def sum_to_n(n):\n",
    "    result = 0\n",
    "    # Add in a loop that computes the sum, returns the result, and stores the result in our dictionary:\n",
    "    for i in reversed(range(n)):\n",
    "        result += i + 1\n",
    "    stored_results[n] = result\n",
    "    return result"
   ]
  },
  {
   "cell_type": "code",
   "execution_count": null,
   "metadata": {},
   "outputs": [],
   "source": [
    "# Extend the function further by checking in each loop whether you already have a result for this number, if so, use the stored result and exit the loop:\n",
    "stored_results = {}\n",
    "def sum_to_n(n):\n",
    "    result = 0\n",
    "    for i in reversed(range(n)):\n",
    "        if i + 1 in stored_results:\n",
    "            print('Stopping sum at %s because we have previously computed it' % str(i + 1))\n",
    "            result += stored_results[i + 1]\n",
    "            break\n",
    "        else:\n",
    "            result += i + 1\n",
    "    stored_results[n] = result\n",
    "    return result\n",
    "        \n",
    "# Test the functionality\n",
    "print(sum_to_n(5))\n",
    "print()\n",
    "\n",
    "print(sum_to_n(6))\n",
    "print()"
   ]
  },
  {
   "cell_type": "markdown",
   "metadata": {},
   "source": [
    "### 5.3 Timing Your Code"
   ]
  },
  {
   "cell_type": "code",
   "execution_count": null,
   "metadata": {},
   "outputs": [],
   "source": [
    "import time\n",
    "\n",
    "# Modify the function to calculate the time at the start and print out the time elapsed at the end\n",
    "stored_results = {}\n",
    "def sum_to_n(n):\n",
    "    start_time = time.perf_counter()\n",
    "    result = 0\n",
    "    for i in reversed(range(n)):\n",
    "        if i + 1 in stored_results:\n",
    "            print('Stopping sum at %s because we have previously computed it' % str(i + 1))\n",
    "            result += stored_results[i + 1]\n",
    "            break\n",
    "        else:\n",
    "            result += i + 1\n",
    "    stored_results[n] = result\n",
    "    print(time.perf_counter() - start_time, \"seconds\")\n",
    "        \n",
    "# Test the functionality\n",
    "print(sum_to_n(1000000))"
   ]
  },
  {
   "cell_type": "code",
   "execution_count": null,
   "metadata": {},
   "outputs": [],
   "source": [
    "sum_to_n(1000000)"
   ]
  },
  {
   "cell_type": "code",
   "execution_count": null,
   "metadata": {},
   "outputs": [],
   "source": [
    "!ls -la | grep fibonacci.py"
   ]
  },
  {
   "cell_type": "markdown",
   "metadata": {},
   "source": [
    "### Activity 12: The Fibonacci Function with Dynamic Programming"
   ]
  },
  {
   "cell_type": "code",
   "execution_count": null,
   "metadata": {},
   "outputs": [],
   "source": [
    "# begin by keeping a dictionary of Fibonacci numbers in the stored variable.\n",
    "# The keys of the dictionary represent the index of the value in the sequence (such as first, second, and fifth nuumber) and the value itself:\n",
    "stored = {0: 0, 1: 1}  # we set the first 2 terms of the Fibonacci sequence here.\n",
    "\n",
    "# When calling the fibonacci_dynamic function, we check to see whether we have already computed the result; if so, we simply return the value from the dictionary:\n",
    "def fibonacci_dynamic(n):\n",
    "    if n in stored:\n",
    "        return stored[n]\n",
    "    # Otherwise, we revert to the recursive logic by calling the function to compute the previous two terms:\n",
    "    else:\n",
    "        stored[n] = fibonacci_dynamic(n - 2) + fibonacci_dynamic(n - 1)\n",
    "        return stored[n]\n",
    "    \n",
    "# we import fibonacci_recursive from fibonacci and run the code:\n",
    "from fibonacci import fibonacci_recursive\n",
    "print(fibonacci_dynamic(100))\n",
    "print()\n",
    "\n",
    "print(fibonacci_dynamic(175))\n",
    "print()\n",
    "\n",
    "print(fibonacci_dynamic(3))"
   ]
  },
  {
   "cell_type": "markdown",
   "metadata": {},
   "source": [
    "## Helper Functions\n",
    "A helper function performs part of the computation of another function. It allows you to reuse common code without repeating ourselves. For instance, suppose you had a few lines of code that printed out the elapsed time at various points in a function:"
   ]
  },
  {
   "cell_type": "code",
   "execution_count": null,
   "metadata": {},
   "outputs": [],
   "source": [
    "import time\n",
    "def do_things():\n",
    "    start_time = time.perf_counter()\n",
    "    for i in range(10):\n",
    "        y = i ** 100\n",
    "        print(time.perf_counter() - start_time, \"seconds elapsed\")\n",
    "    x = 10**2\n",
    "    print(time.perf_counter() - start_time, \"seconds elapsed\")\n",
    "    return x\n",
    "\n",
    "do_things()"
   ]
  },
  {
   "cell_type": "markdown",
   "metadata": {},
   "source": [
    "The print statement is repeated twice in the preceding code, and will be better expressed as a helper function, as follows:"
   ]
  },
  {
   "cell_type": "code",
   "execution_count": null,
   "metadata": {},
   "outputs": [],
   "source": [
    "import time\n",
    "def print_time_elapsed(start_time):\n",
    "    print(time.perf_counter() - start_time, \"seconds elapsed\")\n",
    "\n",
    "def do_things():\n",
    "    start_time = time.perf_counter()\n",
    "    for i in range(10):\n",
    "        y = i ** 100\n",
    "        print_time_elapsed(start_time)\n",
    "    x = 10**2\n",
    "    print_time_elapsed(start_time)\n",
    "    return x\n",
    "\n",
    "do_things()"
   ]
  },
  {
   "cell_type": "markdown",
   "metadata": {},
   "source": [
    "### Don't Repeat Yourself\n",
    "The preceding example encapsulates the Don't Repeat Yourself (DRY) programming principle. In other words, \"Every piece of knowledge or logic must have a single, unambiguous representation within a system.\" If you want to do the same thing multiple times in your code, it should be expressed as a function, and called wherever it is needed."
   ]
  },
  {
   "cell_type": "markdown",
   "metadata": {},
   "source": [
    "### 5.4 Helper Currency Conversion\n",
    "In this exercise, you will take a function that computes the total USD for a transaction and use a helper function to apply the DRY principle. You also want to add an optional margin into the currency conversion that should default to 0:"
   ]
  },
  {
   "cell_type": "code",
   "execution_count": null,
   "metadata": {},
   "outputs": [],
   "source": [
    "def compute_usd_total(amount_in_aud=0, amount_in_gbp=0, amount_in_egp=0):\n",
    "    total = 0\n",
    "    total += amount_in_aud * 0.78\n",
    "    total += amount_in_gbp * 1.29\n",
    "    total += amount_in_egp * 16.60\n",
    "    return total\n",
    "\n",
    "print(\"The amount exchange in British pound would be: \",compute_usd_total(amount_in_gbp=10))\n",
    "print()\n",
    "\n",
    "print(\"The amount exchange in Australian dollars would be: \",compute_usd_total(amount_in_aud=10))\n",
    "print()\n",
    "\n",
    "print(\"The amount exchange in Egyptian pound would be: \",compute_usd_total(amount_in_egp=10))"
   ]
  },
  {
   "cell_type": "code",
   "execution_count": null,
   "metadata": {},
   "outputs": [],
   "source": [
    "# Using helper\n",
    "\n",
    "# Create a currency conversion function with an optional margin:\n",
    "def convert_currency(amount, rate, margin=0):\n",
    "    return amount * rate * (1 + margin)\n",
    "\n",
    "# Modify the original function to use the helper function:\n",
    "def compute_usd_total(amount_in_aud=0, amount_in_gbp=0, amount_in_egp=0):\n",
    "    total = 0\n",
    "    total += convert_currency(amount_in_aud, 0.78)\n",
    "    total += convert_currency(amount_in_gbp, 1.29)\n",
    "    total += convert_currency(amount_in_egp, 16.60)\n",
    "    return total\n",
    "\n",
    "# check the results\n",
    "print(\"The amount exchange in British pound would be: \",compute_usd_total(amount_in_gbp=10))\n",
    "print()\n",
    "\n",
    "print(\"The amount exchange in Australian dollars would be: \",compute_usd_total(amount_in_aud=10))\n",
    "print()\n",
    "\n",
    "print(\"The amount exchange in Egyptian pound would be: \",compute_usd_total(amount_in_egp=10))"
   ]
  },
  {
   "cell_type": "code",
   "execution_count": null,
   "metadata": {},
   "outputs": [],
   "source": [
    "# Suppose that the business has decided to add a 1% margin for the conversion of the GBP component. Modify the function accordingly:\n",
    "def compute_usd_total(amount_in_aud=0, amount_in_gbp=0, amount_in_egp=0):\n",
    "    total = 0\n",
    "    total += convert_currency(amount_in_aud, 0.78)\n",
    "    total += convert_currency(amount_in_gbp, 1.29, 0.01)\n",
    "    total += convert_currency(amount_in_egp, 16.60)\n",
    "    return total\n",
    "\n",
    "# Check the result:\n",
    "compute_usd_total(amount_in_gbp=10)"
   ]
  },
  {
   "cell_type": "markdown",
   "metadata": {},
   "source": [
    "## Variable Scope"
   ]
  },
  {
   "cell_type": "markdown",
   "metadata": {},
   "source": [
    "Variables are only available in the area where they are defined. This area is called the scope of the variable. Depending on how and where a variable is defined, it may or may not be accessible in certain parts of your code. Here, you will discuss what variables in Python represent, the difference in defining them inside or outside a function, and how the global and nonlocal keywords can be used to override these default behaviors.\n",
    "\n",
    "#### Variables\n",
    "A variable is a mapping between a name and an object at a certain location in the computer's memory. For example, if you set x = 5, then x is the variable's name, and the value 5 is stored in memory. Python keeps track of the mapping between the name x and the location of the value using namespaces. Namespaces can be thought of as dictionaries, with the names as the keys of the dictionary, and locations in memory as the values.\n",
    "\n",
    "Note that when a variable is assigned to the value of another variable, this just means they are pointing to the same value, not that their equality will be maintained when one of the variables is updated:"
   ]
  },
  {
   "cell_type": "code",
   "execution_count": null,
   "metadata": {},
   "outputs": [],
   "source": [
    "x = 2\n",
    "y = x\n",
    "x = 4\n",
    "\n",
    "print(\"x = \" + str(x))\n",
    "print()\n",
    "\n",
    "print(\"y = \" + str(y))"
   ]
  },
  {
   "cell_type": "markdown",
   "metadata": {},
   "source": [
    "#### Defining inside versus outside a Function\n",
    "When you define a variable at the start of a script, it will be a global variable, accessible from anywhere in the script. This includes within the functions themselves:"
   ]
  },
  {
   "cell_type": "code",
   "execution_count": null,
   "metadata": {},
   "outputs": [],
   "source": [
    "x = 5\n",
    "def do_things():\n",
    "    print(x)\n",
    "do_things()\n",
    "print()\n",
    "\n",
    "# However, if you define a variable within a function, it is only accessible within that function:\n",
    "def my_func():\n",
    "    y = 5\n",
    "    return 2\n",
    "my_func()\n",
    "\n",
    "# However if you want to get the value of (y) you will get NameError: name 'y' is not defined"
   ]
  },
  {
   "cell_type": "markdown",
   "metadata": {},
   "source": [
    "Note that if you define a variable within a function that has already been defined globally, the value will change depending on where the variable is accessed. In the following example, x is defined globally as 3. However, it is defined within the function as 5, and when accessed within the function, you can see it takes the value of 5."
   ]
  },
  {
   "cell_type": "code",
   "execution_count": null,
   "metadata": {},
   "outputs": [],
   "source": [
    "x = 3\n",
    "def my_func():\n",
    "    x = 5\n",
    "    print(x)\n",
    "    \n",
    "my_func()"
   ]
  },
  {
   "cell_type": "code",
   "execution_count": null,
   "metadata": {},
   "outputs": [],
   "source": [
    "# However, when it is accessed outside of the function, it takes the global value, 3.\n",
    "score = 0\n",
    "def update_score(new_score):\n",
    "    score = new_score\n",
    "update_score(100)  # Note that this is local to the function but it is outside of the function,  In this case the global variable score = 0 will be the output\n",
    "print(score)"
   ]
  },
  {
   "cell_type": "markdown",
   "metadata": {},
   "source": [
    "### The Global Keyword\n",
    "The global keyword simply tells Python to use the existing globally defined variable, where the default behavior will be to define it locally. You can do this using the same example as before:"
   ]
  },
  {
   "cell_type": "code",
   "execution_count": null,
   "metadata": {},
   "outputs": [],
   "source": [
    "score = 0\n",
    "def update_score(new_score):\n",
    "    global score\n",
    "    score = new_score\n",
    "print(score)\n",
    "print()\n",
    "\n",
    "update_score(100) \n",
    "print(score)"
   ]
  },
  {
   "cell_type": "markdown",
   "metadata": {},
   "source": [
    "### The Nonlocal Keyword\n",
    "The nonlocal keyword behaves in a similar way to the global keyword, in that it does not define the variable locally, and instead picks up the existing variable definition. However, it doesn't go straight to the global definition. It first looks at the closest enclosing scope; that is, it will look \"one level up\" in the code.\n",
    "\n",
    "For example, consider the following:"
   ]
  },
  {
   "cell_type": "code",
   "execution_count": null,
   "metadata": {},
   "outputs": [],
   "source": [
    "x = 4\n",
    "def myfunc():\n",
    "    x = 3\n",
    "    def inner():\n",
    "        nonlocal x\n",
    "        print(x)\n",
    "    inner()\n",
    "myfunc()"
   ]
  },
  {
   "cell_type": "markdown",
   "metadata": {},
   "source": [
    "## Lambda Functions\n",
    "Lambda functions are small, anonymous functions that can be defined in a simple on-line code"
   ]
  },
  {
   "cell_type": "code",
   "execution_count": null,
   "metadata": {},
   "outputs": [],
   "source": [
    "# For example, take the following function that returns the sum of two values:\n",
    "def add_up(x, y):\n",
    "    return x + y\n",
    "print(add_up(2, 5))"
   ]
  },
  {
   "cell_type": "code",
   "execution_count": null,
   "metadata": {},
   "outputs": [],
   "source": [
    "# This function can equivalently be writtern using the lambda function syntax as follows:\n",
    "add_up = lambda x, y: x + y\n",
    "print(add_up(2, 5))"
   ]
  },
  {
   "cell_type": "markdown",
   "metadata": {},
   "source": [
    "Note that the main restriction of a lambda function is that it can only contain a single expression. That is, you need to be able to write the expression to return the value in a single line of code. This makes lambda functions convenient only in situations where the function is sufficiently simple such that it can be expressed in a single statement.\n",
    "\n",
    "### 5.5 The First Item in a List\n",
    "In this exercise, you will write a lambda function, first_item, to select the first item in a list containing the items of the cat, dog, and mouse:"
   ]
  },
  {
   "cell_type": "code",
   "execution_count": null,
   "metadata": {},
   "outputs": [],
   "source": [
    "# Create the lambda function:\n",
    "first_item = lambda my_list: my_list[0]\n",
    "\n",
    "# Test the function:\n",
    "first_item(['cat', 'dog', 'mouse'])"
   ]
  },
  {
   "cell_type": "markdown",
   "metadata": {},
   "source": [
    "### Mapping with Lambda Functions\n",
    "map is a special function in Python that applies a given function to all items in a list. For instance, suppose that you had a list of names and you wanted to get the average number of characters:"
   ]
  },
  {
   "cell_type": "code",
   "execution_count": null,
   "metadata": {},
   "outputs": [],
   "source": [
    "names = ['Magda', 'Jose', 'Anne']\n",
    "\n",
    "lengths = []\n",
    "for name in names:\n",
    "    lengths.append(len(name))\n",
    "    print(name)"
   ]
  },
  {
   "cell_type": "code",
   "execution_count": null,
   "metadata": {},
   "outputs": [],
   "source": [
    "# The alternative is to use the map function\n",
    "lengths = list(map(len, names))\n",
    "print(lengths)\n",
    "print()\n",
    "\n",
    "# Note: that the map function returns a generator object, not a list, so you convert it bak to a list\n",
    "# finally, take a look at the average length of the list:\n",
    "print(sum(lengths) / len(lengths))"
   ]
  },
  {
   "cell_type": "markdown",
   "metadata": {},
   "source": [
    "### 5.6 Mapping with a Logistic Transform\n",
    "In this exercise, you use map with a lambda function to apply the logistic function to a list of values.\n",
    "\n",
    "The logistic function is often used in predictive modeling when dealing with binary response variables. It is defined as follows:\n",
    "\n",
    "f(x) = 1 / (1 + e)-x"
   ]
  },
  {
   "cell_type": "code",
   "execution_count": null,
   "metadata": {},
   "outputs": [],
   "source": [
    "# import math module as needed for the exponential function:\n",
    "import math\n",
    "\n",
    "# Create a list of values:\n",
    "nums = [-3, -5, 1, 4]\n",
    "\n",
    "# Use a lambda function to map the list of values using a logistic transform:\n",
    "list(map(lambda x: 1 / (1 + math.exp(-x)), nums))"
   ]
  },
  {
   "cell_type": "markdown",
   "metadata": {},
   "source": [
    "### Filtering with Lambda Functions\n",
    "The filter is another special function that, like map, takes a function and iterables (for example, a list) as inputs. It returns the elements for which the function returns True.\n",
    "\n",
    "For example, suppose that you had a list of names and wanted to find those that were three letters long:"
   ]
  },
  {
   "cell_type": "code",
   "execution_count": null,
   "metadata": {},
   "outputs": [],
   "source": [
    "names = ['Karen', 'Jim', 'Kim']\n",
    "list(filter(lambda name: len(name) == 3, names))"
   ]
  },
  {
   "cell_type": "markdown",
   "metadata": {},
   "source": [
    "### 5.7 Using the Filter Lambda\n",
    "Consider a list of all-natural numbers below 10 that are multiples of 3 or 7. The multiples will be 3, 6, 7, and 9, and the sum of these when multiplied is 25.\n",
    "\n",
    "In this exercise, you will be calculating the sum of all the multiples of 3 or 7 below 1,000:\n",
    "\n"
   ]
  },
  {
   "cell_type": "code",
   "execution_count": null,
   "metadata": {},
   "outputs": [],
   "source": [
    "# Create a list of numbers from 0 to 999\n",
    "nums = list(range(1000))\n",
    "\n",
    "# Use a lambda function to filter the values that are divisible by 3 or 7:\n",
    "filtered = filter(lambda x: x % 3 == 0 or x % 7 == 0, nums)\n",
    "\n",
    "# Sum the list to get the result\n",
    "sum(filtered)"
   ]
  },
  {
   "cell_type": "markdown",
   "metadata": {},
   "source": [
    "### Sorting with Lambda Functions\n",
    "Another useful function that lambdas are often used with is sorted. This function takes an iterable, such as a list, and sorts them according to a function.\n",
    "\n",
    "For example, suppose that you had a list of names, and wanted them sorted by length:"
   ]
  },
  {
   "cell_type": "code",
   "execution_count": null,
   "metadata": {},
   "outputs": [],
   "source": [
    "names = ['Ming', 'Jennifer', 'Andrew', 'Boris']\n",
    "sorted(names, key=lambda x : len(x))"
   ]
  },
  {
   "cell_type": "code",
   "execution_count": null,
   "metadata": {},
   "outputs": [],
   "source": []
  },
  {
   "cell_type": "code",
   "execution_count": null,
   "metadata": {},
   "outputs": [],
   "source": []
  }
 ],
 "metadata": {
  "kernelspec": {
   "display_name": "Python 3",
   "language": "python",
   "name": "python3"
  },
  "language_info": {
   "codemirror_mode": {
    "name": "ipython",
    "version": 3
   },
   "file_extension": ".py",
   "mimetype": "text/x-python",
   "name": "python",
   "nbconvert_exporter": "python",
   "pygments_lexer": "ipython3",
   "version": "3.8.5"
  }
 },
 "nbformat": 4,
 "nbformat_minor": 4
}
