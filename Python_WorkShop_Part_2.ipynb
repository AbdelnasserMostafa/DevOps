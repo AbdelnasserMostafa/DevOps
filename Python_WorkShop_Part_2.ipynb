{
 "cells": [
  {
   "cell_type": "markdown",
   "metadata": {},
   "source": [
    "# 4. Extending Python, Files, Errors, and Graphs"
   ]
  },
  {
   "cell_type": "markdown",
   "metadata": {},
   "source": [
    "## Reading Files\n",
    "### 5.8 Reading a Text File Using Python"
   ]
  },
  {
   "cell_type": "code",
   "execution_count": null,
   "metadata": {},
   "outputs": [],
   "source": [
    "f = open('Exercise58/pg37431.txt','rb')\n",
    "text = f.read()\n",
    "# print(text)"
   ]
  },
  {
   "cell_type": "markdown",
   "metadata": {},
   "source": [
    "### 5.9 Reading Partial Content from a Text File"
   ]
  },
  {
   "cell_type": "code",
   "execution_count": null,
   "metadata": {},
   "outputs": [],
   "source": [
    "with open('Exercise59/pg37431.txt', 'rb') as f:\n",
    "    print(f.read(5))"
   ]
  },
  {
   "cell_type": "code",
   "execution_count": null,
   "metadata": {},
   "outputs": [],
   "source": [
    "with open('Exercise59/pg37431.txt', 'rb') as f:\n",
    "    print(f.readline())"
   ]
  },
  {
   "cell_type": "markdown",
   "metadata": {},
   "source": [
    "### 6.0 Creating and Writing Content to Files to Record the Data and Time in a Text File"
   ]
  },
  {
   "cell_type": "code",
   "execution_count": null,
   "metadata": {},
   "outputs": [],
   "source": [
    "f = open('log.txt', 'w')\n",
    "\n",
    "from datetime import datetime\n",
    "import time\n",
    "for i in range(0,10):\n",
    "    print(datetime.now().strftime('%Y%m%d_%H:%M:%S - '),i)\n",
    "    f.write(datetime.now().strftime('%Y%m%d_%H:%M:%S - '))\n",
    "    time.sleep(1)\n",
    "    f.write(str(i))\n",
    "    f.write(\"\\n\")\n",
    "f.close()"
   ]
  },
  {
   "cell_type": "code",
   "execution_count": null,
   "metadata": {},
   "outputs": [],
   "source": [
    "!cat log.txt"
   ]
  },
  {
   "cell_type": "markdown",
   "metadata": {},
   "source": [
    "## Preparing for Debugging (Defensive Code)\n",
    "### Writing Assertions\n",
    "The first thing you need to learn about writing defensive code is how to write an assertion. Python provides a built-in assert statement to use the assertion condition in the program. The assert statement assumes the condition always to be true. It halts the program and raises an AssertionError message if it is false.\n",
    "\n",
    "The simplest code to showcase assert is mentioned in the following code snippet:"
   ]
  },
  {
   "cell_type": "code",
   "execution_count": null,
   "metadata": {},
   "outputs": [],
   "source": [
    "print(\"Here, since 2 is not smaller than 1, and the statement is false, it raises an AssertionError message as follows:\")\n",
    "print()\n",
    "\n",
    "x = 2\n",
    "assert x < 1, \"Invalid value\""
   ]
  },
  {
   "cell_type": "markdown",
   "metadata": {},
   "source": [
    "### 6.1 Working with Incorrect Parameters to Find the Average Using Assert with Functions\n",
    "In this exercise, you will be using the assertion error with functions to check the error message when you enter incorrect parameters to calculate the average marks of students:"
   ]
  },
  {
   "cell_type": "code",
   "execution_count": null,
   "metadata": {},
   "outputs": [],
   "source": [
    "# Define a function avg for asserting average marks\n",
    "def avg(marks):\n",
    "    assert len(marks) != 0\n",
    "    return round(sum(marks) / len(marks), 2)\n",
    "\n",
    "sem1_marks = [62, 65, 75]\n",
    "print(\"Average marks for semester 1:\", avg(sem1_marks))  # prints the average marks of semester 1\n",
    "print()\n",
    "\n",
    "# test wehter the assert statement is working by providing an empty list.\n",
    "ranks = []  # above we defined that marks has to have a list of values not empty, that is why you get the AssertionError\n",
    "print(\"Average of marks for semester 1:\", avg(ranks))"
   ]
  },
  {
   "cell_type": "markdown",
   "metadata": {},
   "source": [
    "## Plotting Techniques"
   ]
  },
  {
   "cell_type": "code",
   "execution_count": null,
   "metadata": {},
   "outputs": [],
   "source": [
    "%matplotlib inline"
   ]
  },
  {
   "cell_type": "markdown",
   "metadata": {},
   "source": [
    "### 6.2 Drawing a Scatter Plot to Study the Data between Ice Cream Sales versus Temperature"
   ]
  },
  {
   "cell_type": "code",
   "execution_count": null,
   "metadata": {},
   "outputs": [],
   "source": [
    "import matplotlib.pyplot as plt\n",
    "import seaborn as sns\n",
    "import numpy as np\n",
    "\n",
    "# Temperature and Sales data\n",
    "temperature = [14.2, 16.4, 11.9, 12.5, 18.9, 22.1, 19.4, 23.1, 25.4, 18.1, 22.6, 17.2]\n",
    "sales = [215.20, 325.00, 185.20, 330.20, 418.60, 520.25, 412.20, 614.60, 544.80, 421.40, 445.50, 408.10]\n",
    "\n",
    "# Plot the lists using the scatter plot:\n",
    "plt.scatter(temperature, sales, color='red')\n",
    "plt.show()"
   ]
  },
  {
   "cell_type": "code",
   "execution_count": null,
   "metadata": {},
   "outputs": [],
   "source": [
    "# Add a title command to your plot, as well as the x-axis (horizontal) and y-axis (vertical labels)\n",
    "plt.title('Ice-cream sales versus Temperature')\n",
    "plt.xlabel('Sales')\n",
    "plt.ylabel('Temperature')\n",
    "plt.scatter(temperature, sales, color='red')\n",
    "plt.show()"
   ]
  },
  {
   "cell_type": "markdown",
   "metadata": {},
   "source": [
    "### 6.3 Drawing a Line Chart to Find the Growth in Stock Prices"
   ]
  },
  {
   "cell_type": "code",
   "execution_count": null,
   "metadata": {},
   "outputs": [],
   "source": [
    "# Stock Prices data\n",
    "stock_price = [190.64, 190.09, 192.25, 191.79, 194.45, 196.45, 196.45, 196.42, 200.32, 200.32, 200.85, 199.2, 199.2, 199.2, 199.46, 201.46, 197.54, 201.12, 203.12, 203.12, 203.12, 202.83, 202.83, 203.36, 206.83, 204.9, 204.9, 204.9, 204.4, 204.06]\n",
    "\n",
    "# Plot the chart, configure the chart title, and configure the titles of the axes:\n",
    "import matplotlib.pyplot as plt\n",
    "plt.plot(stock_price)\n",
    "plt.title('Opening Stock Prices')\n",
    "plt.xlabel('Days')\n",
    "plt.ylabel('$ USD')\n",
    "plt.show()"
   ]
  },
  {
   "cell_type": "markdown",
   "metadata": {},
   "source": [
    "If you've noticed that the number of days in our line plot starts at 0, you have sharp eyes. Usually, you start your axes at 0, but in this case, it represents the day, so you have to start from 1 instead. You can fix these issues.\n",
    "\n",
    "You can fix this by creating a list that starts with 1 to 31, representing the days in March:"
   ]
  },
  {
   "cell_type": "code",
   "execution_count": null,
   "metadata": {},
   "outputs": [],
   "source": [
    "t = list(range(1, 31))\n",
    "\n",
    "# Plot this together with the data. You can also define the numbers on the x axis using xticks\n",
    "plt.plot(t, stock_price, marker='.', color='red')\n",
    "plt.xticks([1, 8, 15, 22, 28])"
   ]
  },
  {
   "cell_type": "code",
   "execution_count": null,
   "metadata": {},
   "outputs": [],
   "source": [
    "# Here is the complete conde\n",
    "stock_price = [190.64, 190.09, 192.25, 191.79, 194.45, 196.45, 196.45, 196.42, 200.32, 200.32, 200.85, 199.2, 199.2, 199.2, 199.46, 201.46, 197.54, 201.12, 203.12, 203.12, 203.12, 202.83, 202.83, 203.36, 206.83, 204.9, 204.9, 204.9, 204.4, 204.06]\n",
    "t = list(range(1, 31))\n",
    "import matplotlib.pyplot as plt\n",
    "plt.title('Opening Stock Prices')\n",
    "plt.xlabel('Days')\n",
    "plt.ylabel('$ USD')\n",
    "plt.plot(t, stock_price, marker='.', color='red')\n",
    "plt.xticks([1, 8, 15, 22, 28]) \n",
    "plt.show()"
   ]
  },
  {
   "cell_type": "markdown",
   "metadata": {},
   "source": [
    "### 6.4 Plotting Bar Plots to Grade Students"
   ]
  },
  {
   "cell_type": "code",
   "execution_count": null,
   "metadata": {},
   "outputs": [],
   "source": [
    "# you will draw bar charts to display the data of students and corresponding bar plots as a visual output.\n",
    "\n",
    "# Data\n",
    "grades = ['A', 'B', 'C', 'D', 'E', 'F']\n",
    "students_count = [20, 30, 10, 5, 8, 2]   # Python maps the grads with the studens count according to their index\n",
    "\n",
    "# Plot the bar chart with our dataset and customize the color command\n",
    "import matplotlib.pyplot as plt\n",
    "plt.bar(grades, students_count, color=['green', 'gray', 'gray', 'gray', 'gray', 'red'])  # one color for each grade"
   ]
  },
  {
   "cell_type": "code",
   "execution_count": null,
   "metadata": {},
   "outputs": [],
   "source": [
    "# Add the main title and the axis titles to our char for better understanding\n",
    "# Use the show() command to display the rendered chart:\n",
    "plt.title('Grades Bar Plot for Biology Class')\n",
    "plt.xlabel('Grade')\n",
    "plt.ylabel('Num Students')\n",
    "plt.bar(grades, students_count, color=['green', 'gray', 'gray', 'gray', 'gray', 'red'])\n",
    "plt.show()"
   ]
  },
  {
   "cell_type": "code",
   "execution_count": null,
   "metadata": {},
   "outputs": [],
   "source": [
    "# Sometimes, it is easier to use horizontal bars to represent relationships.\n",
    "# What you have to do it to change the bar function to .barh\n",
    "\n",
    "plt.barh(grades, students_count, color=['green', 'gray', 'gray', 'gray', 'gray', 'red'])"
   ]
  },
  {
   "cell_type": "markdown",
   "metadata": {},
   "source": [
    "### 6.5 Creating a Pie Chart to Visualize the Number of Votes in a School"
   ]
  },
  {
   "cell_type": "code",
   "execution_count": null,
   "metadata": {},
   "outputs": [],
   "source": [
    "# Plotting\n",
    "labels = ['Monica', 'Adrian', 'Jared']\n",
    "num = [230, 100, 98] # Note that this does not need to be percentages\n",
    "\n",
    "# Draw a pie chart by using the pie() method, and then set up colors:\n",
    "import matplotlib.pyplot as plt\n",
    "plt.pie(num, labels=labels, autopct='%1.1f%%', colors=['lightblue', 'lightgreen', 'yellow'])\n",
    "\n",
    "# Add title and display the chart:\n",
    "plt.title('Voting Results: Club President', fontdict={'fontsize': 20, 'color': 'white'})\n",
    "plt.pie(num, labels=labels, autopct='%1.1f%%', colors=['lightblue', 'lightgreen', 'yellow'])\n",
    "plt.show()"
   ]
  },
  {
   "cell_type": "markdown",
   "metadata": {},
   "source": [
    "### 6.6 Generating a Heatmap to Visualize the Grades of Students"
   ]
  },
  {
   "cell_type": "code",
   "execution_count": null,
   "metadata": {},
   "outputs": [],
   "source": [
    "def heatmap(data, row_labels, col_labels, ax=None, cbar_kw={}, cbarlabel=\"\", **kwargs):\n",
    "    if not ax:\n",
    "        ax = plt.gca()\n",
    "    im = ax.imshow(data, **kwargs)\n",
    "    \n",
    "    # Define the color bar as colorbar\n",
    "    cbar = ax.figure.colorbar(im, ax=ax, **cbar_kw)\n",
    "    cbar.ax.set_ylabel(cbarlabel, rotation=-90, va=\"bottom\")\n",
    "    \n",
    "    # Show all ticks and labels them with their respective list entries\n",
    "    ax.set_xticks(np.arange(data.shape[1]))\n",
    "    ax.set_yticks(np.arange(data.shape[0]))\n",
    "    ax.set_xticklabels(col_labels)\n",
    "    ax.set_yticklabels(row_labels)\n",
    "    \n",
    "    # Configure the horizontal axes for the labels to appear on top of the plot:\n",
    "    ax.tick_params(top=True, bottom=False, labeltop=True, labelbottom=False)\n",
    "    \n",
    "    # Rotate the tick labels and set their alignments:\n",
    "    plt.setp(ax.get_xticklabels(), rotation=-30, ha=\"right\", rotation_mode=\"anchor\")\n",
    "    \n",
    "    # Turn off spine and create a white grid for the plot\n",
    "    for edge, spine in ax.spines.items():\n",
    "        spine.set_visible(False)\n",
    "    ax.set_xticks(np.arange(data.shape[1]+1)-.5, minor=True)\n",
    "    ax.set_yticks(np.arange(data.shape[0]+1)-.5, minor=True)\n",
    "    ax.grid(which=\"minor\", color=\"w\", linestyle='-', linewidth=3)\n",
    "    ax.tick_params(which=\"minor\", bottom=False, left=False)\n",
    "    \n",
    "    # Return the heatmap:\n",
    "    return im, cbar\n",
    "\n",
    "# Define a numpy array to store our data and plot the heatmap using the functions defined above:\n",
    "import numpy as np\n",
    "import matplotlib.pyplot as plt\n",
    "data = np.array([\n",
    "    [30, 20, 10],\n",
    "    [10, 40, 15],\n",
    "    [12, 10, 20]\n",
    "])\n",
    "im, cbar = heatmap(data, ['Class-1', 'Class-2', 'Class-3'], ['A', 'B', 'C'], cmap='YlGn', cbarlabel='Number of Students')\n",
    "\n",
    "# Add another function that will help us to annotate our heatmap visualization.\n",
    "def annotate_heatmap(im, data=None, valfmt=\"{x:.2f}\",\n",
    "                    textcolors=[\"black\", \"white\"],\n",
    "                    threshold=None, **textkw):\n",
    "    import matplotlib\n",
    "    if not isinstance(data, (list, np.ndarray)):\n",
    "        data = im.get_array()\n",
    "    if threshold is not None:\n",
    "        threshold = im.norm(threshold)\n",
    "    else:\n",
    "        threshold = im.norm(data.max()) / 2.\n",
    "    kw = dict(horizontalalignment=\"center\", verticalalignment=\"center\")\n",
    "    kw.update(textkw)\n",
    "    if isinstance(valfmt, str):\n",
    "        valfmt = matplotlib.ticker.StrMethodFormatter(valfmt)\n",
    "        \n",
    "# show the heatmap\n",
    "#im, cbar = heatmap(data, ['Class-1', 'Class-2', 'Class-3'], ['A', 'B', 'C'], cmap='YlGn', cbarlabel='Number of Students')\n",
    "texts = annotate_heatmap(im, valfmt=\"{x}\")"
   ]
  },
  {
   "cell_type": "markdown",
   "metadata": {},
   "source": [
    "### 6.7 Generating a Density Plot to Visualize the Score of Students"
   ]
  },
  {
   "cell_type": "code",
   "execution_count": null,
   "metadata": {},
   "outputs": [],
   "source": [
    "import seaborn as sns\n",
    "data = [90, 80, 50, 42, 89, 78, 34, 70, 67, 73, 74, 80, 60, 90, 90]\n",
    "\n",
    "# Configure the title and axes labels:\n",
    "import matplotlib.pyplot as plt\n",
    "plt.title('Density Plot')\n",
    "plt.xlabel('Score')\n",
    "plt.ylabel('Density')\n",
    "sns.distplot(data)"
   ]
  },
  {
   "cell_type": "markdown",
   "metadata": {},
   "source": [
    "### 6.8 Creating a Contour Plot"
   ]
  },
  {
   "cell_type": "code",
   "execution_count": null,
   "metadata": {},
   "outputs": [],
   "source": [
    "# DATA\n",
    "weight=[85.08,79.25,85.38,82.64,80.51,77.48,79.25,78.75,77.21,73.11,82.03,82.54,74.62,79.82,79.78,77.94,83.43,73.71,80.23,78.27,78.25,80.00,76.21,86.65,78.22,78.51,79.60,83.88,77.68,78.92,79.06,85.30,82.41,79.70,80.16,81.11,79.58,77.42,75.82,74.09,78.31,83.17,75.20,76.14]\n",
    "\n",
    "import seaborn as sns\n",
    "sns.kdeplot(list(range(1, 45)), weight, kind='kde', cmap=\"Reds\", )\n",
    "\n",
    "# Add legend, title, and axis labels to the plot:\n",
    "import matplotlib.pyplot as plt\n",
    "plt.legend(labels=['a', 'b'])\n",
    "plt.title('Weight Dataset - Contour Plot')\n",
    "plt.ylabel('height (cm)')\n",
    "plt.xlabel('width (cm)')\n",
    "sns.kdeplot(list(range(1, 45)), weight, kind='kde', cmap=\"Reds\", )"
   ]
  },
  {
   "cell_type": "markdown",
   "metadata": {},
   "source": [
    "### Extending Graphs"
   ]
  },
  {
   "cell_type": "code",
   "execution_count": null,
   "metadata": {},
   "outputs": [],
   "source": [
    "import matplotlib.pyplot as plt\n",
    "\n",
    "# split the figure into 2 subplots\n",
    "fig = plt.figure(figsize=(8,4))\n",
    "ax1 = fig.add_subplot(121) # 121 means split into 1 row, 2 columns, and put in 1st part.\n",
    "ax2 = fig.add_subplot(122) # 122 means split into 1 row, 2 columns, and put in 2nd part.\n",
    "\n",
    "# The following code plots the first subplot, which is a pie chart:\n",
    "labels = ['Adrian', 'Monica', 'Jared']\n",
    "num = [230, 100, 98],ax1.pie(num, labels=labels, autopct='%1.1f%%', colors=['lightblue', 'lightgreen', 'yellow'])\n",
    "ax1.set_title('Pie Chart (Subplot 1)')\n",
    "\n",
    "# Plot Bar Chart (Subplot 2)\n",
    "labels = ['Adrian', 'Monica', 'Jared']\n",
    "num = [230, 100, 98]\n",
    "plt.bar(labels, num, color=['lightblue', 'lightgreen', 'yellow'])\n",
    "ax2.set_title('Bar Chart (Subplot 2)')\n",
    "ax2.set_xlabel('Candidate')\n",
    "ax2.set_ylabel('Votes')\n",
    "fig.suptitle('Voting Results', size=14)"
   ]
  },
  {
   "cell_type": "markdown",
   "metadata": {},
   "source": [
    "### 6.9 Generating 3D plots to Plot a Sine Wave"
   ]
  },
  {
   "cell_type": "code",
   "execution_count": null,
   "metadata": {},
   "outputs": [],
   "source": [
    "from mpl_toolkits.mplot3d import Axes3D\n",
    "import numpy as np\n",
    "import matplotlib.pyplot as plt\n",
    "import seaborn as sns\n",
    "\n",
    "X = np.linspace(0, 10, 50)\n",
    "Y = np.linspace(0, 10, 50)\n",
    "X, Y = np.meshgrid(X, Y)\n",
    "Z = (np.sin(X))\n",
    "\n",
    "# Setup axis\n",
    "fig = plt.figure(figsize=(7, 5))\n",
    "ax = fig.add_subplot(111, projection='3d')\n",
    "\n",
    "# Use the plot_surface() function to plot the 3D surface chart and configure the title and axes labels:\n",
    "ax.plot_surface(X, Y, Z)\n",
    "\n",
    "# Add title and axes labels\n",
    "ax.set_title(\"Demo of 3D Plot\", size=13)\n",
    "ax.set_xlabel('X')\n",
    "ax.set_ylabel('Y')\n",
    "ax.set_zlabel('Z')"
   ]
  },
  {
   "cell_type": "markdown",
   "metadata": {},
   "source": [
    "### Activity 13: Visualizing the Titanic Dataset Using a Pie Chart and Bar Plots"
   ]
  },
  {
   "cell_type": "code",
   "execution_count": null,
   "metadata": {},
   "outputs": [],
   "source": [
    "!ls -la Activity13/"
   ]
  },
  {
   "cell_type": "code",
   "execution_count": null,
   "metadata": {},
   "outputs": [],
   "source": [
    "import csv\n",
    "lines = []\n",
    "with open('Activity13/titanic_train.csv') as csv_file:\n",
    "    csv_reader = csv.reader(csv_file, delimiter=',')\n",
    "    for line in csv_reader:\n",
    "        lines.append(line)\n",
    "        \n",
    "# Prepare a data object that stores all the passengers details\n",
    "data = lines[1:]\n",
    "passengers = []\n",
    "headers = lines[0]\n",
    "\n",
    "# Create a simple for loop for the d variable in data, which will store the values in a list\n",
    "for d in data:\n",
    "    p = {}\n",
    "    for i in range(0, len(headers)):\n",
    "        key = headers[i]\n",
    "        value = d[i]\n",
    "        p[key] = value\n",
    "    passengers.append(p)\n",
    "    \n",
    "# Extract the survived, pclass, age, and gender values of survived passengers intp respective lists.\n",
    "# We need to utilize list comprehension in order to extract the values; for the passengers who survived,\n",
    "# we will need to convert survived into an integer and filter survived == 1, that is, passengers who survived.\n",
    "survived = [p['Survived'] for p in passengers]\n",
    "pclass = [p['Pclass'] for p in passengers]\n",
    "age = [float(p['Age']) for p in passengers if p['Age'] != '']\n",
    "gender_survived = [p['Sex'] for p in passengers if int(p['Survived']) == 1]\n",
    "\n",
    "# Import all the necessary libraries, such as matplotlib, seaborn and numpy\n",
    "# and draw a pie chart using plt.pie to visualize the passengers who survived.\n",
    "import matplotlib.pyplot as plt\n",
    "import seaborn as sns\n",
    "import numpy as np\n",
    "from collections import Counter\n",
    "plt.title(\"Survived\")\n",
    "plt.pie(Counter(survived).values(), labels=Counter(survived).keys(), autopct='%1.1f%%', colors=['lightblue', 'lightgreen', 'yellow'])\n",
    "plt.show()\n",
    "\n",
    "print()\n",
    "print()\n",
    "print()\n",
    "\n",
    "# Draw a column bar plot using plt.bar to visualize the passengers who survived based on their gender\n",
    "plt.title(\"surviving passengers count by gender\")\n",
    "plt.bar(Counter(gender_survived).keys(), Counter(gender_survived).values())\n",
    "plt.show()"
   ]
  },
  {
   "cell_type": "markdown",
   "metadata": {},
   "source": [
    "# 5. Constructing Python - Classes and Methods "
   ]
  },
  {
   "cell_type": "markdown",
   "metadata": {},
   "source": [
    "## Classes and Objects"
   ]
  },
  {
   "cell_type": "code",
   "execution_count": null,
   "metadata": {},
   "outputs": [],
   "source": [
    "# Create a new object called X in Python console\n",
    "x = 10\n",
    "print(type(x))\n",
    "print(x)\n",
    "print()\n",
    "\n",
    "# The integer class doesn't just let you store a single number - our X object has other properties too:\n",
    "print(x.bit_length())   # 4 bits (1010)\n",
    "print()\n",
    "\n",
    "# You can also view the docstring to read about this object and its class:\n",
    "print(x.__doc__)"
   ]
  },
  {
   "cell_type": "markdown",
   "metadata": {},
   "source": [
    "### 7.0 Exploring Strings"
   ]
  },
  {
   "cell_type": "code",
   "execution_count": null,
   "metadata": {},
   "outputs": [],
   "source": [
    "# Define a new string:\n",
    "my_str = 'hello World!'\n",
    "\n",
    "# Check what class our object has:\n",
    "print(type(my_str))\n",
    "print()\n",
    "\n",
    "# View the docstring o the str class:\n",
    "print(my_str.__doc__)\n",
    "print()\n",
    "\n",
    "# View the full list of properties and methods of my_str:\n",
    "print(my_str.__dir__())\n",
    "print()\n",
    "\n",
    "# Capitalize my_str\n",
    "print(my_str.capitalize())\n",
    "print()\n",
    "\n",
    "# Uppercase my_str\n",
    "print(my_str.upper())\n",
    "print()\n",
    "\n",
    "# Lowercase my_str without any spaces:\n",
    "print(my_str.replace(' ', ''))  # replace spaces (' ') with not spaces ('')"
   ]
  },
  {
   "cell_type": "markdown",
   "metadata": {},
   "source": [
    "## Defining Classes"
   ]
  },
  {
   "cell_type": "code",
   "execution_count": null,
   "metadata": {},
   "outputs": [],
   "source": [
    "# Create a new class called Australian:\n",
    "class Australian():\n",
    "    is_human = True\n",
    "    enjoys_sport = True"
   ]
  },
  {
   "cell_type": "markdown",
   "metadata": {},
   "source": [
    "You now have a new template for creating Australian objects (or people, if you prefer). Our code assumes that all new Australians will be human and enjoy sport."
   ]
  },
  {
   "cell_type": "code",
   "execution_count": null,
   "metadata": {},
   "outputs": [],
   "source": [
    "# Create a new Australian:\n",
    "John = Australian()\n",
    "\n",
    "# Check the class of our Australian\n",
    "print(type(John))\n",
    "print()\n",
    "\n",
    "# View some of John attributes:\n",
    "print(John.is_human)\n",
    "print()\n",
    "\n",
    "print(John.enjoys_sport)\n",
    "print()\n",
    "\n",
    "# The is_human and enjoys_sport attributes are called class attributes. Class attributes do not change between objects of the same class. For example, let's create another Australian:\n",
    "ming = Australian()\n",
    "print(ming.is_human)\n",
    "print()\n",
    "\n",
    "print(ming.enjoys_sport)\n",
    "print()"
   ]
  },
  {
   "cell_type": "markdown",
   "metadata": {},
   "source": [
    "### 7.1 Creating a Pet Class\n",
    "The aim of this exercise is to create our first class. You will create a new class called Pet with class attributes and a docstring. You will also create instances of this class:"
   ]
  },
  {
   "cell_type": "code",
   "execution_count": null,
   "metadata": {},
   "outputs": [],
   "source": [
    "# Define a Pet class with two class attributes and a docstring:\n",
    "class Pet():\n",
    "    \"\"\"\n",
    "    A class to capture useful information regarding my pets, just\n",
    "    in case I lose track of them.\n",
    "    \"\"\"\n",
    "    \n",
    "    is_human = False\n",
    "    owner = 'Michael Smith'\n",
    "    \n",
    "# Create an instance of this class:\n",
    "chubbles = Pet()\n",
    "\n",
    "# Check the is_human properties of our new pet, chubbles:\n",
    "print(chubbles.is_human)\n",
    "print()\n",
    "\n",
    "# Check the owner:\n",
    "print(chubbles.owner)\n",
    "print()\n",
    "\n",
    "print(chubbles.__doc__)"
   ]
  },
  {
   "cell_type": "markdown",
   "metadata": {},
   "source": [
    "## The __init__ method\n",
    "Python has a special method called __init__, which is called when you initialize an object from one of our class templates. For example, building on the previous exercise, suppose you wanted to specify the height of our Pet. We would add an __init__ method as follows:"
   ]
  },
  {
   "cell_type": "code",
   "execution_count": null,
   "metadata": {},
   "outputs": [],
   "source": [
    "# Define a Pet class with two class attributes and a docstring:\n",
    "class Pet():\n",
    "    \"\"\"\n",
    "    A class to capture useful information regarding my pets, just\n",
    "    in case I lose track of them.\n",
    "    \"\"\"\n",
    "    def __init__(self, height):\n",
    "        self.height = height\n",
    "        \n",
    "    is_human = False\n",
    "    owner = 'Michael Smith'\n",
    "    \n",
    "# The init method takes the height value and assigns it as an attribute of our new object. You can test this as follows:\n",
    "chubbles = Pet(height=5)\n",
    "print(chubbles.height)"
   ]
  },
  {
   "cell_type": "markdown",
   "metadata": {},
   "source": [
    "## 7.2 Creating a Circle Class\n",
    "The aim of this exercise is to use the init method. You create a new class called Circle with an init method that allows us to specify the radius and color of a new Circle object. You then use this class to create two circles:"
   ]
  },
  {
   "cell_type": "code",
   "execution_count": null,
   "metadata": {},
   "outputs": [],
   "source": [
    "# Create a Circle class with a class attribute called is_shape:\n",
    "class Circle():\n",
    "    is_shape = True\n",
    "    \n",
    "    def __init__(self, radius, color):\n",
    "        self.radius = radius\n",
    "        self.color = color\n",
    "        \n",
    "# Initialize two new Circle objects with different radii and colors:\n",
    "first_circle = Circle(2, 'blue')\n",
    "second_circle = Circle(3, 'red')\n",
    "\n",
    "print(first_circle.color)\n",
    "print(second_circle.color)\n",
    "print(first_circle.is_shape)"
   ]
  },
  {
   "cell_type": "markdown",
   "metadata": {},
   "source": [
    "Note:  Any Circle objects created from our Circle class will always have is_shape = True, but may have different radii and colors. This is because is_shape is a class attribute defined outside of the init method, and radius and color are instance attributes set in the init method.\n",
    "\n",
    "### Keyword Arguments\n",
    "positional arguments and keyword arguments (kwarg). Recall that positional arguments are listed first, and must be specified when calling the function, whereas keyword arguments are optional\n",
    "\n",
    "The examples so far in this chapter have just contained positional arguments. However, you may want to provide a default value for an instance attribute. For example, you can take your previous example and add a default value for color:"
   ]
  },
  {
   "cell_type": "code",
   "execution_count": null,
   "metadata": {},
   "outputs": [],
   "source": [
    "# Create a Circle class with a class attribute called is_shape:\n",
    "class Circle():\n",
    "    is_shape = True\n",
    "    \n",
    "    def __init__(self, radius, color='red'):\n",
    "        self.radius = radius\n",
    "        self.color = color\n",
    "        \n",
    "# Now, if you initialize a circle without specifying a color, it will default to red:\n",
    "my_circle = Circle(23)\n",
    "my_circle.color"
   ]
  },
  {
   "cell_type": "markdown",
   "metadata": {},
   "source": [
    "### 7.3 The Country Class with Keyword Arguments\n",
    "The aim of this exercise is to use keyword arguments to allow optional instance attribute inputs to be specified in the init function.\n",
    "\n",
    "You create a class called Country, where there are three optional attributes that can be passed in the init method:"
   ]
  },
  {
   "cell_type": "code",
   "execution_count": null,
   "metadata": {},
   "outputs": [],
   "source": [
    "# Create the Country class with three keyword arguments to capture details about the Country object:\n",
    "class Country():\n",
    "    def __init__(self, name='Unspecified', population=None, size_kmsq=None):\n",
    "        self.name = name\n",
    "        self.population = population\n",
    "        self.size_kmsq = size_kmsq\n",
    "        \n",
    "# Initialize a new Country, nothing that the order of parameters does not matter because you are using named arguments:\n",
    "# Note: below 'e' is shorthand for '10 to the power of'. For instance, 2e4 == 2 * 10 ^ 4 == 20000\n",
    "usa = Country(name='United States of America', size_kmsq=9.8e6)\n",
    "\n",
    "# Use the __dict__ method to view a list of the attributes of the usa object\n",
    "usa.__dict__"
   ]
  },
  {
   "cell_type": "markdown",
   "metadata": {},
   "source": [
    "## Methods\n",
    "Instance Methods, Static Methods, and Class Methods"
   ]
  },
  {
   "cell_type": "markdown",
   "metadata": {},
   "source": [
    "### Instance Methods\n",
    "Instance methods are the most common type of method you will need to use. They always take self as the first positional argument. The __init__ method discussed in the previous section is an example of an instance method."
   ]
  },
  {
   "cell_type": "markdown",
   "metadata": {},
   "source": [
    "### 7.2 Creating a Circle Class"
   ]
  },
  {
   "cell_type": "code",
   "execution_count": null,
   "metadata": {},
   "outputs": [],
   "source": [
    "import math\n",
    "class Circle():\n",
    "    is_shape = True\n",
    "    \n",
    "    def __init__(self, radius, color='red'):\n",
    "        self.radius = radius\n",
    "        self.color = color\n",
    "        \n",
    "    def area(self):\n",
    "        return math.pi * self.radius ** 2\n",
    "    \n",
    "# test the area method:\n",
    "circle = Circle(3)\n",
    "print(circle.area())\n",
    "print()\n",
    "\n",
    "circle.radius = 2\n",
    "print(circle.area())"
   ]
  },
  {
   "cell_type": "markdown",
   "metadata": {},
   "source": [
    "### 7.4 Adding an Instance Method to Our Pet Class"
   ]
  },
  {
   "cell_type": "code",
   "execution_count": null,
   "metadata": {},
   "outputs": [],
   "source": [
    "# start with your previous definition\n",
    "class Pet():\n",
    "    def __init__(self, height):\n",
    "        self.height = height\n",
    "        \n",
    "    is_human = False\n",
    "    owner = 'Michael Smith'\n",
    "    \n",
    "    # Add a new method that allows you to check whether your pet is tall or not\n",
    "    # where your definition of tall is where Pet has a height of at least 50:\n",
    "    def is_tall(self):\n",
    "        return self.height >= 50\n",
    "    \n",
    "# Now, create a Pet and check whether he is tall:\n",
    "bowser = Pet(40)\n",
    "print(bowser.is_tall())\n",
    "print()\n",
    "\n",
    "bowser.height = 60\n",
    "print(bowser.is_tall())"
   ]
  },
  {
   "cell_type": "markdown",
   "metadata": {},
   "source": [
    "### Adding Arguments to Instance Methods"
   ]
  },
  {
   "cell_type": "code",
   "execution_count": null,
   "metadata": {},
   "outputs": [],
   "source": [
    "# start with your previous definition\n",
    "class Pet():\n",
    "    def __init__(self, height):\n",
    "        self.height = height\n",
    "        \n",
    "    is_human = False\n",
    "    owner = 'Michael Smith'\n",
    "    \n",
    "    def is_tall(self, tall_if_at_lease):\n",
    "        return self.height >= tall_if_at_lease\n",
    "    \n",
    "bowser = Pet(40)\n",
    "print(bowser.is_tall(30))\n",
    "print()\n",
    "\n",
    "print(bowser.is_tall(50))"
   ]
  },
  {
   "cell_type": "markdown",
   "metadata": {},
   "source": [
    "### 7.5 Computing the Size of Our Country\n",
    "The aim of this exercise is to use a keyword argument in the context of an instance method.\n",
    "\n",
    "You create a Country class and add a method to calculate the area of the country in square miles:"
   ]
  },
  {
   "cell_type": "code",
   "execution_count": null,
   "metadata": {},
   "outputs": [],
   "source": [
    "# Start with the following definition of Country, which allows the name, population, and size in square kilmeters to be specified:\n",
    "class Country():\n",
    "    def __init__(self, name='Unspecified', population=None, size_kmsq=None):\n",
    "        self.name = name\n",
    "        self.population = population\n",
    "        self.size_kmsq = size_kmsq\n",
    "        \n",
    "        # There are 0.621371 miles in a kilometer. Use this constant to write a method that returns the size in square miles.\n",
    "    def size_miles_sq(self, conversion_rate=0.621371):\n",
    "        return self.size_kmsq * conversion_rate ** 2\n",
    "        \n",
    "# Create a new Country and check the conversion:\n",
    "algeria = Country(name='Algeria', size_kmsq=2.382e6)\n",
    "print(algeria.size_miles_sq())\n",
    "print()\n",
    "\n",
    "# Recalculate the size of Algeria in square miles using a new rate:\n",
    "algeria.size_miles_sq(conversion_rate=0.6)"
   ]
  },
  {
   "cell_type": "markdown",
   "metadata": {},
   "source": [
    "### The __str__ method\n",
    "Like __init__, the __str__ method is another special instance method that you need to know about. This is the method that is called whenever the object is rendered as a string.\n",
    "\n",
    "For example, it is what is displayed when you print the object to the console. You can explore this in the context of our Pet class. Suppose you have a Pet class in which you can assign a height and name to the Pet instance:"
   ]
  },
  {
   "cell_type": "code",
   "execution_count": null,
   "metadata": {},
   "outputs": [],
   "source": [
    "class Pet():\n",
    "    def __init__(self, height, name):\n",
    "        self.height = height\n",
    "        self.name = name\n",
    "        \n",
    "    is_human = False\n",
    "    owner = 'Michael Smith'\n",
    "    \n",
    "# Now you create a pet and print it to the console:\n",
    "my_pet = Pet(30, 'Chubster')\n",
    "print(my_pet)"
   ]
  },
  {
   "cell_type": "code",
   "execution_count": null,
   "metadata": {},
   "outputs": [],
   "source": [
    "# This is not a very helpful representation of our pet. so, we need to add an __str__ method:\n",
    "class Pet():\n",
    "    def __init__(self, height, name):\n",
    "        self.height = height\n",
    "        self.name = name\n",
    "        \n",
    "    is_human = False\n",
    "    owner = 'Michael Smith'\n",
    "    \n",
    "    def __str__(self):\n",
    "        return '%s (height: %s cm)' % (self.name, self.height)\n",
    "    \n",
    "# Now you create a pet and print it to the console:\n",
    "my_pet = Pet(30, 'Chubster')\n",
    "print(my_pet)\n",
    "\n",
    "my_other_pet = Pet(40, 'Rudolf')\n",
    "print(my_other_pet)"
   ]
  },
  {
   "cell_type": "markdown",
   "metadata": {},
   "source": [
    "### 7.6 Adding an __str__ Method to the Country Class\n",
    "The aim of this exercise is to learn how to add string methods in order to give more helpful string representations of objects when printed to the console.\n",
    "\n",
    "You extend the Country class from Exercise 75, Computing the Size of Our Country by adding an __str__ method to customize how the object is rendered as a string:"
   ]
  },
  {
   "cell_type": "code",
   "execution_count": null,
   "metadata": {},
   "outputs": [],
   "source": [
    "# Start with our previous definition of Country\n",
    "class Country():\n",
    "    def __init__(self, name='Unspecified', population=None, size_kmsq=None):\n",
    "        self.name = name\n",
    "        self.population = population\n",
    "        self.size_kmsq = size_kmsq\n",
    "        \n",
    "    # add a simple string method that returns the name of the country:\n",
    "    def __str__(self):\n",
    "        label = self.name\n",
    "        if self.population:\n",
    "            label = '%s, population: %s' % (label, self.population)\n",
    "    if self.size_kmsq:\n",
    "            label = '%s, size_kmsq: %s' % (label, self.size_kmsq)\n",
    "        return label\n",
    "    \n",
    "# Create a new country and test the string method:\n",
    "chad = Country(name='Chad', population=100)\n",
    "print(chad)"
   ]
  },
  {
   "cell_type": "markdown",
   "metadata": {},
   "source": [
    "### Static Methods\n",
    "Static methods are similar to instance methods, except that they do not implicitly pass the positional self argument. Static methods aren't used as frequently as instance methods, so they only warrant a brief mention here. Static methods are defined by using the @staticmethod decorator. Decorators allow us to alter the behavior of functions and classes."
   ]
  },
  {
   "cell_type": "code",
   "execution_count": null,
   "metadata": {},
   "outputs": [],
   "source": [
    "class Pet():\n",
    "    def __init__(self, height):\n",
    "        self.height = height\n",
    "        \n",
    "    is_human = False\n",
    "    owner = 'Micahel Smith'\n",
    "    \n",
    "    @staticmethod\n",
    "    def owned_by_smith_family():\n",
    "        return 'Smith' in Pet.owner\n",
    "    \n",
    "nibbles = Pet(100)\n",
    "nibbles.owned_by_smith_family()"
   ]
  },
  {
   "cell_type": "markdown",
   "metadata": {},
   "source": [
    "### 7.7 Refactoring Instance Methods Using a Static Method\n",
    "Static methods are used to store utilities related to a class. In this exercise, you create a Diary class and show how you can use a static method to apply the Do Not Repeat Yourself (DRY) principle"
   ]
  },
  {
   "cell_type": "code",
   "execution_count": null,
   "metadata": {},
   "outputs": [],
   "source": [
    "# Create a simple Diary class that stores two dates:\n",
    "import datetime\n",
    "class Diary():\n",
    "    def __init__(self, birthday, christmas):\n",
    "        self.birthday = birthday\n",
    "        self.christmas = christmas\n",
    "        \n",
    "    # Suppose you want to be able to view the dates in a custom date format.\n",
    "    # Add two instance methods that print out the dates in dd-mm-yy format:\n",
    "    def show_birthday(self):\n",
    "        return self.birthday.strftime('%d-%b-%y')\n",
    "    def show_chistmas(self):\n",
    "        return self.christmas.strftime('%d-%b-%y')\n",
    "    \n",
    "# Create a new Diary object and test one of the methods:\n",
    "my_diary = Diary(datetime.date(2020, 5, 14), datetime.date(2020, 12, 25))\n",
    "my_diary.show_birthday()"
   ]
  },
  {
   "cell_type": "code",
   "execution_count": null,
   "metadata": {},
   "outputs": [],
   "source": [
    "import datetime\n",
    "class Diary():\n",
    "    def __init__(self, birthday, christmas):\n",
    "        self.birthday = birthday\n",
    "        self.christmas = christmas\n",
    "        \n",
    "    @staticmethod\n",
    "    def format_date(date):\n",
    "        return date.strftime('%d-%b-%y')\n",
    "    \n",
    "    def show_birthday(self):\n",
    "        return self.fromat_date(self.birthday)\n",
    "    def show_chistmas(self):\n",
    "        return self.format_date(self.christmas)"
   ]
  },
  {
   "cell_type": "markdown",
   "metadata": {},
   "source": [
    "### Class Methods\n",
    "The third type of method you will explore is class methods. Class methods are like instance methods, except that instead of the instance of an object being passed as the first positional self argument, the class itself is passed as the first argument. As with static methods, you use a decorator to designate a class method. For example, you can take our Australian class and add a class method:"
   ]
  },
  {
   "cell_type": "code",
   "execution_count": null,
   "metadata": {},
   "outputs": [],
   "source": [
    "class Australian():\n",
    "    is_human = True\n",
    "    enjoys_sport = True\n",
    "    \n",
    "    @classmethod\n",
    "    def is_sporty_human(cls):\n",
    "        return cls.is_human and cls.enjoys_sport\n",
    "    \n",
    "# Note the first positional argument of this method is cls, not self. You can call this method on the class itself:\n",
    "print(Australian.is_sporty_human())\n",
    "print()\n",
    "\n",
    "aussie = Australian()\n",
    "aussie.is_sporty_human()"
   ]
  },
  {
   "cell_type": "markdown",
   "metadata": {},
   "source": [
    "Another way class methods are used is to provide nice utilities for creating new instances."
   ]
  },
  {
   "cell_type": "code",
   "execution_count": null,
   "metadata": {},
   "outputs": [],
   "source": [
    "class Country():\n",
    "    def __init__(self, name='Unspecified', population=None, size_kmsq=None):\n",
    "        self.name = name\n",
    "        self.population = population\n",
    "        self.size_kmsq = size_kmsq\n",
    "        \n",
    "        # Suppose you want to avoid a situation where you create a country where people can specify the size in square miles rather than square kilometers. \n",
    "        # You could use a class method that takes the square mile input from the user and converts it to square kilometers, before initializing an instance of the class:\n",
    "        \n",
    "    @classmethod\n",
    "    def create_with_msq(cls, name, population, size_msq):\n",
    "        size_kmsq = size_msq / 0.621371 ** 2\n",
    "        return cls(name, population, size_kmsq)\n",
    "        \n",
    "#  Now suppose you want to create a mexico object, and you know it has an area of 760,000 square miles:\n",
    "mexico = Country.create_with_msq('Mexico', 150e6, 760000)\n",
    "mexico.size_kmsq"
   ]
  },
  {
   "cell_type": "markdown",
   "metadata": {},
   "source": [
    "### 7.8 Extending Our Pet Class with Class Methods"
   ]
  },
  {
   "cell_type": "code",
   "execution_count": null,
   "metadata": {},
   "outputs": [],
   "source": [
    "import random\n",
    "\n",
    "class Pet():\n",
    "    def __init__(self, height):\n",
    "        self.height = height\n",
    "        \n",
    "    is_human = False\n",
    "    owner = 'Michael Smith'\n",
    "    \n",
    "    # Add a class method that returns whether the pet is owned by a memeber of the Smith family:\n",
    "    @classmethod\n",
    "    def owned_by_smith_family(cls):\n",
    "        return 'Smith' in cls.owner\n",
    "    \n",
    "    # Add a class method that picks a random number from 0 to 100, and assigns it to the height property of a new pet:\n",
    "    @classmethod\n",
    "    def create_random_height_pet(cls):\n",
    "        height = random.randrange(0, 100)\n",
    "        return cls(height)\n",
    "    \n",
    "# Finally, you create 5 new pets and see what their heights are:\n",
    "for i in range(5):\n",
    "    pet = Pet.create_random_height_pet()\n",
    "    print(pet.height)"
   ]
  },
  {
   "cell_type": "markdown",
   "metadata": {},
   "source": [
    "## Properties"
   ]
  },
  {
   "cell_type": "markdown",
   "metadata": {},
   "source": [
    "Properties are used to manage the attributes of objects. They are an important and powerful aspect of object-oriented programming but can be challenging to grasp at first. For example, suppose you have an object that has a height attribute and a width attribute. You might also want such an object to have an area property, which is simply the product of the height and width attributes. You would prefer not to save the area as an attribute of the shape because the area should update whenever the height or width changes. In this sort of scenario, you will want to use a property.\n",
    "\n",
    "You will start by exploring the property decorator and then discuss the getter/setter paradigm.\n",
    "\n",
    "### The Property Decorator\n",
    "The property decorator looks similar to the static methods and class methods that you have already encountered. It simply allows a method to be accessed as an attribute of an object rather than needing to call it like a function with ().\n",
    "\n",
    "To understand the need for this decorator, consider the following class, which stores information about the temperature:"
   ]
  },
  {
   "cell_type": "code",
   "execution_count": null,
   "metadata": {},
   "outputs": [],
   "source": [
    "class Temperature():\n",
    "    def __init__(self, celsius, fahrenheit):\n",
    "        self.celsius = celsius\n",
    "        self.fahrenheit = fahrenheit\n",
    "        \n",
    "# Creaqte a new temperature and check the fahrenheit attribute:\n",
    "freezing = Temperature(0, 32)\n",
    "print(freezing.fahrenheit)\n",
    "print()\n",
    "\n",
    "# Now, suppose you decide it would be better to just store the temperature in Celsius, and convert to Fahrenheit when needed:\n",
    "class Temperature():\n",
    "    def __init__(self, celsius):\n",
    "        self.celsius = celsius\n",
    "        \n",
    "    def fahrenheit(self):\n",
    "        return self.celsius * 9 / 5 + 32\n",
    "    \n",
    "# This is nicer because if the value of the temperature in Celsius is updated, you won't need to worry about updating fahrenheit as well:\n",
    "my_temp = Temperature(0)\n",
    "print(my_temp.fahrenheit())\n",
    "print()\n",
    "\n",
    "my_temp.celsius = -10\n",
    "print(my_temp.fahrenheit())"
   ]
  },
  {
   "cell_type": "markdown",
   "metadata": {},
   "source": [
    "In the preceding code, you can see you need to call the fahrenheit instance method with (), whereas when you were accessing the attribute before, no parentheses were necessary.\n",
    "\n",
    "This could be a problem if the previous version of this code was being used elsewhere or by other people. All references to fahrenheit would have to have parentheses appended. Instead, you could turn fahrenheit into a property, which allows us to access it like an attribute, despite it being a method of the class. To do this, you simply add the property decorator:"
   ]
  },
  {
   "cell_type": "code",
   "execution_count": null,
   "metadata": {},
   "outputs": [],
   "source": [
    "class Temperature():\n",
    "    def __init__(self, celsius):\n",
    "        self.celsius = celsius\n",
    "        \n",
    "    @property\n",
    "    def fahrenheit(self):\n",
    "        return self.celsius * 9 / 5 + 32\n",
    "    \n",
    "# You can now access the fahrenheit property in the following manner:\n",
    "freezing = Temperature(100)\n",
    "print(freezing.fahrenheit)\n",
    "print(freezing.celsius)"
   ]
  },
  {
   "cell_type": "markdown",
   "metadata": {},
   "source": [
    "### The Full Name Property"
   ]
  },
  {
   "cell_type": "code",
   "execution_count": null,
   "metadata": {},
   "outputs": [],
   "source": [
    "# In this exercise, you create a Person class and show how to use a property to display their full name:\n",
    "# Create a Person class with two instance attributes, the first and last names:\n",
    "class Person():\n",
    "    def __init__(self, first_name, last_name):\n",
    "        self.first_name = first_name\n",
    "        self.last_name = last_name\n",
    "        \n",
    "    # Add a full_name property with the @property decorator:\n",
    "    @property\n",
    "    def full_name(self):\n",
    "        return '%s %s' % (self.first_name, self.last_name)\n",
    "    \n",
    "# Create a customer object and test the full_name property:\n",
    "customer = Person('Mary', 'Lou')\n",
    "customer.full_name"
   ]
  },
  {
   "cell_type": "markdown",
   "metadata": {},
   "source": [
    "### The Setter Method\n",
    "The setter method will be called whenever a user assigns a value to a property. This will allow us to write code where the user doesn't need to think about which attributes of an object are stored as instance attributes rather than computed by functions. Here is an example of what Exercise 79, Full Name Property, would look like if we added a full name setter:\n",
    "\n"
   ]
  },
  {
   "cell_type": "code",
   "execution_count": null,
   "metadata": {},
   "outputs": [],
   "source": [
    "class Person():\n",
    "    def __init__(self, first_name, last_name):\n",
    "        self.first_name = first_name\n",
    "        self.last_name = last_name\n",
    "        \n",
    "    # Add a full_name property with the @property decorator:\n",
    "    @property\n",
    "    def full_name(self):\n",
    "        return '%s %s' % (self.first_name, self.last_name)\n",
    "    \n",
    "    @full_name.setter\n",
    "    def full_name(self, name):\n",
    "        first, last = name.split(' ')\n",
    "        self.first_name = first\n",
    "        self.last_name = last\n",
    "        \n",
    "# Now you can create the same customer, but this time you can update their first and last names simultaneously by assigning a new value to the full_name property:\n",
    "customer = Person('Mary', 'Lou')\n",
    "customer.full_name = 'Mary Schmidt'\n",
    "print(customer.last_name)\n",
    "print()\n",
    "print(customer.first_name)\n",
    "print()\n",
    "print(customer.full_name)"
   ]
  },
  {
   "cell_type": "markdown",
   "metadata": {},
   "source": [
    "### 8.0 Writing a Setter Method"
   ]
  },
  {
   "cell_type": "code",
   "execution_count": null,
   "metadata": {},
   "outputs": [],
   "source": [
    "# Start with our Temperature class from earlier:\n",
    "class Temperature():\n",
    "    def __init__(self, celsius):\n",
    "        self.celsius = celsius\n",
    "        \n",
    "    @property\n",
    "    def fahrenheit(self):\n",
    "        return self.celsius * 9 / 5 + 32\n",
    "    \n",
    "    # Add a @fahrenheit.setter function that converts the fahrenheit value to Celsius and stores it in the celsius instance attribute:\n",
    "    @fahrenheit.setter\n",
    "    def fahrenheit(self, value):\n",
    "        self.celsius = (value - 32) * 5 / 9\n",
    "        \n",
    "# Create a new temperature and check the fahrenheit property:\n",
    "temp = Temperature(5)\n",
    "print(temp.fahrenheit)\n",
    "print()\n",
    "\n",
    "# Update the fahrenheit property and check the celsius attribute:\n",
    "temp.fahrenheit = 32\n",
    "print(temp.celsius)"
   ]
  },
  {
   "cell_type": "markdown",
   "metadata": {},
   "source": [
    "### Validation via the Setter Method\n",
    "Another common use of the setter method is to prevent the user from setting values that shouldn't be allowed. If you consider our previous example with the Temperature class, the minimum temperature theoretically possible is approximately -460 degrees Fahrenheit. It seems prudent that you prevent people from creating temperatures that are lower than this value. You can update the setter method from the previous exercise as follows:"
   ]
  },
  {
   "cell_type": "code",
   "execution_count": null,
   "metadata": {},
   "outputs": [],
   "source": [
    "# Start with our Temperature class from earlier:\n",
    "class Temperature():\n",
    "    def __init__(self, celsius):\n",
    "        self.celsius = celsius\n",
    "        \n",
    "    @property\n",
    "    def fahrenheit(self):\n",
    "        return self.celsius * 9 / 5 + 32\n",
    "    \n",
    "    # Add a @fahrenheit.setter function that converts the fahrenheit value to Celsius and stores it in the celsius instance attribute:\n",
    "    @fahrenheit.setter\n",
    "    def fahrenheit(self, value):\n",
    "        if value < -460:\n",
    "            raise ValueError('Temperatures less than -460F are not possible')\n",
    "    self.celsius = (value - 32) * 5 / 9\n",
    "        \n",
    "        \n",
    "# Create a new temperature and check the fahrenheit property:\n",
    "temp = Temperature(5)\n",
    "temp.fahrenheit = -500"
   ]
  },
  {
   "cell_type": "markdown",
   "metadata": {},
   "source": [
    "## Inheritance"
   ]
  },
  {
   "cell_type": "code",
   "execution_count": null,
   "metadata": {},
   "outputs": [],
   "source": [
    "# uppose we wanted to create two classes, one representing cats and the other, dogs.\n",
    "# Our Cat class may look like this:\n",
    "class Cat():\n",
    "    is_feline = True\n",
    "    \n",
    "    def __init__(self, name, weight):\n",
    "        self.name = name\n",
    "        self.weight = weight\n",
    "        \n",
    "# Similarly, our Dog class would look the same, except that it would have a different value for the is_feline class attribute:\n",
    "class Dog():\n",
    "    is_feline = False\n",
    "    \n",
    "    def __init__(self, name, weight):\n",
    "        self.name = name\n",
    "        self.weight = weight"
   ]
  },
  {
   "cell_type": "markdown",
   "metadata": {},
   "source": [
    "### Single Inheritance\n",
    "Single inheritance, also known as sub-classing, involves creating a child class that inherits the attributes and methods of a single parent class. Taking the preceding example of cats and dogs, we can instead create a Pet class that represents all the common parts of the Cat and Dog classes:"
   ]
  },
  {
   "cell_type": "code",
   "execution_count": null,
   "metadata": {},
   "outputs": [],
   "source": [
    "class Pet():\n",
    "    def __init__(self, name, weight):\n",
    "        self.name = name\n",
    "        self.weight = weight\n",
    "        \n",
    "# The Cat and Dog classes can now be created by sub-classing the parent class, Pet:\n",
    "class Cat(Pet):\n",
    "    is_feline = True\n",
    "    \n",
    "class Dog(Pet):\n",
    "    is_feline = False\n",
    "    \n",
    "# You can check whether this is working as expected:\n",
    "my_cat = Cat('Kibbles', 8)\n",
    "print(my_cat.name)\n",
    "print()\n",
    "\n",
    "my_dog = Dog('Nasoso', 6)\n",
    "print(my_dog.name)"
   ]
  },
  {
   "cell_type": "markdown",
   "metadata": {},
   "source": [
    "### 8.1 Inheriting from the Person Class\n",
    "The goal of this exercise is to see how methods and attributes are inherited by child classes from parent classes.\n",
    "\n",
    "In this exercise, you will create a Baby class and an Adult class, which will both inherit from a common Person class:"
   ]
  },
  {
   "cell_type": "code",
   "execution_count": null,
   "metadata": {},
   "outputs": [],
   "source": [
    "# Start with the following Person class definition, which takes a first and last name as inputs in the init function:\n",
    "class Person():\n",
    "    def __init__(self, first_name, last_name):\n",
    "        self.first_name = first_name\n",
    "        self.last_name = last_name\n",
    "        \n",
    "# Create a Baby class that inherits from Person, and add a speak instance method:\n",
    "class Baby(Person):\n",
    "    def speak(self):\n",
    "        print('Blah Blah Blah Blah Blah')\n",
    "        \n",
    "# Do the same for an Adult class:\n",
    "class Adult(Person):\n",
    "    def speak(self):\n",
    "        print('Hello, my name is %s' % self.first_name)\n",
    "        \n",
    "# Create a Baby and an Adult object, and make them speak:\n",
    "jess = Baby('Jessie', 'Mcdonald')\n",
    "tom = Adult('Thomas', 'Smith')\n",
    "jess.speak()\n",
    "tom.speak()"
   ]
  },
  {
   "cell_type": "markdown",
   "metadata": {},
   "source": [
    "### Sub-Classing Classes from Python Packages"
   ]
  },
  {
   "cell_type": "code",
   "execution_count": null,
   "metadata": {},
   "outputs": [],
   "source": [
    "class MyInt(int):\n",
    "    def is_divisible_by(self, x):\n",
    "        return self % x == 0\n",
    "    \n",
    "# You could then use this class to create integer objects that have this useful method:\n",
    "a = MyInt(8)\n",
    "a.is_divisible_by(2)"
   ]
  },
  {
   "cell_type": "markdown",
   "metadata": {},
   "source": [
    "### 8.2 Sub-Classing the datetime.date Class"
   ]
  },
  {
   "cell_type": "code",
   "execution_count": null,
   "metadata": {},
   "outputs": [],
   "source": [
    "import datetime\n",
    "\n",
    "# Create a MyDate class that inherits from datetime.date. Create an add_days instance method that uses a timedelta object to increment the date:\n",
    "class MyDate(datetime.date):\n",
    "    def add_days(self, n):\n",
    "        return self + datetime.timedelta(n)\n",
    "    \n",
    "# Create a new object using the MyDate class and try out your custome add_days method\n",
    "d = MyDate(2019, 12, 1)\n",
    "print(d.add_days(40))\n",
    "print(d.add_days(400))"
   ]
  },
  {
   "cell_type": "markdown",
   "metadata": {},
   "source": [
    "### Overriding Methods"
   ]
  },
  {
   "cell_type": "code",
   "execution_count": null,
   "metadata": {},
   "outputs": [],
   "source": [
    "class Person():\n",
    "    def __init__(self, first_name, last_name):\n",
    "        self.first_name = first_name\n",
    "        self.last_name = last_name\n",
    "        \n",
    "    @property\n",
    "    def full_name(self):\n",
    "        return '%s %s' % (self.first_name, self.last_name)\n",
    "    \n",
    "    @full_name.setter\n",
    "    def full_name(self, name):\n",
    "        first, last = name.split(' ')\n",
    "        self.first_name = first\n",
    "        self.last_name = last\n",
    "        \n",
    "# Perhaps you are using this class, but you have problems when setting the names of people whose full name consists of three parts:\n",
    "my_person = Person('Mary', 'Smith')\n",
    "my_person.full_name = 'Mary Anne Smith'\n",
    "\n",
    "# you will get ValueError: too many values to unpack (expected 2)"
   ]
  },
  {
   "cell_type": "markdown",
   "metadata": {},
   "source": [
    "Suppose that in cases where there are three or more names that make up the full name, you want to assign the first part of the name to the first_name attribute, and the rest of the names to the last_name attribute. You could subclass Person and override the method as follows:"
   ]
  },
  {
   "cell_type": "code",
   "execution_count": null,
   "metadata": {},
   "outputs": [],
   "source": [
    "# Start by creating a BetterPerson class that inhertis from Person:\n",
    "class BetterPerson(Person):\n",
    "    # Add a full name property that combines the first and last names:\n",
    "    @property\n",
    "    def full_name(self):\n",
    "        return '%s %s' % (self.first_name, self.last_name)\n",
    "    \n",
    "    # Add full_name.setter to firstly split the full name into its components, then set the first name equal to the first part of the name and set the last name equal to the second part of the name. \n",
    "    # The code also deals with cases where there are more than two components to the name, and it puts everything except the first name into the last name:\n",
    "    @full_name.setter\n",
    "    def full_name(self, name):\n",
    "        names = name.split(' ')\n",
    "        self.first_name = names[0]\n",
    "        if len(names) > 2:\n",
    "            self.last_name = ' '.join(names[1:])\n",
    "        elif len(names) == 2:\n",
    "            self.last_name = names[1]\n",
    "            \n",
    "# Now create a BetterPerson instance and see it in action:\n",
    "my_person = BetterPerson('Mary', 'Smith')\n",
    "my_person.full_name = 'Mary Ann Smith'\n",
    "print(my_person.first_name)\n",
    "print(my_person.last_name)\n",
    "print(my_person.full_name)"
   ]
  },
  {
   "cell_type": "markdown",
   "metadata": {},
   "source": [
    "### Calling the Parent Method with super()"
   ]
  },
  {
   "cell_type": "code",
   "execution_count": null,
   "metadata": {},
   "outputs": [],
   "source": [
    "# suppose you have the following Person class:\n",
    "class Person():\n",
    "    def __init__(self, first_name, last_name):\n",
    "        self.first_name = first_name\n",
    "        self.last_name = last_name\n",
    "        \n",
    "    def speak(self):\n",
    "        print('Hello, my name is %s' % self.first_name)\n",
    "        \n",
    "# Now, suppose you want to create a sub-class to make the person say more things in the speak method. One option would be to do so as follows:\n",
    "class TalkativePerson(Person):\n",
    "    def speak(self):\n",
    "        print('Hello, my name is %s' % self.first_name)\n",
    "        print('It is a pleasure to meet you!')\n",
    "john = TalkativePerson('john', 'Tomic')\n",
    "john.speak()"
   ]
  },
  {
   "cell_type": "code",
   "execution_count": null,
   "metadata": {},
   "outputs": [],
   "source": [
    "# super() allows you to access the parent class without explicitly referring to it by name. In the preceding example, you can use super() as follows:\n",
    "class TalkativePerson(Person):\n",
    "    def speak(self):\n",
    "        super().speak()\n",
    "        print('It is a pleasure to meet you!')\n",
    "john = TalkativePerson('john', 'Tomic')\n",
    "john.speak()"
   ]
  },
  {
   "cell_type": "markdown",
   "metadata": {},
   "source": [
    "### 8.3 Overriding Methods Using super()\n",
    "The aim of this exercise is to learn how to override methods using the super function. You subclass our previously created Diary class and show how super can be used to modify the behavior of a class without unnecessarily repeating code:"
   ]
  },
  {
   "cell_type": "code",
   "execution_count": null,
   "metadata": {},
   "outputs": [],
   "source": [
    "# Import the datetime module:\n",
    "import datetime\n",
    "\n",
    "# Start with the Diary class, as defined previously:\n",
    "class Diary():\n",
    "    def __init__(self, birthday, christmas):\n",
    "        self.birthday = birthday\n",
    "        self.christmas = christmas\n",
    "        \n",
    "    @staticmethod\n",
    "    def format_date(date):\n",
    "        return date.strftime('%d-%b-%y')\n",
    "    \n",
    "    def show_birthday(self):\n",
    "        return self.format_date(self.birthday)\n",
    "    \n",
    "    def show_christmas(self):\n",
    "        return self.format_date(self.christmas)"
   ]
  },
  {
   "cell_type": "markdown",
   "metadata": {},
   "source": [
    "Suppose you're unhappy with the fact that the hardcoded datetime format is in the format_date method, and you would prefer that a custom format can be specified for each diary object separately. One temptation would be to simply copy the whole class and start making modifications. However, when dealing with more complex classes, this is almost never a good option. Instead, let's subclass Diary and start by allowing it to be initialized with a custom date_format string:"
   ]
  },
  {
   "cell_type": "code",
   "execution_count": null,
   "metadata": {},
   "outputs": [],
   "source": [
    "class CustomDiary(Diary):\n",
    "    def __init__(self, birthday, christmas, date_format):\n",
    "        self.date_format = date_format\n",
    "        super().__init__(birthday, christmas)\n",
    "        \n",
    "    # You also want to override the format_date method to use your new date_format attribute:\n",
    "    def format_date(self, date):\n",
    "        return date.strftime(self.date_format)\n",
    "    \n",
    "# Now when you create diary objects, each object can have a different string representation of the dates:\n",
    "first_diary = CustomDiary(datetime.date(2018,1,1), datetime.date(2018,3,3), '%d-%b-%Y')\n",
    "second_diary = CustomDiary(datetime.date(2018,1,1), datetime.date(2018,3,3), '%d-%b-%Y')\n",
    "print(first_diary.show_birthday())\n",
    "print(second_diary.show_christmas())"
   ]
  },
  {
   "cell_type": "markdown",
   "metadata": {},
   "source": [
    "### 8.4 Creating a Consultation Appointment System\n",
    "Suppose you are running a hospital and building a consultation appointment system. You want to be able to schedule appointments for various types of patients.\n",
    "\n",
    "In this exercise, you start with our previously defined Adult and Baby classes and create OrganizedAdult and OrganizedBaby classes by inheriting from a second parent class, Calendar:"
   ]
  },
  {
   "cell_type": "code",
   "execution_count": null,
   "metadata": {},
   "outputs": [],
   "source": [
    "# import datetime module:\n",
    "import datetime\n",
    "\n",
    "# Start with Baby and Adult classes, as defined previously\n",
    "class Person():\n",
    "    def __init__(self, first_name, last_name):\n",
    "        self.first_name = first_name\n",
    "        self.last_name = last_name\n",
    "        \n",
    "class baby(Person):\n",
    "    def speak(self):\n",
    "        print('Blah blah blah')\n",
    "        \n",
    "class Adult(Person):\n",
    "    def speak(self):\n",
    "        print('Hello, my name is %s' % self.first_name)\n",
    "        \n",
    "# Create Calendar class that you can use to help our adults and babies become more organized:\n",
    "class Calendar():\n",
    "    def book_appointment(self, date):\n",
    "        print('Booking appointment for date %s' % date)\n",
    "        \n",
    "# Create OrganizedBaby and OrganizedAdult classes that inherit from multiple parent classes:\n",
    "class OrganizedAdult(Adult, Calendar):\n",
    "    pass\n",
    "\n",
    "class OrganizedBaby(Baby, Calendar):\n",
    "    pass\n",
    "# Note:  If you want to define a class without adding or customizing its methods/attributes, you simply write pass.\n",
    "\n",
    "# Create some objects from your new classes and test their methods:\n",
    "andres = OrganizedAdult('Andres', 'Gomez')\n",
    "boris = OrganizedBaby('Boris', 'Bumblebutton')\n",
    "andres.speak()\n",
    "boris.speak()\n",
    "boris.book_appointment(datetime.date(2018,1,1))"
   ]
  },
  {
   "cell_type": "code",
   "execution_count": null,
   "metadata": {},
   "outputs": [],
   "source": [
    "# Suppose you wanted to warn the user when they try to book an appointment with a baby. You could override the book_appointment method, using the super() method to run the book_appointment method on the Calendar class:\n",
    "\n",
    "class OrganizedBaby(Baby, Calendar):\n",
    "    def book_appointment(self, date):\n",
    "        print('Note that you are booking an appointment with a baby.')\n",
    "        super().book_appointment(data)\n",
    "        \n",
    "# Now test whether it works:\n",
    "boris = OrganizedBaby('Boris', 'Bumblebutton')\n",
    "boris.book_appointment(datetime.date(2018,1,1))"
   ]
  },
  {
   "cell_type": "markdown",
   "metadata": {},
   "source": [
    "### Method Resolution Order\n",
    "Suppose you were inheriting from two parent classes, both of which have a method of the same name. Which would be used when calling the method on the child class? Which would be used when calling it via super()? You should find this out through an example. Suppose you have Dog and Cat classes, and you combine them to make a monstrosity, DogCat:"
   ]
  },
  {
   "cell_type": "code",
   "execution_count": null,
   "metadata": {},
   "outputs": [],
   "source": [
    "class Dog():\n",
    "    def make_sound(self):\n",
    "        print('Woof!')\n",
    "\n",
    "class Cat():\n",
    "    def make_sound(self):\n",
    "        print('Miaw!')\n",
    "class DogCat(Dog, Cat):\n",
    "    pass\n",
    "\n",
    "# What sor of sounds would such a creature make?\n",
    "my_pet = DogCat()\n",
    "my_pet.make_sound()"
   ]
  },
  {
   "cell_type": "code",
   "execution_count": null,
   "metadata": {},
   "outputs": [],
   "source": [
    "class DogCat(Cat, Dog):\n",
    "    pass\n",
    "my_pet = DogCat()\n",
    "my_pet.make_sound()"
   ]
  },
  {
   "cell_type": "code",
   "execution_count": null,
   "metadata": {},
   "outputs": [],
   "source": [
    "# Suppose you wanted to override the method on DogCat and use the super() method.\n",
    "# The same method resolution order would apply:\n",
    "class DogCat(Dog, Cat):\n",
    "    def make_sound(self):\n",
    "        for i in range(3):\n",
    "            super().make_sound()\n",
    "            \n",
    "my_pet = DogCat()\n",
    "my_pet.make_sound()"
   ]
  },
  {
   "cell_type": "code",
   "execution_count": null,
   "metadata": {},
   "outputs": [],
   "source": [
    "# Suppose you wanted to override the method on DogCat and use the super() method.\n",
    "# The same method resolution order would apply:\n",
    "class DogCat(Cat, Dog):\n",
    "    def make_sound(self):\n",
    "        for i in range(3):\n",
    "            super().make_sound()\n",
    "            \n",
    "my_pet = DogCat()\n",
    "my_pet.make_sound()"
   ]
  },
  {
   "cell_type": "markdown",
   "metadata": {},
   "source": [
    "## Activity 14: Creating Classes and Inheriting from a Parent Class"
   ]
  },
  {
   "cell_type": "code",
   "execution_count": null,
   "metadata": {},
   "outputs": [],
   "source": [
    "# Define the parent class, Polygon. We add an init method that allows the user to specify the lengths of the sides when creating the polygon:\n",
    "class Polygon():\n",
    "    \"\"\"A class to capture common utilities for dealing with shapes\"\"\"\n",
    "    def __init__(self, side_lengths):\n",
    "        self.side_lengths = side_lengths\n",
    "        \n",
    "    def __str__(self):\n",
    "        return 'Polygon with %s sides' % self.num_sides\n",
    "    \n",
    "# Add two properties to the Polygon class - one that computes the number of sides of the polygon, and another that returns the perimeter:\n",
    "class Polygon():\n",
    "    \"\"\"A class to capture common utilities for dealing with shapes\"\"\"\n",
    "    def __init__(self, side_lengths):\n",
    "        self.side_lengths = side_lengths\n",
    "        \n",
    "    def __str__(self):\n",
    "        return 'Polygon with %s sides' % self.num_sides\n",
    "    \n",
    "    @property\n",
    "    def num_sides(self):\n",
    "        return len(self.side_lengths)\n",
    "    \n",
    "    @property\n",
    "    def perimeter(self):\n",
    "        return sum(self.side_lengths)\n",
    "    \n",
    "# Create a child class of Polygon called Rectangle.\n",
    "# Add an init method that allows the user to specify the height and the width of the rectangle.\n",
    "# Add a property that computes the area of the rectangle:\n",
    "class Rectangle(Polygon):\n",
    "    def __init__(self, height, width):\n",
    "        super().__init__([height, width, height, width])\n",
    "        \n",
    "    @property\n",
    "    def area(self):\n",
    "        return self.side_lengths[0] * self.side_lengths[1]\n",
    "    \n",
    "# Test your Rectangle class by creating a new rectangle and checking the value of its properties - the area and the perimeter:\n",
    "r = Rectangle(1, 5)\n",
    "print(r.area, r.perimeter)\n",
    "print()\n",
    "\n",
    "# Create a child class of Rectangle called Square that takes a single height parameter in its initilization:\n",
    "class Square(Rectangle):\n",
    "    def __init__(self, height):\n",
    "        super().__init__(height, height)\n",
    "        \n",
    "# Test your Square class by creating a new square and checking the value of its properties - the area and the perimeter:\n",
    "s = Square(5)\n",
    "s.area, s.perimeter"
   ]
  },
  {
   "cell_type": "markdown",
   "metadata": {},
   "source": [
    "# The Standard Library\n",
    "## The Importance of the Standard Library\n",
    "### High-Level Modules"
   ]
  },
  {
   "cell_type": "code",
   "execution_count": null,
   "metadata": {},
   "outputs": [],
   "source": [
    "# turtle module\n",
    "from turtle import Turtle, done\n",
    "turtle = Turtle()\n",
    "turtle.right(180)\n",
    "turtle.forward(100)\n",
    "turtle.right(90)\n",
    "turtle.forward(50)\n",
    "done()"
   ]
  },
  {
   "cell_type": "code",
   "execution_count": null,
   "metadata": {},
   "outputs": [],
   "source": [
    "# argparse module\n",
    "# put the following in echo.py file\n",
    "import argparse\n",
    "parser = argparse.ArgumentParser()\n",
    "parser.add_argument(\"message\", help=\"Message to be echoed\")\n",
    "parser.add_argument(\"-c\", \"--capitalize\", action=\"store_true\")\n",
    "args = parser.parse_args()\n",
    "if args.capitalize:\n",
    "    print(args.message.capitalize())\n",
    "else:\n",
    "    print(args.message)"
   ]
  },
  {
   "cell_type": "code",
   "execution_count": null,
   "metadata": {},
   "outputs": [],
   "source": [
    "!python echo.py --help"
   ]
  },
  {
   "cell_type": "markdown",
   "metadata": {},
   "source": [
    "### 8.5 Using the dataclass Module\n",
    "In this exercise, you will create a class to hold data for a geographical point. This is a simple structure with two coordinates, x and y.\n",
    "\n",
    "These coordinate points, x and y, are used by other developers who need to store geographical information. They will be working daily with these points, so they need to be able to create them with an easy constructor and be able to print them and see their values — converting them into a dictionary to save them into their database and share it with other people."
   ]
  },
  {
   "cell_type": "code",
   "execution_count": null,
   "metadata": {},
   "outputs": [],
   "source": [
    "# import the dataclass modules:\n",
    "import dataclasses  # This line brings the dataclasses module to the local namespace, allowing us to use it\n",
    "\n",
    "# define a dataclasse\n",
    "@dataclasses.dataclass\n",
    "class Point:\n",
    "    x: int\n",
    "    y: int\n",
    "\n",
    "# Create an instance, which is the data for a geographical point:\n",
    "p = Point(x=10, y=20)\n",
    "print(p)\n",
    "print()\n",
    "\n",
    "# Now, compare the data points with another Point object:\n",
    "p2 = Point(x=10, y=20)\n",
    "p == p2\n",
    "print()\n",
    "\n",
    "# Serialize the data:\n",
    "dataclasses.asdict(p)"
   ]
  },
  {
   "cell_type": "markdown",
   "metadata": {},
   "source": [
    "### 8.6 Extending the echo.py Example"
   ]
  },
  {
   "cell_type": "code",
   "execution_count": null,
   "metadata": {},
   "outputs": [],
   "source": [
    "# argparse module\n",
    "# put the following in echo.py file\n",
    "import argparse\n",
    "\n",
    "# Add a description to the echo command.\n",
    "# You can do thei by passing it as an argument to the ArgumentParser class:\n",
    "parser = argparse.ArgumentParser(description=\"\"\"\n",
    "Prints out the words passed in, capitalize them if \n",
    "required and repeats them in as many lines as required\n",
    "\"\"\")\n",
    "\n",
    "# Configure an argument to take multiple messages\n",
    "parser.add_argument(\"message\", help=\"Message to be echoed\", nargs=\"+\")\n",
    "parser.add_argument(\"-c\", \"--capitalize\", action=\"store_true\")\n",
    "\n",
    "# Add a repeat flag with a default value.\n",
    "parser.add_argument(\"--repeat\", type=int, default=1)\n",
    "\n",
    "args = parser.parse_args()\n",
    "if args.capitalize:\n",
    "    messages = [m.capitalize() for m in args.message]\n",
    "else:\n",
    "    messages = args.message\n",
    "for _ in range(args.repeat):\n",
    "    print(\" \".join(messages))"
   ]
  },
  {
   "cell_type": "code",
   "execution_count": null,
   "metadata": {},
   "outputs": [],
   "source": [
    "!python echo.py -h"
   ]
  },
  {
   "cell_type": "code",
   "execution_count": null,
   "metadata": {},
   "outputs": [],
   "source": [
    "!python echo.py hello packt reader --repeat=3 -c"
   ]
  },
  {
   "cell_type": "markdown",
   "metadata": {},
   "source": [
    "## Dates and Times"
   ]
  },
  {
   "cell_type": "code",
   "execution_count": null,
   "metadata": {},
   "outputs": [],
   "source": [
    "import datetime\n",
    "datetime.date.today()"
   ]
  },
  {
   "cell_type": "code",
   "execution_count": null,
   "metadata": {},
   "outputs": [],
   "source": [
    "import datetime\n",
    "from dateutil import tz\n",
    "datetime.datetime(1989, 4, 24, 10, 11,\n",
    "                 tzinfo=tz.gettz(\"Europe/Madrid\"))"
   ]
  },
  {
   "cell_type": "markdown",
   "metadata": {},
   "source": [
    "### 8.7 Comparing datetime across Time Zones\n",
    "The goal of this exercise is to create two different datetime and compare them when they are in different time zones:"
   ]
  },
  {
   "cell_type": "code",
   "execution_count": null,
   "metadata": {},
   "outputs": [],
   "source": [
    "# import the datetime and tz modules from dateutil.\n",
    "import datetime\n",
    "from dateutil import tz\n",
    "# Note: Dateutil is not a module from the standard library, though it is the one recommended by the standard library.\n",
    "\n",
    "# Create the first datetime for Madrid:\n",
    "d1 = datetime.datetime(1989, 4, 24, hour=11,\n",
    "                      tzinfo=tz.gettz(\"Europ/Madrid\"))\n",
    "\n",
    "# Create a second datetime for Los_Angeles:\n",
    "d2 = datetime.datetime(1989, 4, 24, hour=8,\n",
    "                      tzinfo=tz.gettz(\"America/Los_Angeles\"))\n",
    "\n",
    "# Now, compare them:\n",
    "print(d1.hour > d2.hour)\n",
    "# print(d1 > d2)\n",
    "\n",
    "# Now, Convert the datetime object to a different time zone.\n",
    "d2_madrid = d2.astimezone(tz.gettz(\"Europe/Madrid\"))\n",
    "print(d2_madrid.hour)"
   ]
  },
  {
   "cell_type": "markdown",
   "metadata": {},
   "source": [
    "### 8.8 Calculating the Time Delta between Two datetime Objects\n",
    "In this exercise, you will subtract two datetime objects to calculate the delta between the two timestamps."
   ]
  },
  {
   "cell_type": "code",
   "execution_count": null,
   "metadata": {},
   "outputs": [],
   "source": [
    "# Import the datetime module:\n",
    "import datetime as dt\n",
    "\n",
    "# Create two datetime objects:\n",
    "d1 = dt.datetime(2019, 2, 25, 10, 50,\n",
    "                tzinfo=dt.timezone.utc)\n",
    "d2 = dt.datetime(2019, 2, 26, 11, 20,\n",
    "                tzinfo=dt.timezone.utc)\n",
    "\n",
    "# Subtract d1 from d2\n",
    "d2 - d1"
   ]
  },
  {
   "cell_type": "code",
   "execution_count": null,
   "metadata": {},
   "outputs": [],
   "source": [
    "td = d2 - d1\n",
    "td.total_seconds()"
   ]
  },
  {
   "cell_type": "code",
   "execution_count": null,
   "metadata": {},
   "outputs": [],
   "source": [
    "d1 = dt.datetime.now(dt.timezone.utc)\n",
    "d1.isoformat()"
   ]
  },
  {
   "cell_type": "markdown",
   "metadata": {},
   "source": [
    "### 8.9 Calculating the Unix Epoch Time\n",
    "In this exercise, you will use the datetime and time modules to calculate Unix Epoch time.\n",
    "\n",
    "If you can just look it up, you can also calculate the Unix epoch. As time.time gives us the number of seconds since the epoch, you can create a time delta with it and subtract it from a datetime you've created. You will see how to perform that in this exercise.\n",
    "\n"
   ]
  },
  {
   "cell_type": "code",
   "execution_count": null,
   "metadata": {},
   "outputs": [],
   "source": [
    "# Import the time and datetime modules and get them to the current namespace:\n",
    "import datetime as dt\n",
    "import time\n",
    "\n",
    "# Get the current time. You use both datetime and time to do this:\n",
    "time_now = time.time()\n",
    "datetime_now = dt.datetime.now(dt.timezone.utc)\n",
    "\n",
    "# Note: You use the UTC time zone when getting time with datetime. This is necessary because time.time returns Unix time, which uses an epoch that is in UTC.\n",
    "# You can now calculate the epoch by subtracting datetime and a time delta, which you get from the current time since you said that these are the number of seconds since the epoch:\n",
    "epoch = datetime_now - dt.timedelta(seconds=time_now)\n",
    "print(epoch)"
   ]
  },
  {
   "cell_type": "markdown",
   "metadata": {},
   "source": [
    "There is one more module that it is sometimes used in combination with datetime, which is the calendar module. The calendar module provides additional information about calendar years; that is, how many days there are in a month. This can also be used to output calendars such as the Unix function.\n",
    "\n",
    "Now have a look at an example where you create a calendar and get all of the days in a month as follows:"
   ]
  },
  {
   "cell_type": "code",
   "execution_count": null,
   "metadata": {},
   "outputs": [],
   "source": [
    "import calendar\n",
    "c = calendar.Calendar()\n",
    "print(list(c.itermonthdates(2019, 2)))\n",
    "print()\n",
    "print()\n",
    "\n",
    "# Note: Though the function returns all date instances for all the weeks in the month, if you want to get only the days that belong to the specific month, you need to filter them.\n",
    "print(list(d for d in c.itermonthdates(2019, 2) if d.month == 2))"
   ]
  },
  {
   "cell_type": "markdown",
   "metadata": {},
   "source": [
    "### Activity 15 Calculating the Time Elapsed to Run a Loop "
   ]
  },
  {
   "cell_type": "code",
   "execution_count": null,
   "metadata": {},
   "outputs": [],
   "source": [
    "# import the random and time modules\n",
    "import random\n",
    "import time\n",
    "\n",
    "# Use the time.time function to get the start time:\n",
    "start = time.time()\n",
    "\n",
    "# Now, by using the aforementioned code, we will find the time in nanoseconds. Here, the range is set from 1 to 999:\n",
    "l = [random.randint(1, 999) for _ in range(10 * 3)]\n",
    "\n",
    "# Now, we record the finish time and subtract this time to get the delta:\n",
    "end = time.time()\n",
    "print(end - start)\n",
    "print()\n",
    "\n",
    "# But this will give us a float. For measurements higher than 1 second, the precision might be good enough, but we can also use time.time_ns to get the time as the number of nanoseconds elapsed. \n",
    "# This will give us a more precise result, without the limitations of floating-point numbers:\n",
    "start = time.time_ns()\n",
    "l = [random.randint(1, 999) for _ in range(10 * 3)]\n",
    "end = time.time_ns()\n",
    "print(end - start)"
   ]
  },
  {
   "cell_type": "markdown",
   "metadata": {},
   "source": [
    "## Interacting with the IOS"
   ]
  },
  {
   "cell_type": "markdown",
   "metadata": {},
   "source": [
    "#### OS Information\n",
    "There are three key modules that are used to inspect the runtime environment and the OS. The os module enables miscellaneous interfaces with the OS. You can use it to inspect environment variables or to get other user and process-related information. This, combined with the platform module, which contains information about the interpreter and the machine where the process is running, and the sys module, which provides you with helpful system-specific information, will usually provide you with all the information that you need about the runtime environment."
   ]
  },
  {
   "cell_type": "markdown",
   "metadata": {},
   "source": [
    "### 9.0 Inspecting the Current Process Information"
   ]
  },
  {
   "cell_type": "code",
   "execution_count": null,
   "metadata": {},
   "outputs": [],
   "source": [
    "import platform\n",
    "import os\n",
    "import sys\n",
    "\n",
    "# Get basic process information: To obtain information such as the Process id, Parent id you can use the os module:\n",
    "print(\"Process id:\", os.getpid())\n",
    "print(\"Parent process id:\", os.getppid())\n",
    "print()\n",
    "\n",
    "# Now, get the platform and Python interpreter information:\n",
    "print(\"Machine network name:\", platform.node())\n",
    "print(\"Python version:\", platform.python_version())\n",
    "print(\"System:\", platform.system())\n",
    "print()\n",
    "\n",
    "# Get the Python path and the arguments passed to the interpreter:\n",
    "print(\"Python module lookup path:\", sys.path)\n",
    "print(\"Command to run Python:\", sys.argv)\n",
    "print()\n",
    "\n",
    "# Get the username through an environment variable.\n",
    "#print(\"USERNAME environment variable:\", os.environ[\"USERNAME\"])"
   ]
  },
  {
   "cell_type": "markdown",
   "metadata": {},
   "source": [
    "### Unsing pathlib\n",
    "Another useful module is pathlib. Even though many of the actions that are performed with pathlib can be done with os.path, the pathlib library offers a much better experience, which you'll go into more detail about later. The pathlib module provides a way to represent and interact with filesystem paths.  A path object of the module, which is the basic util of the module, can just be created with its default argument to start a relative path to the current working directory:"
   ]
  },
  {
   "cell_type": "code",
   "execution_count": null,
   "metadata": {},
   "outputs": [],
   "source": [
    "import pathlib\n",
    "path = pathlib.Path()\n",
    "print(repr(path))\n",
    "print()"
   ]
  },
  {
   "cell_type": "markdown",
   "metadata": {},
   "source": [
    "Note:  You can get and change the current working directory with os.getcwd() and os.chdir(), respectively.\n",
    "\n",
    "You will get either a PosixPath or a WindowsPath function of the platform you are running on. You can use the string representation of a path at any time to be used in the functions that accept a string as a path; this can be done by calling str(path).  path objects can be joined with just a forward slash (/), which feels really natural and easy to read, as shown in the following code snippet:"
   ]
  },
  {
   "cell_type": "code",
   "execution_count": null,
   "metadata": {},
   "outputs": [],
   "source": [
    "import pathlib\n",
    "path = pathlib.Path(\".\")\n",
    "# new_path = path / \"folder\" / \"folder\" / \"example.py\""
   ]
  },
  {
   "cell_type": "markdown",
   "metadata": {},
   "source": [
    "### 9.1 Using the glob Pattern to List Files within a Directory"
   ]
  },
  {
   "cell_type": "code",
   "execution_count": null,
   "metadata": {},
   "outputs": [],
   "source": [
    "# Create a path object for the current path:\n",
    "import pathlib\n",
    "p = pathlib.Path(\"\")\n",
    "# Note: You could also use pathlib.Path.cwd() and get an absolute path directory\n",
    "\n",
    "# Find all files in the directory with the txt extension.\n",
    "# You can start by listing all files with the txt extension by using the following glob:\n",
    "txt_files = p.glob(\"*.txt\")\n",
    "print(\"*.txt:\", list(txt_files))\n",
    "print()\n",
    "\n",
    "# If you wanted to list all of the text files in any folder within the path, no matter \n",
    "# the number of subdirectories, you could use the double start syntax, **:\n",
    "print(\"**/*.txt:\", list(p.glob(\"**/*.txt\")))\n",
    "print()\n",
    "\n",
    "# List all files one level deep that are within the subdirectory.\n",
    "#If you wanted to list all files one level deep within a subdirectory only, you could use the following glob pattern:\n",
    "print(\"*/*:\", list(p.glob(\"*/*\")))\n",
    "print()\n",
    "\n",
    "# If you wanted to get only files, you could filter each of the paths by checking the is_file method, as mentioned previously:\n",
    "print(\"Files in */*\", [f for f in p.glob(\"*/*\") if f.is_file()])"
   ]
  },
  {
   "cell_type": "markdown",
   "metadata": {},
   "source": [
    "Note:  There is also another module that is worth mentioning, which contains high-level functions for file and folder operations, shutil. With shutil, it is possible to recursively copy, move, or delete files."
   ]
  },
  {
   "cell_type": "markdown",
   "metadata": {},
   "source": [
    "### Listing All Hidden Files in Your Home Directory\n",
    "In Unix, hidden files are those that start with a dot. Usually, those files are not listed when you list files with tools such as ls unless you explicitly ask for them. You will now use the pathlib module to list all hidden files in your home directory. The code snippet indicated here will show exactly how to list these hidden files:"
   ]
  },
  {
   "cell_type": "code",
   "execution_count": null,
   "metadata": {},
   "outputs": [],
   "source": [
    "import pathlib\n",
    "p = pathlib.Path.home()\n",
    "print(list(p.glob(\".*\")))"
   ]
  },
  {
   "cell_type": "markdown",
   "metadata": {},
   "source": [
    "## Using the subprocess Module"
   ]
  },
  {
   "cell_type": "code",
   "execution_count": null,
   "metadata": {},
   "outputs": [],
   "source": [
    "# call the Linux system ls by using subprocess and listing all the files:\n",
    "import subprocess\n",
    "subprocess.run([\"ls\"])\n",
    "# Note: The return value is an instance of CompletedProcess, but the output of the command is sent to standard output in the console.\n",
    "\n",
    "# If you want to be able to capture and see the output that our process produced, you need to pass the capture_output argument. \n",
    "# This will capture stdout and stderr and make it available in the completedProcess instance returned by run:\n",
    "result = subprocess.run([\"ls\"], capture_output=True)\n",
    "print(\"stdout: \", result.stdout)\n",
    "print()\n",
    "print(\"stderr: \", result.stderr)\n",
    "# Note:  The stdout and stderr result is a byte string. If you know that the result is text, you can pass the text argument to have it decoded.\n",
    "\n",
    "print()\n",
    "# Now, Let's omit stderr from the output as you know it is empty\n",
    "result = subprocess.run([\"ls\"], capture_output=True, text=True)\n",
    "print(\"stdout: \\n\", result.stdout)\n",
    "print()\n",
    "\n",
    "# You can also pass more arguments, such as -l, to have the files listed with details:\n",
    "result = subprocess.run([\"ls\", \"-l\"], capture_output=True, text=True)\n",
    "print(\"stdout: \\n\", result.stdout) "
   ]
  },
  {
   "cell_type": "markdown",
   "metadata": {},
   "source": [
    "In some situations, you might want to inspect the return code that our return process has returned. In those situations, you can just check the returncode attribute in the returning instance of subprocess.run:"
   ]
  },
  {
   "cell_type": "code",
   "execution_count": null,
   "metadata": {},
   "outputs": [],
   "source": [
    "result = subprocess.run([\"ls\", \"non_existing_file\"])\n",
    "print(\"rc: \", result.returncode)"
   ]
  },
  {
   "cell_type": "markdown",
   "metadata": {},
   "source": [
    "### 9.2 Customizing Child Processes with env vars\n",
    "As part of an auditing tool, you are asked to print our environment variables by using the subprocess module, without relying on the Python os.environ variable. However, you have to do so concealing our server name, as our manager does not want to show this information to our clients.  In this exercise, you will call other apps in the OS while changing the environment variables of the parent process. You will see how you can change environment variables when using subprocess:"
   ]
  },
  {
   "cell_type": "code",
   "execution_count": null,
   "metadata": {},
   "outputs": [],
   "source": [
    "# import subprocess to bring the module into the current namespace:\n",
    "import subprocess\n",
    "\n",
    "# Run env to print the environment variables:\n",
    "result = subprocess.run([\"env\"], capture_output=True, text=True)\n",
    "print(result.stdout)\n",
    "print()\n",
    "\n",
    "# Now, modify the default set of variables\n",
    "import os\n",
    "#result = subprocess.run([\"env\"], capture_output=True, text=True, env=(**os.environ, \"SERVER\": \"OTHER_SERVER\"))\n",
    "#print(result.stdout)"
   ]
  },
  {
   "cell_type": "markdown",
   "metadata": {},
   "source": [
    "## Activity 16 Testing Python Code \n",
    "The line, compile(\"1\" + \"+1\" * 10 ** 6, \"string\", \"exec\"), will crash the interpreter; we will need to run it with the following code:"
   ]
  },
  {
   "cell_type": "code",
   "execution_count": null,
   "metadata": {},
   "outputs": [],
   "source": [
    "# First, import the sys, and subprocess modules:\n",
    "import sys\n",
    "import subprocess\n",
    "\n",
    "# save the code that we were given in the code varaible\n",
    "code = 'compile(\"1\" + \"+1\" * 10 ** 6, \"string\", \"exec\")'\n",
    "\n",
    "# Run the code by calling subprocess.run and sys.executable to get the Python interpreter we are using:\n",
    "result = subprocess.run([sys.executable, \"-c\", code])\n",
    "\n",
    "# The preceding code takes a code line, which compiles Python code that will crash and runs it in a subprocess by executing the same interpreter (retrieved via sys.executable) \n",
    "# with the -c option to run Python code inline.\n",
    "\n",
    "# Now, we print the final result using result.resultcode. This will return the value -11, which means the process has crashed:\n",
    "print(result.returncode)"
   ]
  },
  {
   "cell_type": "markdown",
   "metadata": {},
   "source": [
    "In this activity, we have executed a small program that can run the requested code line and checked whether it would crash without breaking the current process. It did end up crashing, hence outputting the value -11, which corresponded to an abort in the program."
   ]
  },
  {
   "cell_type": "markdown",
   "metadata": {},
   "source": [
    "# Logging"
   ]
  },
  {
   "cell_type": "markdown",
   "metadata": {},
   "source": [
    "### Logger Object\n",
    "Loggers have a hierarchy of names split by a dot. For example, if you ask for a logger named my.logger, you are creating a logger that is a child of my, which is a child of the root logger. All top-level loggers \"inherit\" from the root logger.\n",
    "\n",
    "You can get the root logger by calling getLogger without arguments or by logging directly with the logging module. A common practice is to use __name__ as the logger module. This makes your logging hierarchy follow your source code hierarchy. Unless you have a strong reason not to do that, use __name__ when developing libraries and applications.\n",
    "\n",
    "### 9.3 Using a logger Object\n",
    "The goal of this exercise is to create a logger object and use four different methods that allow us to log in the categories mentioned in the Logging section:"
   ]
  },
  {
   "cell_type": "code",
   "execution_count": null,
   "metadata": {},
   "outputs": [],
   "source": [
    "import logging\n",
    "\n",
    "# Create a logger. we can now get a logger through the factory method getLogger:\n",
    "logger = logging.getLogger(\"logger_name\")\n",
    "\n",
    "# Log with different categories:\n",
    "logger.debug(\"Logging at Debug\")\n",
    "logger.info(\"Logging at info\")\n",
    "logger.warning(\"Logging at warning\")\n",
    "logger.error(\"Logging at error\")\n",
    "logger.fatal(\"Logging at fatal\")\n",
    "print()\n",
    "\n",
    "# Include information when logging:\n",
    "system = \"moon\"\n",
    "for number in range(3):\n",
    "    logger.warning(\"%d errors reported in %s\", number, system)"
   ]
  },
  {
   "cell_type": "markdown",
   "metadata": {},
   "source": [
    "Note: You use Python standard string interpolation, and you pass the remainder of the variables as attributes. %d is used to format numbers, while %s is used for strings. The string interpolation format also has syntax to customize the formatting of numbers or to use the repr of an object."
   ]
  },
  {
   "cell_type": "markdown",
   "metadata": {},
   "source": [
    "### Logging in warning, error, and fatal Categories"
   ]
  },
  {
   "cell_type": "code",
   "execution_count": null,
   "metadata": {},
   "outputs": [],
   "source": [
    "try:\n",
    "    int(\"nope\")\n",
    "except Exception:\n",
    "    logging.error(\"Something bad happened\", exc_info=True)"
   ]
  },
  {
   "cell_type": "code",
   "execution_count": null,
   "metadata": {},
   "outputs": [],
   "source": [
    "try:\n",
    "    int(\"nope\")\n",
    "except Exception:\n",
    "    logging.exception(\"Something bad happened\")"
   ]
  },
  {
   "cell_type": "code",
   "execution_count": null,
   "metadata": {},
   "outputs": [],
   "source": [
    "# Prefer\n",
    "logging.info(\"string template %s\", variable)\n",
    "\n",
    "# To\n",
    "logging.info('string template {}'.format(variable))"
   ]
  },
  {
   "cell_type": "code",
   "execution_count": null,
   "metadata": {},
   "outputs": [],
   "source": [
    "d = dict()\n",
    "# Prefer\n",
    "try:\n",
    "    d[\"missing_key\"] += 1\n",
    "except Exception:\n",
    "    logging.error(\"Somthing bad happended\", exec_info=True)\n",
    "    \n",
    "# To\n",
    "try:\n",
    "    d[\"missing_key\"] += 1\n",
    "except Exception as e:\n",
    "    logging.error(\"Something bad happened: %s\", e)"
   ]
  },
  {
   "cell_type": "markdown",
   "metadata": {},
   "source": [
    "### 9.4 Configure the Logging Stack"
   ]
  },
  {
   "cell_type": "markdown",
   "metadata": {},
   "source": [
    "Note:  The background is white, which means the output went to stdout and not stderr, as in the previous examples. Make sure to restart the kernel or interpreter every time prior to configuring the logging stack."
   ]
  },
  {
   "cell_type": "code",
   "execution_count": null,
   "metadata": {},
   "outputs": [],
   "source": [
    "# Start with configuring the code.\n",
    "# The first way to configure the stack is by manually creating all the objects and plugging them together:\n",
    "import logging\n",
    "import sys\n",
    "\n",
    "root_logger = logging.getLogger()\n",
    "handler = logging.StreamHandler(sys.stdout)\n",
    "formatter = logging.Formatter(\"%(levelname)s: %(message)s\")\n",
    "handler.setFormatter(formatter)\n",
    "root_logger.addHandler(handler)\n",
    "root_logger.setLevel(\"INFO\")\n",
    "logging.info(\"Hello logging world\")"
   ]
  },
  {
   "cell_type": "code",
   "execution_count": null,
   "metadata": {},
   "outputs": [],
   "source": [
    "# Restart the kernel on Jupyter and now use dictConfig to achieve the sam configuraiton:\n",
    "import logging\n",
    "from logging.config import dictConfig\n",
    "dictConfig({\n",
    "    \"version\": 1,\n",
    "    \"formatters\": {\n",
    "        \"short\": {\n",
    "            \"format\": \"%(levelname)s: %(message)s\",\n",
    "        }\n",
    "    },\n",
    "    \"handlers\": {\n",
    "        \"console\": {\n",
    "            \"class\": \"logging.StreamHandler\",\n",
    "            \"formatter\": \"short\",\n",
    "            \"stream\": \"ext://sys.stdout\",\n",
    "        }\n",
    "    }\n",
    "})"
   ]
  },
  {
   "cell_type": "markdown",
   "metadata": {},
   "source": [
    "Now, again, restart the kernel on Jupyter and use basicConfig as mentioned in the following code snippet:"
   ]
  },
  {
   "cell_type": "code",
   "execution_count": null,
   "metadata": {},
   "outputs": [],
   "source": [
    "import sys\n",
    "import logging\n",
    "logging.basicConfig(\n",
    "    level=\"INFO\",\n",
    "    format=\"%(levelname)s: %(message)s\",\n",
    "    stream=sys.stdout\n",
    ")\n",
    "logging.info(\"Hello there!\")"
   ]
  },
  {
   "cell_type": "markdown",
   "metadata": {},
   "source": [
    "Using an ini file: Another way to configure the logging stack is by using an ini file. We require an ini file, as follows:"
   ]
  },
  {
   "cell_type": "code",
   "execution_count": null,
   "metadata": {},
   "outputs": [],
   "source": [
    "# logging-config.ini\n",
    "[loggers]\n",
    "keys=root\n",
    "[handlers]\n",
    "keys=console_handler\n",
    "[formatters]\n",
    "keys=short\n",
    "[logger_root]\n",
    "level=INFO\n",
    "handlers=console_handler\n",
    "[handler_console_handler]\n",
    "class=StreamHandler"
   ]
  },
  {
   "cell_type": "markdown",
   "metadata": {},
   "source": [
    "Save logging-config.ini file and then you can load it with the following code:"
   ]
  },
  {
   "cell_type": "code",
   "execution_count": null,
   "metadata": {},
   "outputs": [],
   "source": [
    "import logging\n",
    "from logging.config import fileConfig\n",
    "fileConfig(\"Logging-config.ini\")\n",
    "logging.info(\"Hello there!\")"
   ]
  },
  {
   "cell_type": "markdown",
   "metadata": {},
   "source": [
    "## Collections (counters, defaultdict, and chainmap)\n",
    "### Counters\n",
    "A counter object can be created either with the list of objects that you want to count or with a dictionary that already contains the mapping of objects to their count. Once you have a counter instance created, you can get information about the count of objects, such as getting the most common ones or the count of a specific object.\n",
    "\n",
    "### 9.5 Counting Words in a Text Document"
   ]
  },
  {
   "cell_type": "code",
   "execution_count": null,
   "metadata": {},
   "outputs": [],
   "source": [
    "# Get the list of words from https://packt.live/2OOaXWs, which is our source data:\n",
    "import urllib.request\n",
    "url = 'https://www.w3.org/TR/PNG/iso_8859-1.txt'\n",
    "response = urllib.request.urlopen(url)\n",
    "words = response.read().decode().split()\n",
    "print(len(words))  # 858\n",
    "print()\n",
    "\n",
    "# Now, create a counter:\n",
    "import collections\n",
    "word_counter = collections.Counter(words)\n",
    "# This creates a counter with the list of words passed in through the words list. You can now perform the operations you want on the counter.\n",
    "\n",
    "# Note:  As this is a subclass of the dictionary, you can perform all the operations that you can also perform on the dictionary.\n",
    "# get the five mode common words;\n",
    "for word, count in word_counter.most_common(5):\n",
    "    print(word, \"-\", count)\n",
    "print()\n",
    "\n",
    "# Now, explore occurrences of some words, as shown in the following code snippet:\n",
    "print(\"QUESTION\", \"-\", word_counter[\"QUESTION\"])\n",
    "print(\"CIRCUMFLEX\", \"-\", word_counter[\"CIRCUMFLEX\"])\n",
    "print(\"DIGIT\", \"-\", word_counter[\"DIGIT\"])\n",
    "print(\"PYTHON\", \"-\", word_counter[\"PYTHON\"])"
   ]
  },
  {
   "cell_type": "markdown",
   "metadata": {},
   "source": [
    "### defaultdict\n",
    "Another class that is considered to create simpler-to-read code is the defaultdict class. This class behaves like a dict but allows you to provide a factory method to be used when a key is missing. This is extremely useful in multiple scenarios where you edit values, and especially if you know how to generate the first value, such as when you are building a cache or counting objects.  In Python, whenever you see code like the following code snippet, you can use defaultdict to improve the code quality:"
   ]
  },
  {
   "cell_type": "code",
   "execution_count": null,
   "metadata": {},
   "outputs": [],
   "source": [
    "d = {}\n",
    "def function(x):\n",
    "    if x not in d:\n",
    "        d[x] = 0   # or any other initialization\n",
    "    else:\n",
    "        d[x] += 1  # or any other manipulation\n",
    "        \n",
    "# Some people will try to make this more Pythonic by using EAFP over LBYL, which handles the failure rather than checking whether it will succeed:\n",
    "d = {}\n",
    "def function{x}:\n",
    "    try:\n",
    "        d[x] += 1\n",
    "    except KeyError:\n",
    "        d[x] = 1"
   ]
  },
  {
   "cell_type": "markdown",
   "metadata": {},
   "source": [
    "While this is indeed the preferred way to handle this code according to Python developers as it better conveys the information that the main part of the logic is the successful case, the correct solution for this kind of code is defaultdict. Intermediate to advanced Python developers will immediately think of transforming that code into a default dict and then comparing how it looks:"
   ]
  },
  {
   "cell_type": "code",
   "execution_count": null,
   "metadata": {},
   "outputs": [],
   "source": [
    "import collections\n",
    "d = collections.defaultdict(int)\n",
    "def function(x):\n",
    "    d[x] += 1"
   ]
  },
  {
   "cell_type": "markdown",
   "metadata": {},
   "source": [
    "### 9.6 Refactoring Code with defaultdict"
   ]
  },
  {
   "cell_type": "code",
   "execution_count": null,
   "metadata": {},
   "outputs": [],
   "source": [
    "_audit = {}\n",
    "def add_audit(area, action):\n",
    "    if area in _audit:\n",
    "        _audit[area].append(action)\n",
    "    else:\n",
    "        _audit[area] = [action]\n",
    "        \n",
    "def report_audit():\n",
    "    for area, actions in _audit.items():\n",
    "        print(f\"{area} audit:\")\n",
    "        for action in actions:\n",
    "            print(f\"- {action}\")\n",
    "        print()"
   ]
  },
  {
   "cell_type": "markdown",
   "metadata": {},
   "source": [
    "Note: The aforementioned code can be found on GitHub: https://packt.live/31ccJ6k."
   ]
  },
  {
   "cell_type": "code",
   "execution_count": null,
   "metadata": {},
   "outputs": [],
   "source": [
    "# Run the code that keeps an audit of all the actions, as mentioned previously.\n",
    "# First, run the code to see how it behaves.\n",
    "add_audit(\"HR\", \"Hired Sam\")\n",
    "add_audit(\"Finance\", \"Used 1000£\")\n",
    "add_audit(\"HR\", \"Hired Tom\")\n",
    "report_audit()"
   ]
  },
  {
   "cell_type": "code",
   "execution_count": null,
   "metadata": {},
   "outputs": [],
   "source": [
    "# Introduce a default dict:\n",
    "import collections\n",
    "_audit = collections.defaultdict(list)\n",
    "def add_audit(area, action):\n",
    "    _audit[area].append(action)\n",
    "    \n",
    "def report_audit():\n",
    "    for area, actions in _audit.items():\n",
    "        print(f\"{area} audit:\")\n",
    "        for action in actions:\n",
    "            print(f\"- {action}\")\n",
    "        print()     "
   ]
  },
  {
   "cell_type": "code",
   "execution_count": null,
   "metadata": {},
   "outputs": [],
   "source": [
    "# Us the add_audit function to create the first element\n",
    "# The following code is without defaultdict for add_audit\n",
    "def add_audit(area, action):\n",
    "    if area not in _audit:\n",
    "        _audit[area] = [\"Area created\"]\n",
    "    _audit[area].append(action)"
   ]
  },
  {
   "cell_type": "markdown",
   "metadata": {},
   "source": [
    "The code change performed in add_audit is much more complex than the one you will have to perform in your function with defaultdict.\n",
    "\n",
    "With defaultdict, you just need to change the factory method from being a list to being a list with the initial string:"
   ]
  },
  {
   "cell_type": "code",
   "execution_count": null,
   "metadata": {},
   "outputs": [],
   "source": [
    "import collections\n",
    "_audit = collections.defaultdict(lambda: [\"Area created\"])\n",
    "def add_audit(area, action):\n",
    "    _audit[area].append(action)\n",
    "    \n",
    "def report_audit():\n",
    "    for area, actions in _audit.items():\n",
    "        print(f\"{area} audit:\")\n",
    "        for action in actions:\n",
    "            print(f\"- {action}\")\n",
    "        print()\n",
    "        \n",
    "# and it is still simpler that without defaultdict:\n",
    "add_audit(\"HR\", \"Hired Sam\")\n",
    "add_audit(\"Finance\", \"Used 1000£\")\n",
    "add_audit(\"HR\", \"Hired Tom\")\n",
    "report_audit()"
   ]
  },
  {
   "cell_type": "markdown",
   "metadata": {},
   "source": [
    "### ChainMap\n",
    "Another interesting class in the collection's module is ChainMap. ChainMap is a structure that allows you to combine lookups for multiple mapping objects, usually dictionaries. It can be seen as a multi-level object; the user can see the front of it with all the keys and all the mappings, but the keys that map on the frontend hide the mappings on the backend.\n",
    "\n",
    "Say you want to create a function that returns the menu our users will have at a restaurant; the function just returns a dictionary with the different types of elements of the lunch and the value of them. You want to allow our users to customize any part of the lunch, but you also want to provide some defaults. This can easily be done with ChainMap:"
   ]
  },
  {
   "cell_type": "code",
   "execution_count": null,
   "metadata": {},
   "outputs": [],
   "source": [
    "import collections\n",
    "_defaults = {\n",
    "    \"apetisers\": \"Hummus\",\n",
    "    \"main\": \"Pizza\",\n",
    "    \"desert\": \"Chocolate cake\",\n",
    "    \"drink\": \"Water\",\n",
    "}\n",
    "\n",
    "def prepare_menu(customizations):\n",
    "    return collections.ChainMap(customizations, _defaults)\n",
    "\n",
    "def print_menu(menu):\n",
    "    for key, value in menu.items():\n",
    "        print(f\"As {key}: {value}.\")\n",
    "        \n",
    "# Note\n",
    "# You have a dictionary that provides you with the defaults, and you are combining it with the user's customizations by using ChainMap. \n",
    "# The order is important, as it makes the user's dictionary values appear before the defaults and, if desired, you can also have more than two dictionaries, which might be useful for other use cases.\n",
    "\n",
    "# You will now see how chainmap behaves when you pass in different values:\n",
    "menu1 = prepare_menu({})\n",
    "print_menu(menu1)\n",
    "print()\n",
    "\n",
    "menu3 = prepare_menu({\"side\": \"French fries\"})\n",
    "print_menu(menu3)\n",
    "print()\n",
    "\n",
    "menu2 = prepare_menu({\"drink\": \"Red Wine\"})\n",
    "print_menu(menu2)\n",
    "print()\n",
    "\n",
    "_defaults[\"main\"] = \"Pasta\"\n",
    "print_menu(menu3)"
   ]
  },
  {
   "cell_type": "markdown",
   "metadata": {},
   "source": [
    "## Functools\n",
    "### Caching with functools.lru_cache\n",
    "#### 9.7 Using lru_cache to Speed Up Our Code\n",
    "In this exercise, you will see how to configure a function to use cache with functools and to reuse the results from previous calls to speed up the overall process.  You use the lru cache function of the functools module to reuse values that a function has already returned without having to execute them again.\n",
    "\n",
    "We will start with a function that is mentioned in the following code snippet, which simulates taking a long time to compute, and we will see how we can improve this:"
   ]
  },
  {
   "cell_type": "code",
   "execution_count": null,
   "metadata": {},
   "outputs": [],
   "source": [
    "import time\n",
    "def func(x):\n",
    "    time.sleep(1)\n",
    "    print(f\"Heavy operation for {x}\")\n",
    "    return x * 10\n",
    "\n",
    "# If we call this function twice with the same arguments, we will be executing the code twice to get the same result:\n",
    "print(\"Funct returned:\", func(1))\n",
    "print(\"Funct returned:\", func(1))"
   ]
  },
  {
   "cell_type": "code",
   "execution_count": null,
   "metadata": {},
   "outputs": [],
   "source": [
    "# Now, we will improve the performance in the steps that follow:\n",
    "# Add the lru cache decorator to the func function:\n",
    "# The first step is to use the decorator on our function:\n",
    "import functools\n",
    "import time\n",
    "\n",
    "@functools.lru_cache()\n",
    "\n",
    "def func(x):\n",
    "    time.sleep(1)\n",
    "    print(f\"Heavy operation for {x}\")\n",
    "    return x * 10\n",
    "    \n",
    "print(\"Func returned:\", func(1))\n",
    "print(\"Func returned:\", func(1))\n",
    "print(\"Func returned:\", func(2))"
   ]
  },
  {
   "cell_type": "code",
   "execution_count": null,
   "metadata": {},
   "outputs": [],
   "source": [
    "# Change the cache size using the maxsize argument.\n",
    "# The cache comes with a default size of 128 elements, but this can be changed if needed, through the maxsize argument:\n",
    "import functools\n",
    "import time\n",
    "@functools.lru_cache(maxsize=2)\n",
    "def func(x):\n",
    "    time.sleep(1)\n",
    "    print(f\"Heavy operation for {x}\")\n",
    "    return x * 10\n",
    "\n",
    "# By setting it to 2, we are sure that only two different inputs will be saved.\n",
    "print(\"Func returned:\", func(1))\n",
    "print(\"Func returned:\", func(2))\n",
    "print(\"Func returned:\", func(3))\n",
    "print(\"Func returned:\", func(3))\n",
    "print(\"Func returned:\", func(2))\n",
    "print(\"Func returned:\", func(1))"
   ]
  },
  {
   "cell_type": "markdown",
   "metadata": {},
   "source": [
    "Now, use it in other functions, such as lru_cache.\n",
    "Sometimes, the functions you want to cache are not in our control to change. If you want to keep both versions, that is, a cached and an uncached one, we can achieve this by using the lru_cache function just as a function and not as a decorator, as decorators are just functions that take another function as an argument:"
   ]
  },
  {
   "cell_type": "code",
   "execution_count": null,
   "metadata": {},
   "outputs": [],
   "source": [
    "import functools\n",
    "import time\n",
    "def func(x):\n",
    "    time.sleep(1)\n",
    "    print(f\"Heavy operation for {x}\")\n",
    "    return x * 10\n",
    "cached_func = functools.lru_cache()(func)\n",
    "\n",
    "print(\"Cached func returned:\", cached_func(1))\n",
    "print(\"Cached func returned:\", cached_func(1))\n",
    "print(\"Func returned:\", func(1))\n",
    "print(\"Func returned:\", func(1))"
   ]
  },
  {
   "cell_type": "markdown",
   "metadata": {},
   "source": [
    "### Partial\n",
    "Another often used function in functools is partial. partial allows us to adapt existing functions by providing values for some of their arguments. It is like binding arguments in other languages, such as C++ or JavaScript, but this is what you would expect from a Python function. partial can be used to remove the need for specifying positional or keyword arguments, which makes it useful when we need to pass a function that takes arguments as a function that does not take them. Have look at some examples:\n",
    "\n",
    "You will use a function that just takes three arguments and prints them:"
   ]
  },
  {
   "cell_type": "code",
   "execution_count": null,
   "metadata": {},
   "outputs": [],
   "source": [
    "def func(x, y, z):\n",
    "    print(\"x:\", x)\n",
    "    print(\"y:\", y)\n",
    "    print(\"z:\", z)\n",
    "print(func(1, 2, 3))\n",
    "print()\n",
    "\n",
    "import functools\n",
    "new_func = functools.partial(func, z='Wops')\n",
    "new_func(1, 2)"
   ]
  },
  {
   "cell_type": "markdown",
   "metadata": {},
   "source": [
    "### 9.8 Creating a print Function That Writes to stderr\n",
    "By using partial, you can also rebind the optional arguments to a different default, allowing us to change the default value that the function has. You will see how you can repurpose the print function to create a print_stderr function that just writes to stderr.\n",
    "\n",
    "In this exercise, you will create a function that acts like print, but the output is stderr rather than stdout:\n",
    "\n"
   ]
  },
  {
   "cell_type": "code",
   "execution_count": null,
   "metadata": {},
   "outputs": [],
   "source": [
    "# Explore the print argument.\n",
    "help(print)"
   ]
  },
  {
   "cell_type": "code",
   "execution_count": null,
   "metadata": {},
   "outputs": [],
   "source": [
    "# Print to stderr.\n",
    "import sys\n",
    "print(\"Hello stderr\", file=sys.stderr)\n",
    "print()\n",
    "\n",
    "# Use partial to change the default.\n",
    "import functools\n",
    "print_stderr = functools.partial(print, file=sys.stderr)\n",
    "print_stderr(\"Hello stderr\")"
   ]
  },
  {
   "cell_type": "markdown",
   "metadata": {},
   "source": [
    "### Activity 17 Using partial on class Methods"
   ]
  },
  {
   "cell_type": "code",
   "execution_count": null,
   "metadata": {},
   "outputs": [],
   "source": [
    "# import the functools modules:\n",
    "import functools\n",
    "\n",
    "# Create the Hero class, which uses partialmethod to set reset_name:\n",
    "class Hero:\n",
    "    DEFAULT_NAME = \"Superman\"\n",
    "    def __init__(self):\n",
    "        self.name = Hero.DEFAULT_NAME\n",
    "        \n",
    "    def rename(self, new_name):\n",
    "        self.name = new_name\n",
    "        \n",
    "    reset_name = functools.partial(rename, DEFAULT_NAME)\n",
    "    \n",
    "    def __repr__(self):\n",
    "        return f\"Hero({self.name!r})\""
   ]
  }
 ],
 "metadata": {
  "kernelspec": {
   "display_name": "Python 3",
   "language": "python",
   "name": "python3"
  },
  "language_info": {
   "codemirror_mode": {
    "name": "ipython",
    "version": 3
   },
   "file_extension": ".py",
   "mimetype": "text/x-python",
   "name": "python",
   "nbconvert_exporter": "python",
   "pygments_lexer": "ipython3",
   "version": "3.8.5"
  }
 },
 "nbformat": 4,
 "nbformat_minor": 4
}
