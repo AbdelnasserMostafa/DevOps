{
 "cells": [
  {
   "cell_type": "markdown",
   "metadata": {},
   "source": [
    "# 7. Becoming Pythonic"
   ]
  },
  {
   "cell_type": "markdown",
   "metadata": {},
   "source": [
    "## Using List Comprehensions"
   ]
  },
  {
   "cell_type": "markdown",
   "metadata": {},
   "source": [
    "List comprehensions are built out of bits of Python syntax we have already seen. They are surrounded by square brackets ([]), which signify Python symbols for a literal list. They contain for elements in a list, which is how Python iterates over members of a collection. Optionally, they can filter elements out of a list using the familiar syntax of the if expression.\n",
    "\n",
    "### 9.9 Introducing List Comprehensions\n",
    "In this exercise, you will be writing a program that creates a list of the cubes of whole numbers from 1 to 5. This example is trivial because we're focusing more on how you can build a list than on the specific operations that are done to each member of the list.\n",
    "\n",
    "Nonetheless, you may need to do this sort of thing in the real world. For instance, if you were to write a program to teach students about functions by graphing those functions. That application might require a list of x coordinates and generated a list of y coordinates so that it could plot a graph of the function. First, you will explore what this program looks like using the Python features you have already seen:"
   ]
  },
  {
   "cell_type": "code",
   "execution_count": null,
   "metadata": {},
   "outputs": [],
   "source": [
    "cubes = []\n",
    "for x in [1, 2, 3, 4, 5]:\n",
    "    cubes.append(x ** 3)\n",
    "print(cubes)"
   ]
  },
  {
   "cell_type": "markdown",
   "metadata": {},
   "source": [
    "Understanding this code involves keeping track of the state of the cube's variable, which starts as an empty list, and of the x variable, which is used as a cursor to keep track of the program's position in the list. This is all irrelevant to the task at hand, which is to list the cubes of each of these numbers. It will be better – more Pythonic, even – to remove all the irrelevant details. Luckily, list comprehensions allow us to do that."
   ]
  },
  {
   "cell_type": "code",
   "execution_count": null,
   "metadata": {},
   "outputs": [],
   "source": [
    "# Now write the following code, which replaces the previous loop with a list comprehension:\n",
    "cubes = [x ** 3 for x in [1, 2, 3, 4, 5]]\n",
    "print(cubes)"
   ]
  },
  {
   "cell_type": "markdown",
   "metadata": {},
   "source": [
    "This says, \"For each member in the [1,2,3,4,5] list, call it x, calculate the x**3 expression, and put that in the list cubes.\" The list used can be any list-like object; for example, a range."
   ]
  },
  {
   "cell_type": "code",
   "execution_count": null,
   "metadata": {},
   "outputs": [],
   "source": [
    "# Now you can make this example even simpler by writing the following:\n",
    "cubes = [x ** 3 for x in range(1, 6)]\n",
    "print(cubes)"
   ]
  },
  {
   "cell_type": "markdown",
   "metadata": {},
   "source": [
    "A list comprehension can also filter its inputs when building a list. To do this, you add an if expression to the end of the comprehension, where the expression can be any test of an input value that returns True or False. This is useful when you want to transform some of the values in a list while ignoring others. As an example, you could build a photo gallery of social media posts by making a list of thumbnail images from photos found in each post, but only when the posts are pictures, not text status updates."
   ]
  },
  {
   "cell_type": "code",
   "execution_count": null,
   "metadata": {},
   "outputs": [],
   "source": [
    "# You want to get Python to shout the names of the Monty Python cast, but only those whose name begins with \"T\". \n",
    "names = [\"Graham Chapman\", \"John Cleese\", \"Terry Gilliam\", \"Eric Idle\", \"Terry Jones\"]\n",
    "\n",
    "# Enter this list comprehension to filter only those that start with \"T\" and operate on them:\n",
    "print([name.upper() for name in names if name.startswith(\"T\")])"
   ]
  },
  {
   "cell_type": "markdown",
   "metadata": {},
   "source": [
    "### 10.0 Using Multiple Input Lists"
   ]
  },
  {
   "cell_type": "code",
   "execution_count": null,
   "metadata": {},
   "outputs": [],
   "source": [
    "# you will be multiplying the elements of two lists together.\n",
    "print([x * y for x in ['spam', 'eggs', 'chips'] for y in [1, 2, 3]])\n",
    "print()\n",
    "\n",
    "# Reverse the order of the lists:\n",
    "print([x * y for x in [1, 2, 3] for y in ['spam', 'eggs', 'chips']])\n",
    "print()\n",
    "\n",
    "# the same list could be iterated multiple times in a list comprehension — the lists for x and y do not have to be different:\n",
    "numbers = [1, 2, 3]\n",
    "print([x ** y for x in numbers for y in numbers])"
   ]
  },
  {
   "cell_type": "markdown",
   "metadata": {},
   "source": [
    "## Activity 18: Building a Chess Tournament\n",
    "In this activity, you will use a list comprehension to create the fixtures for a chess tournament. Fixtures are strings of the form \"player 1 versus player 2.\" Because there is a slight advantage to playing as white, you also want to generate the \"player 2 versus player 1\" fixture so that the tournament is fair. But you do not want people playing against themselves, so you should also filter out fixtures such as \"player 1 versus player 1.\""
   ]
  },
  {
   "cell_type": "code",
   "execution_count": null,
   "metadata": {},
   "outputs": [],
   "source": [
    "# Define the list of player names in Python:\n",
    "names = [\"Magnus Carlsen\", \"Fabiano Caruana\", \"Yfian Hou\", \"Wenjun Ju\"]\n",
    "\n",
    "# The list comprehension uses the list of names twice because each person can either be player 1 or player 2 in a match (that is, they can play with the white or the black pieces). \n",
    "# Because we don't want the same person to play both sides in a match, add an if clause that filters out the situation where the same name appears in both elements of the comprehension:\n",
    "fixtures = [f\"{p1} vs. {p2}\" for p1 in names for p2 in names if p1 != p2]\n",
    "print(fixtures)"
   ]
  },
  {
   "cell_type": "markdown",
   "metadata": {},
   "source": [
    "## Set and Dictionary Comprehensions"
   ]
  },
  {
   "cell_type": "markdown",
   "metadata": {},
   "source": [
    "### 10.1 Using Set Comprehensions\n",
    "The difference between a list and a set is that the elements in a list have an order, and those in a set do not. This means that a set cannot contain duplicate entries: an object is either in a set or not."
   ]
  },
  {
   "cell_type": "code",
   "execution_count": null,
   "metadata": {},
   "outputs": [],
   "source": [
    "print([a + b for a in [0, 1, 2, 3] for b in [4, 3, 2, 1]])\n",
    "print()\n",
    "\n",
    "# Now change the result into a set.\n",
    "# Change the outer square brackets in the comprehension to curly braces:\n",
    "print({a + b for a in [0, 1, 2, 3] for b in [4, 3, 2, 1]})  # Set comprehensions"
   ]
  },
  {
   "cell_type": "markdown",
   "metadata": {},
   "source": [
    "### 10.2 Using Dictionary Comprehensions\n",
    "Curly-brace comprehension can also be used to create a dictionary. The expression on the left-hand side of the for keyword in the comprehension should contain a comprehension. You write the expression that will generate the dictionary keys to the left of the colon and the expression that will generate the values to the right. Note that a key can only appear once in a dictionary.\n",
    "\n",
    "In this exercise, you will create a lookup dictionary of the lengths of the names in a list and print the length of each name:"
   ]
  },
  {
   "cell_type": "code",
   "execution_count": null,
   "metadata": {},
   "outputs": [],
   "source": [
    "names = [\"Eric\", \"Graham\", \"Terry\", \"John\", \"Terry\"]\n",
    "\n",
    "# Use a comprehension to create a lookup dictionary of the lengths of the names:\n",
    "print({k:len(k) for k in [\"Eric\", \"Graham\", \"Terry\", \"John\", \"Terry\"]})"
   ]
  },
  {
   "cell_type": "markdown",
   "metadata": {},
   "source": [
    "## Activity 19: Building a Scorecard Using Dictionary Comprehensions and Multiple Lists"
   ]
  },
  {
   "cell_type": "code",
   "execution_count": null,
   "metadata": {},
   "outputs": [],
   "source": [
    "# iterate through both collections at the same time, using an index. First, define the collections of names and their scores:\n",
    "students = [\"Vivian\", \"Rachel\", \"Tom\", \"Adrian\" ]\n",
    "points = [70, 82, 80, 79]\n",
    "\n",
    "# Each of these numbers can be used to index into the list of names and scores so that the correct name is associated with the correct points value:\n",
    "scores = { students[i]:points[i] for i in range(4) }\n",
    "print(scores)"
   ]
  },
  {
   "cell_type": "markdown",
   "metadata": {},
   "source": [
    "## Default Dictionary"
   ]
  },
  {
   "cell_type": "markdown",
   "metadata": {},
   "source": [
    "### 10.3 Adopting a Default Dict"
   ]
  },
  {
   "cell_type": "code",
   "execution_count": null,
   "metadata": {},
   "outputs": [],
   "source": [
    "# Create a dictionary for John:\n",
    "john = { 'first_name': 'john', 'surname': 'Cleese'}\n",
    "\n",
    "# Attempt to use a middle_name key that was not defined in the dictionay (will give you a KeyError)\n",
    "john['middle_name']"
   ]
  },
  {
   "cell_type": "code",
   "execution_count": null,
   "metadata": {},
   "outputs": [],
   "source": [
    "# import the defaultdict from collections and wrap the dictionary in a defaultdict\n",
    "from collections import defaultdict\n",
    "safe_john = defaultdict(str, john)\n",
    "# The first argument is the type constructor for a string, so missing keys will appear to have the empty string as their value.\n",
    "\n",
    "# Attemp to use a key that was not defined via the wrapped dictionary:\n",
    "print(safe_john['middle_name']) # you will get a blank output and no exception will be triggered "
   ]
  },
  {
   "cell_type": "markdown",
   "metadata": {},
   "source": [
    "No exception is triggered at this stage; instead, an empty string is returned. The first argument to the constructor of defaultdict, called default_factory, can be any callable (that is, function-like) object. You can use this to compute a value based on the key or return a default value that is relevant to your domain.\n",
    "\n",
    "Create a defaultdict that uses a lambda as its default_factory:"
   ]
  },
  {
   "cell_type": "code",
   "execution_count": null,
   "metadata": {},
   "outputs": [],
   "source": [
    "from collections import defaultdict\n",
    "courses = defaultdict(lambda: 'No!')\n",
    "courses['Java'] = 'This is Java'\n",
    "\n",
    "# This dictionary will return the value from the lambda on any unknown key.\n",
    "# Access the value at an unknown key in this new dictionary:\n",
    "print(courses['Python'])\n",
    "print()\n",
    "\n",
    "# Access the value at a known key in this new dictionary:\n",
    "print(courses['Java'])"
   ]
  },
  {
   "cell_type": "markdown",
   "metadata": {},
   "source": [
    "## Iterators"
   ]
  },
  {
   "cell_type": "markdown",
   "metadata": {},
   "source": [
    "### 10.4: The Simplest Iterator\n",
    "The easiest way to provide an iterator for your class is to use one from another object. If you are designing a class that controls access to its own collection, then it might be a good idea to let programmers iterate over your object using the collection's iterator. In this case, just have __iter__() return the appropriate iterator.\n",
    "\n",
    "In this exercise, you will be coding an Interrogator who asks awkward questions to people on a quest. It takes a list of questions in its constructor. You will write this program that prints these questions as follows:"
   ]
  },
  {
   "cell_type": "code",
   "execution_count": null,
   "metadata": {},
   "outputs": [],
   "source": [
    "# Enter the constructor:\n",
    "class Interrogator:\n",
    "    def __init__(self, questions):\n",
    "        self.questions = questions\n",
    "        \n",
    "    # Add the __iter__() method\n",
    "    def __iter__(self):\n",
    "        return self.questions.__iter__()\n",
    "    \n",
    "    \n",
    "# Create a list of questions:\n",
    "questions = [\"What is your name?\", \"What is your quest?\", \"What is the average airspeed velocity of an unladen swallow?\"]\n",
    "\n",
    "# Create an Interrogator:\n",
    "awkward_person = Interrogator(questions)\n",
    "\n",
    "# Now use the interrogator in a for loop:\n",
    "for question in awkward_person:\n",
    "    print(question)"
   ]
  },
  {
   "cell_type": "markdown",
   "metadata": {},
   "source": [
    "### 10.5 A Custom Iterator\n",
    "In this exercise, you'll implement a classical-era algorithm called the Sieve of Eratosthenes. To find prime numbers between 2 and an upper bound value, n, first, list all of the numbers in that range. Now, 2 is a prime, so return that. Then, remove 2 from the list, and all multiples of 2, and return the new lowest number (which will be 3). Continue until there are no more numbers left in the collection. Every number that gets returned using this method is a successively higher prime. It works because any number you find in the collection to return did not get removed at an earlier step, so has no lower prime factors other than itself.\n",
    "\n",
    "First, build the architecture of the class. Its constructor needs to take the upper bound value and generate the list of possible primes. The object can be its own iterator, so its __iter__() method will return itself:\n",
    "\n"
   ]
  },
  {
   "cell_type": "code",
   "execution_count": null,
   "metadata": {},
   "outputs": [],
   "source": [
    "# Define the PrimesBelow class and its initilizer:\n",
    "class PrimesBelow:\n",
    "    def __init__(self, bound):\n",
    "        self.candidate_numbers = list(range(2, bound))\n",
    "        \n",
    "    # Implement the __iter__() method to return itself:\n",
    "    def __iter__(self):\n",
    "        return self\n",
    "    \n",
    "    # In this exercise, you'll implement a classical-era algorithm called the Sieve of Eratosthenes. To find prime numbers between 2 and an upper bound value, n, first, \n",
    "    #list all of the numbers in that range. Now, 2 is a prime, so return that. Then, remove 2 from the list, and all multiples of 2, and return the new lowest number \n",
    "    # (which will be 3). Continue until there are no more numbers left in the collection. Every number that gets returned using this method is a successively higher prime. \n",
    "    # It works because any number you find in the collection to return did not get removed at an earlier step, so has no lower prime factors other than itself.\n",
    "\n",
    "    # First, build the architecture of the class. Its constructor needs to take the upper bound value and generate the list of possible primes. The object can be its own iterator, \n",
    "    # so its __iter__() method will return itself:\n",
    "    def __next__(self):\n",
    "        if len(self.candidate_numbers) == 0:\n",
    "            raise StopIteration\n",
    "            \n",
    "        # Complete the implementation of __next__() by selecting the lowest number in the collection as the value for next_prime and removing any multiples of that number before returning the new prime:\n",
    "        next_prime = self.candidate_numbers[0]\n",
    "        self.candidate_numbers = [x for x in self.candidate_numbers if x % next_prime != 0]\n",
    "        return next_prime\n",
    "        return next_prime\n",
    "    \n",
    "# Use an instance of this class to find all the prime numbers below 100:\n",
    "primes_to_a_hundered = [prime for prime in PrimesBelow(100)]\n",
    "print(primes_to_a_hundered)"
   ]
  },
  {
   "cell_type": "markdown",
   "metadata": {},
   "source": [
    "# 10.6 Controlling the Iteration\n",
    "You do not have to use an iterator in a loop or comprehension. You can use the iter() function to get its argument's iterator object, and then pass that to the next() function to return successive values from the iterator. These functions call through to the __iter__() and __next__() methods, respectively. You can use them to add custom behavior to an iteration or to gain more control over the iteration.\n",
    "\n",
    "In this exercise, you will print the prime numbers below 5. An error should be raised when the object runs out of prime numbers. To do this, you will use the PrimesBelow class created in the previous exercise:"
   ]
  },
  {
   "cell_type": "code",
   "execution_count": null,
   "metadata": {},
   "outputs": [],
   "source": [
    "primes_under_five = iter(PrimesBelow(5))\n",
    "\n",
    "# Repeatedly use next() with this object ot generate successive prim numbers:\n",
    "next(primes_under_five)"
   ]
  },
  {
   "cell_type": "code",
   "execution_count": null,
   "metadata": {},
   "outputs": [],
   "source": [
    "next(primes_under_five)"
   ]
  },
  {
   "cell_type": "code",
   "execution_count": null,
   "metadata": {},
   "outputs": [],
   "source": [
    "# When the object runs out of prime numbers, the subsequent use of next() raises the StopIteration error:\n",
    "next(primes_under_five)"
   ]
  },
  {
   "cell_type": "markdown",
   "metadata": {},
   "source": [
    "## itertools"
   ]
  },
  {
   "cell_type": "markdown",
   "metadata": {},
   "source": [
    "### 10.7 Using Infinite Sequences and takewhile\n",
    "In this exercise, you will be implementing a better algorithm that uses less space than the Sieve for generating prime numbers:"
   ]
  },
  {
   "cell_type": "code",
   "execution_count": null,
   "metadata": {},
   "outputs": [],
   "source": [
    "class Primes:\n",
    "    def __init__(self):\n",
    "        self.current = 2\n",
    "        \n",
    "    def __iter__(self):\n",
    "        return self\n",
    "    \n",
    "    def __next__(self):\n",
    "        while True:\n",
    "            current = self.current\n",
    "            square_root = int(current ** 0.5)\n",
    "            is_prime = True\n",
    "            \n",
    "# get a list of primes that are lower than 100:\n",
    "[p for p in Primes() if p < 100]\n",
    "\n",
    "# Note: Because the iterator never raises StopIteration, this program will never finish. You'll have to force it to exit."
   ]
  },
  {
   "cell_type": "markdown",
   "metadata": {},
   "source": [
    "To work with this iterator, itertools provides the takewhile() function, which wraps the iterator in another iterator. You also supply takewhile() with a Boolean function, and its iteration will take values from the supplied iterator until the function returns False, at which time it raises StopIteration and stops. This makes it possible to find the prime numbers below 100 from the infinite sequence entered previously."
   ]
  },
  {
   "cell_type": "code",
   "execution_count": null,
   "metadata": {},
   "outputs": [],
   "source": [
    "# Use takewhile() to turn the infinite sequence into a finite one:\n",
    "import itertools\n",
    "print([p for p in itertools.takewhile(lambda x: x<100, Primes())])"
   ]
  },
  {
   "cell_type": "markdown",
   "metadata": {},
   "source": [
    "### 10.8 Turning a Finite Sequence into an Infinite One, and Back Again"
   ]
  },
  {
   "cell_type": "code",
   "execution_count": null,
   "metadata": {},
   "outputs": [],
   "source": [
    "import itertools\n",
    "players = ['White', 'Black']\n",
    "\n",
    "# Use the itertools function cycle to generate an infinite sequence of turns\n",
    "turns = itertools.cycle(players)\n",
    "\n",
    "# List the players who take the first 10 turns in a chess game:\n",
    "countdown = itertools.count(10, -1)\n",
    "print([turn for turn in itertools.takewhile(lambda x:next(countdown)>0, turns)])"
   ]
  },
  {
   "cell_type": "markdown",
   "metadata": {},
   "source": [
    "## Generators"
   ]
  },
  {
   "cell_type": "markdown",
   "metadata": {},
   "source": [
    "### 10.9 Generating a Sieve"
   ]
  },
  {
   "cell_type": "code",
   "execution_count": null,
   "metadata": {},
   "outputs": [],
   "source": [
    "# Rewrite the Sieve of Eratosthenes as a generator function that yields its values:\n",
    "def primes_below(bound):\n",
    "    candidates = list(range(2, bound))\n",
    "    while(len(candidates) > 0):\n",
    "        yield candidates[0]\n",
    "        candidates = [c for c in candidates if c % candidates[0] != 0]\n",
    "        \n",
    "# Confirm that the result is the same as the iterator version:\n",
    "print([prime for prime in primes_below(100)])"
   ]
  },
  {
   "cell_type": "markdown",
   "metadata": {},
   "source": [
    "## Activity 20: Using Random Numbers to Find the Value of Pi"
   ]
  },
  {
   "cell_type": "code",
   "execution_count": null,
   "metadata": {},
   "outputs": [],
   "source": [
    "# Import the math and random libraries:\n",
    "import math\n",
    "import random\n",
    "\n",
    "# Define the approximate_pi function:\n",
    "def approximate_pi():\n",
    "    # Set the counters to zero:\n",
    "    total_points = 0\n",
    "    within_circle = 0\n",
    "    # Calculate the approximation multiple times:\n",
    "    for i in range(10001):\n",
    "        \n",
    "        # Here, x and y are random numbers between 0 and 1, which, together, represent a point in the unit square\n",
    "        x = random.random()\n",
    "        y = random.random()\n",
    "        total_points += 1\n",
    "        \n",
    "        # Use Pythagoras' Theorem to work out the distance between the point and the origin, (0,0):\n",
    "        distance = math.sqrt(x ** 2 + y ** 2)\n",
    "        if distance < 1:\n",
    "            \n",
    "            # If the distance is less than 1, then this point is both inside the square and inside a circle of radius 1, centered on the origin.\n",
    "            within_circle += 1\n",
    "            \n",
    "            # Yield a result every 1,000 points. There's no reason why this couldn't yield a result after each point, \n",
    "            # but the early estimates will be very imprecise, so let's assume that users want to draw a large sample of random values:\n",
    "            if total_points % 1000 == 0:\n",
    "                \n",
    "                # The ratio of points within the circle to total points generated should be approximately π/4 because the points are uniformly distributed across the square. \n",
    "                # Only some of the points are both in the square and the circle, and the ratio of areas between the circle segment and the square is π/4:\n",
    "                pi_estimate = 4 * within_circle / total_points\n",
    "                if total_points == 10000:\n",
    "                    \n",
    "                    # After 10000 points are generated, return the estimate to complete the iteration.\n",
    "                    return pi_estimate\n",
    "                else:\n",
    "                    # Yield successive approximations to π:\n",
    "                    yield pi_estimate\n",
    "                    \n",
    "estimates = [estimate for estimate in approximate_pi()]\n",
    "errors = [estimate - math.pi for estimate in estimates]\n",
    "\n",
    "# print out our values and the erros to see how the generator performs:\n",
    "print(estimates)\n",
    "print()\n",
    "print(errors)\n",
    "\n",
    "        \n",
    "    "
   ]
  },
  {
   "cell_type": "markdown",
   "metadata": {},
   "source": [
    "## Regular Expressions"
   ]
  },
  {
   "cell_type": "markdown",
   "metadata": {},
   "source": [
    "Most characters match their own identities, so \"h\" in a regex means \"match exactly the letter h.\"\n",
    "\n",
    "Enclosing characters in square brackets can mean choosing between alternates, so if we thought a web link might be capitalized, we could start with \"[Hh]\" to mean \"match either H or h.\" In the body of the URL, we want to match against any non-whitespace characters, and rather than write them all out. We use the \\S character class. Other character classes include \\w (word characters), \\W (non-word characters), and \\d (digits).\n",
    "\n",
    "Two quantifiers are used: ? means \"0 or 1 time,\" so \"s?\" means \"match if the text does not have s at this point or has it exactly once.\" The quantifier, +, means \"1 or more times,\" so \"\\S+\" says \"one or more non-whitespace characters.\" There is also a quantifier *, meaning \"0 or more times.\"\n",
    "Additional regex features that you will use in this chapter are listed here:\n",
    "\n",
    "Parentheses () introduce a numbered sub-expression, sometimes called a \"capture group.\" They are numbered from 1, in the order that they appear in the expression.\n",
    "\n",
    "A backslash followed by a number refers to a numbered sub-expression, described previously. As an example, \\1 refers to the first sub-expression. These can be used when replacing text that matches the regex or to store part of a regex to use later in the same expression. Because of the way that backslashes are interpreted by Python strings, this is written as \\\\1 in a Python regex."
   ]
  },
  {
   "cell_type": "markdown",
   "metadata": {},
   "source": [
    "### 11.0 Matching Text with Regular Expressions\n",
    "In this exercise, you'll use the Python re module to find instances of repeated letters in a string.\n",
    "\n",
    "The regex you will use is (\\w)\\\\1+\".\"(\\w) searches for a single character from a word (that is, any letter or the underscore character, _) and stores that in a numbered sub-expression, \\1. Then, \\\\1+ uses a quantifier to find one or more occurrences of the same character. The steps for using this regex are as follows:"
   ]
  },
  {
   "cell_type": "code",
   "execution_count": null,
   "metadata": {},
   "outputs": [],
   "source": [
    "# Import re module:\n",
    "import re\n",
    "\n",
    "# Define the string that you will search for, and the pattern by which to search:\n",
    "title = \"And now for something completely different\"\n",
    "pattern = \"(\\w)\\\\1+\"\n",
    "\n",
    "# Search for the pattern and print the result:\n",
    "print(re.search(pattern, title))"
   ]
  },
  {
   "cell_type": "markdown",
   "metadata": {},
   "source": [
    "The re.search() function finds matches anywhere in the string: if it doesn't find any matches, it will return None. If you were only interested in whether the beginning of the string matched the pattern, you could use re.match(). Similarly, modifying the search pattern to start with the beginning-of-line marker (^) achieves the same aim as re.search(\"^(\\w)\\\\1+\", title).\n",
    "\n",
    "### 11.1 Using Regular Expressions to Replace Text\n",
    "In this exercise, you'll use a regular expression to replace occurrences of a pattern in a string with a different pattern. The steps are as follows:"
   ]
  },
  {
   "cell_type": "code",
   "execution_count": null,
   "metadata": {},
   "outputs": [],
   "source": [
    "# Define the text to search:\n",
    "import re\n",
    "description = \"The Norwegian Blue is a wonderful parrot.  This parrot is notable for its exquisite plumage.\"\n",
    "\n",
    "# Define the pattern to search for, and its replacement:\n",
    "pattern = \"(parrot)\"\n",
    "replacement = \"ex-\\\\1\"\n",
    "\n",
    "# Substitute the replacement for the search pattern, using the re.sub() function:\n",
    "print(re.sub(pattern, replacement, description))"
   ]
  },
  {
   "cell_type": "markdown",
   "metadata": {},
   "source": [
    "## Activity 21: Regular Expressions"
   ]
  },
  {
   "cell_type": "code",
   "execution_count": null,
   "metadata": {},
   "outputs": [],
   "source": [
    "# Create the list of names:\n",
    "names = [\"Xander Harris\", \"Jennifer Smith\", \"Timothy Jones\", \"Amy Alexandrescu\", \"Peter Price\", \"Weifung Xu\"]\n",
    "\n",
    "# Using the list comprehension syntax to thin the winners as easy as a single line of Python:\n",
    "winners = [name for name in names if re.search(\"[Xx]\", name)]\n",
    "print(winners)"
   ]
  },
  {
   "cell_type": "markdown",
   "metadata": {},
   "source": [
    "# 8. Software Development"
   ]
  },
  {
   "cell_type": "markdown",
   "metadata": {},
   "source": [
    "## Debugging"
   ]
  },
  {
   "cell_type": "markdown",
   "metadata": {},
   "source": [
    "### 11.2 Debugging a Salary Calculator"
   ]
  },
  {
   "cell_type": "code",
   "execution_count": null,
   "metadata": {},
   "outputs": [],
   "source": [
    "# salary_calculator.py\n",
    "# Debug this program using pdb utility\n",
    "\n",
    "def _manager_adjust(salary, rise):\n",
    "    if rise < 0.10:\n",
    "        # We need to keep managers happy.\n",
    "        return 0.10\n",
    "    \n",
    "    if salary >= 1_000_000:\n",
    "        # They are making enough already.\n",
    "        return rise - 0.10\n",
    "    \n",
    "def calculate_new_salary(salary, promised_pct, is_manager, is_good_year):\n",
    "    rise = promised_pct\n",
    "    # remove 10% if it was a bad year\n",
    "    if not is_good_year:"
   ]
  },
  {
   "cell_type": "code",
   "execution_count": null,
   "metadata": {},
   "outputs": [],
   "source": [
    "# trying to reproduce the issue is easy—you need to run the function with the known arguments:\n",
    "rose_salary = calculate_new_salary(1_000_000, 0.30, True, True)\n",
    "print(\"Rose's salary will be:\", rose_salary)"
   ]
  },
  {
   "cell_type": "markdown",
   "metadata": {},
   "source": [
    "### Activity 22: Debugging Sample Python Code for an Application"
   ]
  },
  {
   "cell_type": "code",
   "execution_count": null,
   "metadata": {},
   "outputs": [],
   "source": [
    "# Source code\n",
    "DEFAULT_INITIAL_BASKET = [\"orange\", \"apple\"]\n",
    "def create_picnic_basket(healthy, hungry, initial_basket=DEFAULT_INITIAL_BASKET):\n",
    "    basket = initial_basket\n",
    "    if healthy:\n",
    "        basket.append(\"strawberry\")\n",
    "    else:\n",
    "        basket.append(\"jam\")\n",
    "    if hungry:\n",
    "        basket.append(\"sandwich\")\n",
    "    return basket\n",
    "\n",
    "# Reproducer\n",
    "print(\"First basket:\", create_picnic_basket(True, False))\n",
    "print(\"Second basket:\", create_picnic_basket(False, True, [\"tea\"]))\n",
    "print(\"Third basket:\", create_picnic_basket(True, True))\n",
    "\n",
    "# Observe the output, the issue will show up in the third basket, where there is one extra strawberry"
   ]
  },
  {
   "cell_type": "code",
   "execution_count": null,
   "metadata": {},
   "outputs": [],
   "source": [
    "# You will need to fix this by setting the basket value to None\n",
    "# and using the if-else logic, as demonstrated in the following code:\n",
    "def create_picnic_basket(healthy, hungry, basket=None):\n",
    "    if basket is None:\n",
    "        basket = [\"orange\", \"apple\"]\n",
    "    if healthy:\n",
    "        basket.append(\"strawberry\")\n",
    "    else:\n",
    "        basket.append(\"jam\")\n",
    "    if hungry:\n",
    "        basket.append(\"sandwitch\")\n",
    "    return basket\n",
    "\n",
    "# Reproducer\n",
    "print(\"First basket:\", create_picnic_basket(True, False))\n",
    "print(\"Second basket:\", create_picnic_basket(False, True, [\"tea\"]))\n",
    "print(\"Third basket:\", create_picnic_basket(True, True))\n"
   ]
  },
  {
   "cell_type": "markdown",
   "metadata": {},
   "source": [
    "## Automated Testing\n",
    "To validate large systems, it is common to create different types of tests. They are usually known as the following:\n",
    "\n",
    "Unit tests: These are tests that just validate a small part of your code. Usually, they just validate a function with specific inputs within one of your files and only depend on code that has already been validated with other unit tests.\n",
    "\n",
    "Integration tests: These are more coarse-grained tests that will either validate interactions between different components of your codebase (known as integration tests without environment) or the interactions between your code and other systems and the environment (known as integration tests with the environment).\n",
    "\n",
    "Functional or end-to-end tests: These are usually really high-level tests that depend on the environment and often on external systems that validate the solution with inputs as the user provides them.\n",
    "\n",
    "Say that you were to test the workings of Twitter, using the tests you are familiar with:\n",
    "\n",
    "A unit test would verify one of the functions, which will check whether a tweet body is shorter than a specific length.\n",
    "\n",
    "An integration test would validate that, when a tweet is injected into the system, the trigger to other users is called.\n",
    "\n",
    "An end-to-end test is one that ensures that, when a user writes a tweet and clicks Send, they can then see it on their home page."
   ]
  },
  {
   "cell_type": "markdown",
   "metadata": {},
   "source": [
    "### 11.3 Checking Sample Code with Unit Testing\n",
    "In this exercise, you will write and run tests for a function that checks whether a number is divisible by another. This will help you to validate the implementation and potentially find any existing bugs:"
   ]
  },
  {
   "cell_type": "code",
   "execution_count": null,
   "metadata": {},
   "outputs": [],
   "source": [
    "# Create a function, is_divisible, which checks whether a number is divisible by another. Save this function in a file named sample_code.\n",
    "def is_divisible(x, y):\n",
    "    if x % y == 0:\n",
    "        return True\n",
    "    else:\n",
    "        return False"
   ]
  },
  {
   "cell_type": "code",
   "execution_count": null,
   "metadata": {},
   "outputs": [],
   "source": [
    "# Create a test file that will include the test cases for our function. Then, add the skeleton for a test case:\n",
    "import unittest\n",
    "from sample_code import is_divisible\n",
    "class TestIsDivisible(unittest.TestCase):\n",
    "    def test_divisible_numbers(self):\n",
    "        pass\n",
    "if __name__ == '__main__':\n",
    "    unittest.main()"
   ]
  },
  {
   "cell_type": "markdown",
   "metadata": {},
   "source": [
    "This code imports the function to test, is_divisible, and the unittest module. It then creates the common boilerplate to start writing tests: a class that inherits from unittest.TestCase and two final lines that allow us to run the code and execute the tests."
   ]
  },
  {
   "cell_type": "code",
   "execution_count": null,
   "metadata": {},
   "outputs": [],
   "source": [
    "# Now, write the test code:\n",
    "def test_divisible_numbers(self):\n",
    "    self.assertTrue(is_divisible(10, 2))\n",
    "    self.assertTrue(is_divisible(10, 10))\n",
    "    self.assertTrue(is_divisible(1000, 1))\n",
    "def test_not_divisible_numbers(self):\n",
    "    self.assertFalse(is_divisible(5, 3))\n",
    "    self.assertFalse(is_divisible(5, 6))\n",
    "    self.assertFalse(is_divisible(10, 3))\n",
    "    "
   ]
  },
  {
   "cell_type": "code",
   "execution_count": null,
   "metadata": {},
   "outputs": [],
   "source": [
    "!python Chapter08/Exercise113/test_unittest.py -v"
   ]
  },
  {
   "cell_type": "code",
   "execution_count": null,
   "metadata": {},
   "outputs": [],
   "source": [
    "# Now, add more complex tests:\n",
    "def test_divisible_by_0(self):\n",
    "    with self.assertRaises(ZeroDivisionErro):\n",
    "        is_divisible(1, 0)"
   ]
  },
  {
   "cell_type": "code",
   "execution_count": null,
   "metadata": {},
   "outputs": [],
   "source": [
    "!python Chapter08/Exercise113/test_unittest.py -v"
   ]
  },
  {
   "cell_type": "markdown",
   "metadata": {},
   "source": [
    "## Creating a PIP Package"
   ]
  },
  {
   "cell_type": "markdown",
   "metadata": {},
   "source": [
    "The Python Packaging Index (PyPI), is an official package repository maintained by the Python Software Foundation that contains Python packages. Anyone can publish packages to it, and many Python tools usually default to consume packages from it. The most common way to consume from PyPI is through pip, which is the Python Packaging Authority (PyPA). This is the recommended tool for consuming Python packages.\n",
    "\n",
    "The most common tool to package our source code is setuptools. With setuptools, you can create a setup.py file that contains all the information about how to create and install the package. Setuptools comes with a method named setup, which should be called with all the metadata that we want to create a package with.\n",
    "\n",
    "Here's some example boilerplate code that could be copied and pasted when creating a package:"
   ]
  },
  {
   "cell_type": "code",
   "execution_count": null,
   "metadata": {},
   "outputs": [],
   "source": [
    "# setup.py\n",
    "\n",
    "import setuptools\n",
    "setuptools.setup(\n",
    "    name = \"packt-sample-package\",\n",
    "    version = \"1.0.0\",\n",
    "    author = \"Author Name\",\n",
    "    author_email = \"auther@email.com\",\n",
    "    description = \"packt example package\",\n",
    "    long_description = \" THis is the longer description and will appear in the web\",\n",
    "    py_modules = [\"packt\"],\n",
    "    classifiers = [\n",
    "        \"Programming Language :: Python :: 3\",\n",
    "        \"Operating System :: OS Independent\",\n",
    "    ],\n",
    ")"
   ]
  },
  {
   "cell_type": "markdown",
   "metadata": {},
   "source": [
    "Take special note of the following parameters:\n",
    "\n",
    "Name: The name of the package in PyPA. It is a good practice to have it match your library or file import name.\n",
    "\n",
    "Version: A string that identifies the version of the package.\n",
    "\n",
    "Py_modules: A list of Python files to package. You can also use the package keyword to target full Python packages— you will explore how to do this in the next exercise."
   ]
  },
  {
   "cell_type": "code",
   "execution_count": null,
   "metadata": {},
   "outputs": [],
   "source": [
    "!python setup.py sdist"
   ]
  },
  {
   "cell_type": "code",
   "execution_count": null,
   "metadata": {},
   "outputs": [],
   "source": [
    "!ls -la"
   ]
  },
  {
   "cell_type": "code",
   "execution_count": null,
   "metadata": {},
   "outputs": [],
   "source": [
    "!ls -la dist"
   ]
  },
  {
   "cell_type": "code",
   "execution_count": null,
   "metadata": {},
   "outputs": [],
   "source": [
    "!ls -la packt_sample_package.egg-info/"
   ]
  },
  {
   "cell_type": "code",
   "execution_count": null,
   "metadata": {},
   "outputs": [],
   "source": [
    "# This will generate a file in the dist folder, which is ready to be distributed to PyPI.\n",
    "# If you have the wheel package installed, you can also run the following to create a wheel:\n",
    "\n",
    "!python setup.py bdist_wheel"
   ]
  },
  {
   "cell_type": "code",
   "execution_count": null,
   "metadata": {},
   "outputs": [],
   "source": [
    "!ls -la"
   ]
  },
  {
   "cell_type": "code",
   "execution_count": null,
   "metadata": {},
   "outputs": [],
   "source": [
    "!ls -la build/"
   ]
  },
  {
   "cell_type": "code",
   "execution_count": null,
   "metadata": {},
   "outputs": [],
   "source": [
    "!ls -la build/bdist.macosx-10.9-x86_64/"
   ]
  },
  {
   "cell_type": "markdown",
   "metadata": {},
   "source": [
    "Once you have this file generated, you can install Twine, which is the tool recommended by the PyPA for uploading packages to PyPI. With twine installed, you just need to run the following:"
   ]
  },
  {
   "cell_type": "code",
   "execution_count": null,
   "metadata": {},
   "outputs": [],
   "source": [
    "twine upload dist/*"
   ]
  },
  {
   "cell_type": "markdown",
   "metadata": {},
   "source": [
    "### 11.4 Creating a Distribution That Includes Multiple Files within a Package\n",
    "In this exercise, you are going to create our own package that can contain multiple files and upload them to the test version of PyPI:"
   ]
  },
  {
   "cell_type": "code",
   "execution_count": null,
   "metadata": {},
   "outputs": [],
   "source": [
    "# Create a virtual environment and install twine and setuptools.\n",
    "# Start by creating a virtual environment with all the dependencies that you need.\n",
    "# Make sure you are in an empty folder to start:"
   ]
  },
  {
   "cell_type": "code",
   "execution_count": null,
   "metadata": {},
   "outputs": [],
   "source": [
    "pwd"
   ]
  },
  {
   "cell_type": "code",
   "execution_count": null,
   "metadata": {},
   "outputs": [],
   "source": [
    "!mkdir env\n",
    "!cd env\n",
    "!pwd"
   ]
  },
  {
   "cell_type": "code",
   "execution_count": null,
   "metadata": {},
   "outputs": [],
   "source": [
    "cd env"
   ]
  },
  {
   "cell_type": "code",
   "execution_count": null,
   "metadata": {},
   "outputs": [],
   "source": [
    "!cp /Users/nasserabdelghani/Desktop/DevNet/DevOps/Python_Workshop/The-Python-Workshop-master/setup.py ."
   ]
  },
  {
   "cell_type": "code",
   "execution_count": null,
   "metadata": {},
   "outputs": [],
   "source": [
    "!python -m venv venv"
   ]
  },
  {
   "cell_type": "code",
   "execution_count": null,
   "metadata": {},
   "outputs": [],
   "source": [
    "!sudo venv/bin/activate"
   ]
  },
  {
   "cell_type": "markdown",
   "metadata": {},
   "source": [
    "pwd"
   ]
  },
  {
   "cell_type": "code",
   "execution_count": null,
   "metadata": {},
   "outputs": [],
   "source": [
    "!python3 -m pip install twine setuptools"
   ]
  },
  {
   "cell_type": "code",
   "execution_count": null,
   "metadata": {},
   "outputs": [],
   "source": [
    "# You now have all the dependencies we need to create and distribute our package\n",
    "# create the actual package named nasser_m_package.\n",
    "# Ples change the name to your name\n",
    "!mkdir john_doe_package\n",
    "!touch john_doe_package/__init__.py\n",
    "!echo \"print('Package imported') > john_doe_package/code.py\""
   ]
  },
  {
   "cell_type": "markdown",
   "metadata": {},
   "source": [
    "The second line will create a Python file, which you will package within the Python package.\n",
    "\n",
    "This is a basic Python package that just contains an init file and another file named code—we can add as many files as desired. The '__init__' file marks the folder as a Python package.\n",
    "\n",
    "Add the setup.py file.\n",
    "You need to add a setup.py file at the top of our source tree to indicate how our code should be packaged. Add a setup.py file like the following:"
   ]
  },
  {
   "cell_type": "code",
   "execution_count": null,
   "metadata": {},
   "outputs": [],
   "source": [
    "# setup.py\n",
    "\n",
    "import setuptools\n",
    "setuptools.setup(\n",
    "    name = \"nasser-m-package\",\n",
    "    version = \"1.0.0\",\n",
    "    author = \"Nasser M Abdelghani\",\n",
    "    author_email = \"nasser02@email.com\",\n",
    "    description = \"packt example package\",\n",
    "    long_description = \" THis is the longer description and will appear in the web\",\n",
    "    py_modules = [\"packt\"],\n",
    "    classifiers = [\n",
    "        \"Programming Language :: Python :: 3\",\n",
    "        \"Operating System :: OS Independent\",\n",
    "    ],\n",
    ")"
   ]
  },
  {
   "cell_type": "code",
   "execution_count": null,
   "metadata": {},
   "outputs": [],
   "source": [
    "# Create the distribution by calling the setup.py file:\n",
    "!python setup.py sdist"
   ]
  },
  {
   "cell_type": "code",
   "execution_count": null,
   "metadata": {},
   "outputs": [],
   "source": [
    "# This will create a source distribution. You can test it out by installing it locally:\n",
    "\n",
    "!cd dist && python -m pip install *"
   ]
  },
  {
   "cell_type": "code",
   "execution_count": null,
   "metadata": {},
   "outputs": [],
   "source": [
    "# First you need to create an account to the following address before you upload your package:\n",
    "# https://test.pypi.org/account/register/\n",
    "# Upload to the PyPi test:\n",
    "\n",
    "!twine upload --repository-url=https://test.pypi.org/legacy/ dist/*"
   ]
  },
  {
   "cell_type": "markdown",
   "metadata": {},
   "source": [
    "## Creating Documentation the Easy Way\n",
    "### Docstrings"
   ]
  },
  {
   "cell_type": "code",
   "execution_count": null,
   "metadata": {},
   "outputs": [],
   "source": [
    "print(print.__doc__)"
   ]
  },
  {
   "cell_type": "code",
   "execution_count": null,
   "metadata": {},
   "outputs": [],
   "source": [
    "# It is the same content as calling help(print). You can create your own function with a __doc__ attribute, as follows:\n",
    "def example():\n",
    "    \"\"\"Prints the example text\"\"\"\n",
    "    print(\"Example\")\n",
    "    \n",
    "print(example.__doc__)\n",
    "print()\n",
    "\n",
    "# You can now use help in your function, by executing the \"help(example)\" which will result in the following text:\n",
    "print(help(example))"
   ]
  },
  {
   "cell_type": "markdown",
   "metadata": {},
   "source": [
    "### Using Sphinx\n",
    "Using docstrings to document APIs is useful, but quite often you need something more. You want to generate a website with guides and other information about your library. In Python, the most common way to do this is via Sphinx. Sphinx allows you to generate documentation in multiple formats, such as PDF, epub, or html, easily from RST with some markup. Sphinx also comes with multiple plugins, and some of them are useful for Python, such as generating API documentation from docstrings or allowing you to view code behind the API implementation.\n",
    "\n",
    "Once installed via pip, it comes with two main CLI scripts, which the user interacts with: sphinx-build and sphinx-quickstart. The first is used to build the documentation on an existing project with Sphinx configuration, while the second can be used to quickly bootstrap a project.\n",
    "\n",
    "When you bootstrap a project, Sphinx will generate multiple files for you, and the most important ones are as follows:\n",
    "\n",
    "Conf.py: This contains all the user configuration for generating the documentation. This is the most common place to look for configuration parameters when you want to customize something from the Sphinx output.\n",
    "\n",
    "Makefile: An easy-to-use makefile that can be used to generate the documentation with a simple \"make html.\" There are other targets that can be useful, such as the one to run doctests.\n",
    "\n",
    "Index.rst: The main entry point for our documentation."
   ]
  },
  {
   "cell_type": "code",
   "execution_count": null,
   "metadata": {},
   "outputs": [],
   "source": [
    "!pip install sphinx"
   ]
  },
  {
   "cell_type": "markdown",
   "metadata": {},
   "source": [
    "### 11.5 Documenting a Divisible Code File\n",
    "In this exercise, you are going to document the module that you created in the testing topic, divisible.py, from Exercise 113, Checking Sample Code with Unit Testing using sphinx:"
   ]
  },
  {
   "cell_type": "code",
   "execution_count": null,
   "metadata": {},
   "outputs": [],
   "source": [
    "# Create a folder structure.\n",
    "# First, create an empty folder with just the divisible.py module and another empty folder named docs. The divisible.py module should contain the following code:\n",
    "def is_divisible(x, y):\n",
    "    if x % y == 0:\n",
    "        return True\n",
    "    else:\n",
    "        return False\n",
    "# run sphinx-quickstart from the command line"
   ]
  },
  {
   "cell_type": "markdown",
   "metadata": {},
   "source": [
    "Once you have executed sphinx-quichstart:  Build the documentation for the first time.\n",
    "Building the documentation is easy—just run make html within the docs directory to generate the HTML output of your documentation. You can now open the index.html file in your browser within the docs/build/html folder."
   ]
  },
  {
   "cell_type": "markdown",
   "metadata": {},
   "source": [
    "# 9. Practical Python - Advanced Topics"
   ]
  },
  {
   "cell_type": "code",
   "execution_count": null,
   "metadata": {},
   "outputs": [],
   "source": [
    "!pip freeze > /Users/nasserabdelghani/Desktop/requirements.txt"
   ]
  },
  {
   "cell_type": "markdown",
   "metadata": {},
   "source": [
    "## Multiprocessing\n",
    "### 12.1 Working with execnet to Execute a Simple Python Squaring Program\n",
    "In this exercise, you'll create a squaring process that receives x over an execnet channel and responds with x**2. This is much too small a task to warrant multiprocessing, but it does demonstrate how to use the library."
   ]
  },
  {
   "cell_type": "code",
   "execution_count": null,
   "metadata": {},
   "outputs": [],
   "source": [
    "# install execnet using pip package manager:\n",
    "!pip install execnet"
   ]
  },
  {
   "cell_type": "code",
   "execution_count": null,
   "metadata": {},
   "outputs": [],
   "source": [
    "# Now write the square function, which receives numbers on a channel and returns their square:\n",
    "import execnet\n",
    "def square(channel):\n",
    "    while not channel.isclosed():\n",
    "        number = channel.receive()\n",
    "        number_squared = number ** 2\n",
    "        channel.send(number_squared)\n",
    "        \n",
    "# Now setup a gateway channel to a remot Python interpreter running that function\n",
    "gateway = execnet.makegateway()\n",
    "channel = gateway.remote_exec(square)\n",
    "        \n",
    "# Now send some integers from our parent process to the child process:\n",
    "for i in range(10):\n",
    "    channel.send(i)\n",
    "    i_squared = channel.receive()\n",
    "    print(f\"{i} squared is {i_squared}\")"
   ]
  },
  {
   "cell_type": "markdown",
   "metadata": {},
   "source": [
    "Here, you loop through 10 integers, send them through the square channel, and then receive the result using the channel.receive() function.\n",
    "\n",
    "When you are done with the remote Python interpreter, close the gateway channel to cause it to quit:"
   ]
  },
  {
   "cell_type": "code",
   "execution_count": null,
   "metadata": {},
   "outputs": [],
   "source": [
    "gateway.exit()"
   ]
  },
  {
   "cell_type": "markdown",
   "metadata": {},
   "source": [
    "### Multiprocessing with the Multiprocessing Package\n",
    "The multiprocessing module is built into Python's standard library. Similar to execnet, it allows you to launch new Python processes. However, it provides an API that is lower-level than execnet. This means that it's harder to use than execnet, but affords more flexibility. An execnet channel can be simulated by using a pair of multiprocessing queues.\n",
    "\n",
    "### Exercise 12.2 Using the Multiprocessing Package to Execute a Simple Python Program\n",
    "In this exercise, you will use the multiprocessing module to complete the same task as above"
   ]
  },
  {
   "cell_type": "code",
   "execution_count": null,
   "metadata": {},
   "outputs": [],
   "source": [
    "# Create a new text file called multi_processing.py\n",
    "%cd Chapter09/Exercise122/"
   ]
  },
  {
   "cell_type": "code",
   "execution_count": null,
   "metadata": {},
   "outputs": [],
   "source": [
    "# The content of multi_processing.py\n",
    "import multiprocessing\n",
    "\n",
    "def square_mp(in_queue, out_queue):\n",
    "    while(True):\n",
    "        n = in_queue.get()\n",
    "        n_squared = n**2\n",
    "        out_queue.put(n_squared)\n",
    "\n",
    "if __name__ == '__main__':\n",
    "    in_queue = multiprocessing.Queue()\n",
    "    out_queue = multiprocessing.Queue()\n",
    "    process = multiprocessing.Process(target=square_mp, args=(in_queue, out_queue))\n",
    "    process.start()\n",
    "    for i in range(10):\n",
    "        in_queue.put(i)\n",
    "        i_squared = out_queue.get()\n",
    "        print(f\"{i} squared is {i_squared}\")\n",
    "    process.terminate()"
   ]
  },
  {
   "cell_type": "markdown",
   "metadata": {},
   "source": [
    "Recall that the if name == '__main__' line simply avoids executing this section of code if the module is being imported elsewhere in your project. In comparison, in_queue and out_queue are both queue objects through which data can be sent between the parent and child processes. Within the following loop, you can see that you add integers to in_queue and get the results from out_queue. If you look at the preceding square_mp function, you can see how the child process will get its values from the in_queue object, and pass the result back into the out_queue object."
   ]
  },
  {
   "cell_type": "code",
   "execution_count": null,
   "metadata": {},
   "outputs": [],
   "source": [
    "# Now execute your program from the command line\n",
    "!python multi_processing.py"
   ]
  },
  {
   "cell_type": "markdown",
   "metadata": {},
   "source": [
    "### Multiprocessing with the Threading Package\n",
    "Whereas multiprocessing and execnet create a new Python process to run your asynchronous code, threading simply creates a new thread within the current process. It, therefore, uses fewer operating resources than alternatives. Your new thread shares all memory, including global variables, with the creating thread. The two threads are not truly concurrent, because the GIL means only one Python instruction can be running at once across all threads in a Python process.\n",
    "\n",
    "Finally, you cannot terminate a thread, so unless you plan to exit your whole Python process, you must provide the thread function with a way to exit. In the following exercise, you'll use a special signal value sent to a queue to exit the thread.\n",
    "\n",
    "### Exercise 12.3 Using the Threading Package\n",
    "In this exercise, you will use the threading module to complete the same task of squaring numbers as"
   ]
  },
  {
   "cell_type": "code",
   "execution_count": 1,
   "metadata": {},
   "outputs": [
    {
     "name": "stdout",
     "output_type": "stream",
     "text": [
      "0 squared is 0\n",
      "1 squared is 1\n",
      "2 squared is 4\n",
      "3 squared is 9\n",
      "4 squared is 16\n",
      "5 squared is 25\n",
      "6 squared is 36\n",
      "7 squared is 49\n",
      "8 squared is 64\n",
      "9 squared is 81\n"
     ]
    }
   ],
   "source": [
    "# Import threading and queue modules\n",
    "import threading\n",
    "import queue\n",
    "\n",
    "# Create two new queues to handle the communication between our processes\n",
    "in_queue = queue.Queue()\n",
    "out_queue = queue.Queue()\n",
    "\n",
    "# Create the function that will watch the queue for new numbers and return squared numbers. The if n == 'STOP' line allows you to terminate the thread by passing STOP into the in_queue object:\n",
    "def square_threading():\n",
    "    while True:\n",
    "        n = in_queue.get()\n",
    "        if n == 'STOP':\n",
    "            return\n",
    "        n_squared = n ** 2\n",
    "        out_queue.put(n_squared)\n",
    "        \n",
    "# Now, create and start a new thread:\n",
    "thread = threading.Thread(target = square_threading)\n",
    "thread.start()\n",
    "        \n",
    "# Loop through 10 numbers, pass them into the in_quew object, and receive them from the out_queue object as the expected output:\n",
    "for i in range(10):\n",
    "    in_queue.put(i)\n",
    "    i_squared = out_queue.get()\n",
    "    print(f\"{i} squared is {i_squared}\")\n",
    "in_queue.put('STOP')\n",
    "thread.join()"
   ]
  },
  {
   "cell_type": "markdown",
   "metadata": {},
   "source": [
    "## Parsing Command-Line Arguments in Scripts\n",
    "Python's standard library module for interpreting command-line arguments, argparse, supplies a host of features, making it easy to add argument handling to scripts in a fashion that is consistent with other tools. You can make arguments required or optional, have the user supply values for certain arguments, or define default values. argparse creates usage text, which the user can read using the --help argument, and checks the user-supplied arguments for validity.\n",
    "\n",
    "Using argparse is a four-step process. First, you create a parser object. Second, you add arguments your program accepts to the parser object. Third, tell the parser object to parse your script's argv (short for argument vector, the list of arguments that were supplied to the script on launch); it checks them for consistency and stores the values. Finally, use the object returned from the parser object in your script to access the values supplied in the arguments.  To run all of the exercises in this section, later on, you will need to type the Python code into the .py files and run them from your operating system's command line, not from a Jupyter notebook.\n",
    "\n",
    "### Exercise 12.4 Introducing argparse to Accept Input from the User\n",
    "In this exercise, you'll create a program that uses argparse to take a single input from the user called flag. If the flag input is not provided by the user, its value is False. If it is provided, its value is True. This exercise will be performed in a Python terminal:"
   ]
  },
  {
   "cell_type": "code",
   "execution_count": 6,
   "metadata": {},
   "outputs": [
    {
     "name": "stdout",
     "output_type": "stream",
     "text": [
      "/Users/nasserabdelghani/Desktop/DevOps-Original/Python_Workshop/The-Python-Workshop-master/Chapter09/Exercise124\n"
     ]
    }
   ],
   "source": [
    "%cd The-Python-Workshop-master/Chapter09/Exercise124/"
   ]
  },
  {
   "cell_type": "code",
   "execution_count": null,
   "metadata": {},
   "outputs": [],
   "source": [
    "# Create a new Python file called argparse_demo.py and add the following to it\n",
    "import argparse\n",
    "\n",
    "# Create a new parser object\n",
    "parser = argparse.ArgumentParser(description=\"Interpret a Boolean flag.\")\n",
    "\n",
    "# Add an argument that will allow the user to pass through the -flag argument when the execute the program:\n",
    "parser.add_argument('--flag', dest='flag', action='store_true', help='Set the flag value to True.')\n",
    "\n",
    "# Now call the parse_args() method, which executes the actual processing of the argument\n",
    "arguments = parser.parse_args()\n",
    "\n",
    "# Now, print the value of the argument to see whether it worked:\n",
    "print(f\"The flag's value is {arguments.flag}\")"
   ]
  },
  {
   "cell_type": "code",
   "execution_count": 9,
   "metadata": {},
   "outputs": [
    {
     "name": "stdout",
     "output_type": "stream",
     "text": [
      "The flag's value is False\n"
     ]
    }
   ],
   "source": [
    "# Execute the file with no arguments supplied; the value of arguments.flag should be False:\n",
    "!python argparse_demo.py"
   ]
  },
  {
   "cell_type": "code",
   "execution_count": 11,
   "metadata": {},
   "outputs": [
    {
     "name": "stdout",
     "output_type": "stream",
     "text": [
      "The flag's value is True\n"
     ]
    }
   ],
   "source": [
    "# Now, run the script again, with the --flag argument, to set it to True:\n",
    "!python argparse_demo.py --flag"
   ]
  },
  {
   "cell_type": "code",
   "execution_count": 13,
   "metadata": {},
   "outputs": [
    {
     "name": "stdout",
     "output_type": "stream",
     "text": [
      "usage: argparse_demo.py [-h] [--flag]\n",
      "\n",
      "Interpret a Boolean flag.\n",
      "\n",
      "optional arguments:\n",
      "  -h, --help  show this help message and exit\n",
      "  --flag      Set the flag value to True.\n"
     ]
    }
   ],
   "source": [
    "# See the help text that argparse extracted from the description and help text you supplied:\n",
    "!python argparse_demo.py --help"
   ]
  },
  {
   "cell_type": "markdown",
   "metadata": {},
   "source": [
    "### Positional Arguments\n",
    "Some scripts have arguments that are fundamental to their operation. For example, a script that copies a file always needs to know the source file and destination file. It would be inefficient to repetitively type out the names of the arguments; for instance, python copyfile.py --source infile --destination outfile, every time you use the script.\n",
    "\n",
    "You can use positional arguments to define arguments that the user does not name but always provides in a particular order. The difference between a positional and a named argument is that a named argument starts with a hyphen (-), such as --flag in Exercise 12.4, Introducing argparse to Accept Input from the User. A positional argument does not start with a hyphen.\n",
    "\n",
    "### Exercise 12.5 Using Positional Arguments to Accept Source and Destination Inputs from a User\n",
    "In this exercise, you will create a program that uses argparse to take two inputs from the user: source and destination."
   ]
  },
  {
   "cell_type": "code",
   "execution_count": 18,
   "metadata": {},
   "outputs": [],
   "source": [
    "# Create a new file called postional_args.py and add the following to it:\n",
    "\n",
    "# Import argparse library\n",
    "import argparse\n",
    "\n",
    "# Create a new argparse object:\n",
    "parser = argparse.ArgumentParser(description=\"Interpret positional arguments.\")\n",
    "\n",
    "# Add two arguments for the source and destination values\n",
    "parser.add_argument('source', action='store', help='The source of an operation.')\n",
    "parser.add_argument('dest', action='store', help='The destination of the operation.')\n",
    "\n",
    "# Call the parse_args() method, which executes the actual processing of arguments:\n",
    "arguments = parser.parse_args()\n",
    "\n",
    "# Now, print the value of arguments so that you can see whether it worked:\n",
    "print(f\"Picasso will cycle from {arguments.source} to {arguments.dest}\")"
   ]
  },
  {
   "cell_type": "code",
   "execution_count": 19,
   "metadata": {},
   "outputs": [
    {
     "name": "stdout",
     "output_type": "stream",
     "text": [
      "usage: positional_args.py [-h] source dest\n",
      "positional_args.py: error: the following arguments are required: source, dest\n"
     ]
    }
   ],
   "source": [
    "# Now execute the file while using this script with no arguments, which causes an error because it expects two positional arguments:\n",
    "!python positional_args.py"
   ]
  },
  {
   "cell_type": "code",
   "execution_count": 20,
   "metadata": {},
   "outputs": [
    {
     "name": "stdout",
     "output_type": "stream",
     "text": [
      "Picasso will cycle from Chichester to Battersea\n"
     ]
    }
   ],
   "source": [
    "# Try running the script and specifying two locations as the source and destination positional arguments.\n",
    "# Note:  The arguments are supplied on the command line with no names or leading hyphens.\n",
    "\n",
    "!python positional_args.py Chichester Battersea"
   ]
  },
  {
   "cell_type": "markdown",
   "metadata": {},
   "source": [
    "## Performance and Profiling"
   ]
  },
  {
   "cell_type": "markdown",
   "metadata": {},
   "source": [
    "### PyPy\n",
    "You will now look in more detail at another Python environment. It's called pypy, and Guido van Rossum (Python's creator) has said: \"If you want your code to run faster, you should probably just use PyPy.\"\n",
    "\n",
    "PyPy's secret is Just-in-time (JIT) compilation, which compiles the Python program to a machine language such as Cython but does it while the program is running rather than once on the developer's machine (called ahead-of-time, or AOT, compilation). For a long-running process, a JIT compiler can try different strategies to compile the same code and find the ones that work best in the program's environment. The program will quickly get faster until the best version the compiler can find is running. Take a look at PyPy in the following exercise.\n",
    "\n",
    "### Exercise 12.6: Using PyPy to Find the Time to Get a List of Prime Numbers\n",
    "In this exercise, you will be executing a Python program to get a list of prime numbers using milliamp-hours. But remember that you are more interested in checking the amount of time needed to execute the program using pypy.\n",
    "\n",
    "This exercise will be performed in a Python terminal.\n",
    "\n",
    "Note: You need to install pypy for your operating system. Go to https://pypy.org/download.html and make sure to get the version that is compatible with Python 3.7."
   ]
  },
  {
   "cell_type": "code",
   "execution_count": 34,
   "metadata": {},
   "outputs": [
    {
     "name": "stdout",
     "output_type": "stream",
     "text": [
      "total 77632\n",
      "drwxr-xr-x@  6 nasserabdelghani  staff       192 Nov 21 08:40 \u001b[34m.\u001b[m\u001b[m\n",
      "drwxr-xr-x@ 10 nasserabdelghani  staff       320 Dec 31 15:51 \u001b[34m..\u001b[m\u001b[m\n",
      "-rwxr-xr-x@  1 nasserabdelghani  staff  38667392 Nov 18 04:17 \u001b[31mlibpypy3-c.dylib\u001b[m\u001b[m\n",
      "lrwxrwxrwx@  1 nasserabdelghani  staff         5 Nov 18 04:17 \u001b[35mpypy\u001b[m\u001b[m -> pypy3\n",
      "-rwxr-xr-x@  1 nasserabdelghani  staff     33272 Nov 18 04:17 \u001b[31mpypy3\u001b[m\u001b[m\n",
      "lrwxrwxrwx@  1 nasserabdelghani  staff         5 Nov 18 04:17 \u001b[35mpypy3.7\u001b[m\u001b[m -> pypy3\n"
     ]
    }
   ],
   "source": [
    "!ls -la"
   ]
  },
  {
   "cell_type": "markdown",
   "metadata": {},
   "source": [
    "## Peodilinf\n",
    "cProfile is a module that builds an execution profile of your code. Every time your Python program enters or exits a function or other callable, cProfile records what it is and how long it takes. It's then up to you to work out how it could spend less time doing that. Remember to compare a profile recorded before your change with one recorded after, to make sure you improved things! As you'll see in the next exercise, not all \"optimizations\" actually make your code faster, and careful measurement and thought are needed to decide whether the optimization is worth pursuing and retaining. In practice, cProfile is often used when trying to understand why code is taking longer than expected to execute. For example, you might write an iterative calculation that suddenly takes 10 minutes to compute after scaling to 1,000 iterations. With cProfile, you might discover that this is due to some inefficient function in the pandas library, which you could potentially avoid to speed up your code.\n",
    "\n",
    "### Profiling with cProfile\n",
    "The goal of this example is to learn how to diagnose code performance using cProfile. In particular, to understand which parts of your code are taking the most time to execute.\n",
    "\n",
    "This is a pretty long example, and the point is not to make sure that you type in and understand the code but to understand the process of profiling, to consider changes, and to observe the effects those changes have on the profile. This example will be performed on the command line:\n",
    "\n"
   ]
  },
  {
   "cell_type": "code",
   "execution_count": 45,
   "metadata": {},
   "outputs": [],
   "source": [
    "# Start with the code you wrote in chapter 7, Becoming Pythonic, to generate an infinite series of prime numbers:\n",
    "class Primes:\n",
    "    def __init__(self):\n",
    "        self.current = 2\n",
    "    \n",
    "    def __iter__(self):\n",
    "        return self\n",
    "    \n",
    "    def __next__(self):\n",
    "        while True:\n",
    "            current = self.current\n",
    "            square_root = int(current ** 0.5)\n",
    "            is_prime = True\n",
    "            if square_root >= 2:\n",
    "                for i in range(2, square_root + 1):\n",
    "                    if current % i == 0:\n",
    "                        is_prime = False\n",
    "                        break\n",
    "            self.current += 1\n",
    "            if is_prime:\n",
    "                return current"
   ]
  },
  {
   "cell_type": "code",
   "execution_count": 46,
   "metadata": {},
   "outputs": [
    {
     "name": "stdout",
     "output_type": "stream",
     "text": [
      "         2466 function calls in 0.011 seconds\n",
      "\n",
      "   Ordered by: standard name\n",
      "\n",
      "   ncalls  tottime  percall  cumtime  percall filename:lineno(function)\n",
      "        1    0.000    0.000    0.000    0.000 <ipython-input-45-713bdbd3e51a>:3(__init__)\n",
      "        1    0.000    0.000    0.000    0.000 <ipython-input-45-713bdbd3e51a>:6(__iter__)\n",
      "     1230    0.010    0.000    0.010    0.000 <ipython-input-45-713bdbd3e51a>:9(__next__)\n",
      "     1230    0.000    0.000    0.000    0.000 <string>:1(<lambda>)\n",
      "        1    0.000    0.000    0.011    0.011 <string>:1(<listcomp>)\n",
      "        1    0.000    0.000    0.011    0.011 <string>:1(<module>)\n",
      "        1    0.000    0.000    0.011    0.011 {built-in method builtins.exec}\n",
      "        1    0.000    0.000    0.000    0.000 {method 'disable' of '_lsprof.Profiler' objects}\n",
      "\n",
      "\n"
     ]
    }
   ],
   "source": [
    "# Use itertools.takewhile() to turn this into a finite sequence to generate a large\n",
    "# list of primes and use cProfile to investigate its performmance.\n",
    "\n",
    "import cProfile\n",
    "import itertools\n",
    "cProfile.run('[p for p in itertools.takewhile(lambda x: x<10000, Primes())]')"
   ]
  },
  {
   "cell_type": "markdown",
   "metadata": {},
   "source": [
    "The __next__() function is called most often, which is not surprising as it is the iterative part of the iteration. It also takes up most of the execution time in the profile. So, is there a way to make it faster?\n",
    "\n",
    "One hypothesis is that the method does a lot of redundant divisions. Imagine that the number 101 is being tested as a prime number. This implementation tests whether it is divisible by 2 (no), then 3 (no), and then 4, but 4 is a multiple of 2, and you know it isn't divisible by 2.\n",
    "\n",
    "As a hypothesis, change the __next__() method so that it only searches the list of known prime numbers. You know that if the number being tested is divisible by any smaller numbers, at least one of those numbers is itself prime:"
   ]
  },
  {
   "cell_type": "code",
   "execution_count": 47,
   "metadata": {},
   "outputs": [
    {
     "name": "stdout",
     "output_type": "stream",
     "text": [
      "         23708 function calls in 0.295 seconds\n",
      "\n",
      "   Ordered by: standard name\n",
      "\n",
      "   ncalls  tottime  percall  cumtime  percall filename:lineno(function)\n",
      "    10006    0.287    0.000    0.287    0.000 <ipython-input-47-243755726fd7>:12(<listcomp>)\n",
      "        1    0.000    0.000    0.000    0.000 <ipython-input-47-243755726fd7>:2(__init__)\n",
      "        1    0.000    0.000    0.000    0.000 <ipython-input-47-243755726fd7>:6(__iter__)\n",
      "     1230    0.007    0.000    0.295    0.000 <ipython-input-47-243755726fd7>:9(__next__)\n",
      "     1230    0.000    0.000    0.000    0.000 <string>:1(<lambda>)\n",
      "        1    0.001    0.001    0.295    0.295 <string>:1(<listcomp>)\n",
      "        1    0.000    0.000    0.295    0.295 <string>:1(<module>)\n",
      "        1    0.000    0.000    0.295    0.295 {built-in method builtins.exec}\n",
      "    10006    0.001    0.000    0.001    0.000 {built-in method builtins.len}\n",
      "     1230    0.000    0.000    0.000    0.000 {method 'append' of 'list' objects}\n",
      "        1    0.000    0.000    0.000    0.000 {method 'disable' of '_lsprof.Profiler' objects}\n",
      "\n",
      "\n"
     ]
    }
   ],
   "source": [
    "class Primes2:\n",
    "    def __init__(self):\n",
    "        self.known_primes=[]\n",
    "        self.current=2\n",
    "    \n",
    "    def __iter__(self):\n",
    "        return self\n",
    "    \n",
    "    def __next__(self):\n",
    "        while True:\n",
    "            current = self.current\n",
    "            prime_factors = [p for p in self.known_primes if current % p == 0]\n",
    "            self.current += 1\n",
    "            if len(prime_factors) == 0:\n",
    "                self.known_primes.append(current)\n",
    "                return current\n",
    "            \n",
    "cProfile.run('[p for p in itertools.takewhile(lambda x: x<10000, Primes2())]')"
   ]
  },
  {
   "cell_type": "markdown",
   "metadata": {},
   "source": [
    "Now, __next()__ isn't the most frequently called function in the profile, but that's not a good thing. Instead, you've introduced a list comprehension that gets called even more times, and the whole process takes 30 times longer than it used to.\n",
    "\n",
    "One thing that changed in the switch from testing a range of factors to the list of known primes is that the upper bound of tested numbers is no longer the square root of the candidate prime. Going back to thinking about testing whether 101 is prime, the first implementation tested all numbers between 2 and 10. The new one tests all primes from 2 to 97 and is therefore doing more work. Reintroduce the square root upper limit, using takewhile to filter the list of primes:"
   ]
  },
  {
   "cell_type": "code",
   "execution_count": 48,
   "metadata": {},
   "outputs": [
    {
     "name": "stdout",
     "output_type": "stream",
     "text": [
      "         291158 function calls in 0.071 seconds\n",
      "\n",
      "   Ordered by: standard name\n",
      "\n",
      "   ncalls  tottime  percall  cumtime  percall filename:lineno(function)\n",
      "   267345    0.020    0.000    0.020    0.000 <ipython-input-48-5894f021bbdc>:13(<lambda>)\n",
      "    10006    0.040    0.000    0.060    0.000 <ipython-input-48-5894f021bbdc>:14(<listcomp>)\n",
      "        1    0.000    0.000    0.000    0.000 <ipython-input-48-5894f021bbdc>:2(__init__)\n",
      "        1    0.000    0.000    0.000    0.000 <ipython-input-48-5894f021bbdc>:6(__iter__)\n",
      "     1265    0.009    0.000    0.070    0.000 <ipython-input-48-5894f021bbdc>:9(__next__)\n",
      "     1265    0.000    0.000    0.000    0.000 <string>:1(<lambda>)\n",
      "        1    0.001    0.001    0.071    0.071 <string>:1(<listcomp>)\n",
      "        1    0.000    0.000    0.071    0.071 <string>:1(<module>)\n",
      "        1    0.000    0.000    0.071    0.071 {built-in method builtins.exec}\n",
      "    10006    0.001    0.000    0.001    0.000 {built-in method builtins.len}\n",
      "     1265    0.000    0.000    0.000    0.000 {method 'append' of 'list' objects}\n",
      "        1    0.000    0.000    0.000    0.000 {method 'disable' of '_lsprof.Profiler' objects}\n",
      "\n",
      "\n"
     ]
    }
   ],
   "source": [
    "class Primes3:\n",
    "    def __init__(self):\n",
    "        self.known_primes=[]\n",
    "        self.current=2\n",
    "        \n",
    "    def __iter__(self):\n",
    "        return self\n",
    "    \n",
    "    def __next__(self):\n",
    "        while True:\n",
    "            current = self.current\n",
    "            sqrt_current = int(current ** 0.5)\n",
    "            potential_factors = itertools.takewhile(lambda x: x < sqrt_current, self.known_primes)\n",
    "            prime_factors = [p for p in potential_factors if current % p == 0]\n",
    "            self.current += 1\n",
    "            if len(prime_factors) == 0:\n",
    "                self.known_primes.append(current)\n",
    "                return current\n",
    "            \n",
    "cProfile.run('[p for p in itertools.takewhile(lambda x: x<10000, Primes3())]')"
   ]
  },
  {
   "cell_type": "markdown",
   "metadata": {},
   "source": [
    "Much better. Well, much better than Primes2 anyway. This still takes seven times longer than the original algorithm. There's still one trick to try. The biggest contribution to the execution time is the list comprehension on line 12. By turning that into a for loop, it's possible to break the loop early by exiting as soon as a prime factor for the candidate prime is found:"
   ]
  },
  {
   "cell_type": "code",
   "execution_count": 49,
   "metadata": {},
   "outputs": [
    {
     "name": "stdout",
     "output_type": "stream",
     "text": [
      "         64802 function calls in 0.019 seconds\n",
      "\n",
      "   Ordered by: standard name\n",
      "\n",
      "   ncalls  tottime  percall  cumtime  percall filename:lineno(function)\n",
      "    61001    0.005    0.000    0.005    0.000 <ipython-input-49-5c24c33a584e>:13(<lambda>)\n",
      "        1    0.000    0.000    0.000    0.000 <ipython-input-49-5c24c33a584e>:2(__init__)\n",
      "        1    0.000    0.000    0.000    0.000 <ipython-input-49-5c24c33a584e>:6(__iter__)\n",
      "     1265    0.013    0.000    0.018    0.000 <ipython-input-49-5c24c33a584e>:9(__next__)\n",
      "     1265    0.000    0.000    0.000    0.000 <string>:1(<lambda>)\n",
      "        1    0.000    0.000    0.019    0.019 <string>:1(<listcomp>)\n",
      "        1    0.000    0.000    0.019    0.019 <string>:1(<module>)\n",
      "        1    0.000    0.000    0.019    0.019 {built-in method builtins.exec}\n",
      "     1265    0.000    0.000    0.000    0.000 {method 'append' of 'list' objects}\n",
      "        1    0.000    0.000    0.000    0.000 {method 'disable' of '_lsprof.Profiler' objects}\n",
      "\n",
      "\n"
     ]
    }
   ],
   "source": [
    "class Primes4:\n",
    "    def __init__(self):\n",
    "        self.known_primes=[]\n",
    "        self.current=2\n",
    "        \n",
    "    def __iter__(self):\n",
    "        return self\n",
    "    \n",
    "    def __next__(self):\n",
    "        while True:\n",
    "            current = self.current\n",
    "            sqrt_current = int(current ** 0.5)\n",
    "            potential_factors = itertools.takewhile(lambda x: x < sqrt_current, self.known_primes)\n",
    "            is_prime = True\n",
    "            for p in potential_factors:\n",
    "                if current % p == 0:\n",
    "                    is_prime = False\n",
    "                    break\n",
    "            self.current += 1\n",
    "            if is_prime == True:\n",
    "                self.known_primes.append(current)\n",
    "                return current\n",
    "            \n",
    "cProfile.run('[p for p in itertools.takewhile(lambda x: x<10000, Primes4())]')"
   ]
  },
  {
   "cell_type": "code",
   "execution_count": null,
   "metadata": {},
   "outputs": [],
   "source": []
  },
  {
   "cell_type": "code",
   "execution_count": null,
   "metadata": {},
   "outputs": [],
   "source": []
  },
  {
   "cell_type": "code",
   "execution_count": null,
   "metadata": {},
   "outputs": [],
   "source": []
  },
  {
   "cell_type": "code",
   "execution_count": null,
   "metadata": {},
   "outputs": [],
   "source": []
  },
  {
   "cell_type": "code",
   "execution_count": null,
   "metadata": {},
   "outputs": [],
   "source": []
  }
 ],
 "metadata": {
  "kernelspec": {
   "display_name": "Python 3",
   "language": "python",
   "name": "python3"
  },
  "language_info": {
   "codemirror_mode": {
    "name": "ipython",
    "version": 3
   },
   "file_extension": ".py",
   "mimetype": "text/x-python",
   "name": "python",
   "nbconvert_exporter": "python",
   "pygments_lexer": "ipython3",
   "version": "3.8.5"
  }
 },
 "nbformat": 4,
 "nbformat_minor": 4
}
